{
 "cells": [
  {
   "cell_type": "code",
   "id": "initial_id",
   "metadata": {
    "collapsed": true,
    "ExecuteTime": {
     "end_time": "2024-10-30T10:49:36.747164Z",
     "start_time": "2024-10-30T10:49:36.741614Z"
    }
   },
   "source": [
    "import pandas as pd\n",
    "import numpy as np\n",
    "import seaborn as sns\n"
   ],
   "outputs": [],
   "execution_count": 67
  },
  {
   "metadata": {
    "ExecuteTime": {
     "end_time": "2024-10-30T10:49:36.770994Z",
     "start_time": "2024-10-30T10:49:36.766912Z"
    }
   },
   "cell_type": "code",
   "source": [
    "# центр распределения\n",
    "mu = 100\n",
    "# стандартное отклонение\n",
    "sigma = 10"
   ],
   "id": "d3e3cd14561b0a5e",
   "outputs": [],
   "execution_count": 68
  },
  {
   "metadata": {
    "ExecuteTime": {
     "end_time": "2024-10-30T10:49:36.798567Z",
     "start_time": "2024-10-30T10:49:36.790002Z"
    }
   },
   "cell_type": "code",
   "source": "population = np.random.normal(mu, sigma, 10000)",
   "id": "c1bff4f31769f2ca",
   "outputs": [],
   "execution_count": 69
  },
  {
   "metadata": {
    "ExecuteTime": {
     "end_time": "2024-10-30T10:49:36.899931Z",
     "start_time": "2024-10-30T10:49:36.810145Z"
    }
   },
   "cell_type": "code",
   "source": "sns.distplot(population, kde=False)",
   "id": "44f4cc5fae16d70c",
   "outputs": [
    {
     "name": "stderr",
     "output_type": "stream",
     "text": [
      "/var/folders/0j/pkqm7lkj51q36ym3pm5x92n00000gn/T/ipykernel_83238/4022840995.py:1: UserWarning: \n",
      "\n",
      "`distplot` is a deprecated function and will be removed in seaborn v0.14.0.\n",
      "\n",
      "Please adapt your code to use either `displot` (a figure-level function with\n",
      "similar flexibility) or `histplot` (an axes-level function for histograms).\n",
      "\n",
      "For a guide to updating your code to use the new functions, please see\n",
      "https://gist.github.com/mwaskom/de44147ed2974457ad6372750bbe5751\n",
      "\n",
      "  sns.distplot(population, kde=False)\n"
     ]
    },
    {
     "data": {
      "text/plain": [
       "<Axes: >"
      ]
     },
     "execution_count": 70,
     "metadata": {},
     "output_type": "execute_result"
    },
    {
     "data": {
      "text/plain": [
       "<Figure size 640x480 with 1 Axes>"
      ],
      "image/png": "[encoded data removed]"
     },
     "metadata": {},
     "output_type": "display_data"
    }
   ],
   "execution_count": 70
  },
  {
   "metadata": {
    "ExecuteTime": {
     "end_time": "2024-10-30T10:49:36.910355Z",
     "start_time": "2024-10-30T10:49:36.907756Z"
    }
   },
   "cell_type": "code",
   "source": "sample_size = 30",
   "id": "e29f22dac4c644f0",
   "outputs": [],
   "execution_count": 71
  },
  {
   "metadata": {
    "ExecuteTime": {
     "end_time": "2024-10-30T10:49:36.927918Z",
     "start_time": "2024-10-30T10:49:36.924232Z"
    }
   },
   "cell_type": "code",
   "source": "np.random.choice(population, sample_size, False)",
   "id": "e36a60f5809d2a42",
   "outputs": [
    {
     "data": {
      "text/plain": [
       "array([ 89.50213411,  95.34047851, 108.15019358, 100.78731082,\n",
       "        96.9592603 ,  92.64236366,  99.52604125, 113.27197659,\n",
       "        91.28888838, 109.51585666, 107.01341403,  89.17819046,\n",
       "       101.95347612, 110.6428278 , 102.88339128,  94.73242262,\n",
       "       113.05457906, 104.85940666,  91.48819333, 104.12894693,\n",
       "       115.10001363, 111.34698188, 123.51191867,  97.04662334,\n",
       "        97.39445322, 102.13215809, 106.01708782,  98.39497956,\n",
       "        94.78514699,  97.50803146])"
      ]
     },
     "execution_count": 72,
     "metadata": {},
     "output_type": "execute_result"
    }
   ],
   "execution_count": 72
  },
  {
   "metadata": {
    "ExecuteTime": {
     "end_time": "2024-10-30T10:49:36.949936Z",
     "start_time": "2024-10-30T10:49:36.947017Z"
    }
   },
   "cell_type": "code",
   "source": [
    "# центр распределения (мы его также задавали)\n",
    "population.mean()"
   ],
   "id": "f8b35b9128191d28",
   "outputs": [
    {
     "data": {
      "text/plain": [
       "np.float64(99.85337952333093)"
      ]
     },
     "execution_count": 73,
     "metadata": {},
     "output_type": "execute_result"
    }
   ],
   "execution_count": 73
  },
  {
   "metadata": {
    "ExecuteTime": {
     "end_time": "2024-10-30T10:49:36.972743Z",
     "start_time": "2024-10-30T10:49:36.970098Z"
    }
   },
   "cell_type": "code",
   "source": [
    "# стандартное отклонение (мы его задавали)\n",
    "population.std()"
   ],
   "id": "26eb2d0d5a632570",
   "outputs": [
    {
     "data": {
      "text/plain": [
       "np.float64(9.965327408074337)"
      ]
     },
     "execution_count": 74,
     "metadata": {},
     "output_type": "execute_result"
    }
   ],
   "execution_count": 74
  },
  {
   "metadata": {
    "ExecuteTime": {
     "end_time": "2024-10-30T10:49:36.995247Z",
     "start_time": "2024-10-30T10:49:36.993365Z"
    }
   },
   "cell_type": "code",
   "source": [
    "# тут мы берем выборку из популяции в 30 человек и считаем среднее\n",
    "sample_size = 30"
   ],
   "id": "d338642410530351",
   "outputs": [],
   "execution_count": 75
  },
  {
   "metadata": {
    "ExecuteTime": {
     "end_time": "2024-10-30T10:49:37.008809Z",
     "start_time": "2024-10-30T10:49:37.005526Z"
    }
   },
   "cell_type": "code",
   "source": "sample = np.random.choice(population, sample_size, False)",
   "id": "7a3f975cbe1e2001",
   "outputs": [],
   "execution_count": 76
  },
  {
   "metadata": {
    "ExecuteTime": {
     "end_time": "2024-10-30T10:49:37.017938Z",
     "start_time": "2024-10-30T10:49:37.015022Z"
    }
   },
   "cell_type": "code",
   "source": "sample.mean()",
   "id": "64ee27840dbb9905",
   "outputs": [
    {
     "data": {
      "text/plain": [
       "np.float64(101.2166648888603)"
      ]
     },
     "execution_count": 77,
     "metadata": {},
     "output_type": "execute_result"
    }
   ],
   "execution_count": 77
  },
  {
   "metadata": {
    "ExecuteTime": {
     "end_time": "2024-10-30T10:49:37.036166Z",
     "start_time": "2024-10-30T10:49:37.034549Z"
    }
   },
   "cell_type": "code",
   "source": "",
   "id": "e7398f04dc0eb096",
   "outputs": [],
   "execution_count": null
  },
  {
   "metadata": {
    "ExecuteTime": {
     "end_time": "2024-10-30T10:49:37.067714Z",
     "start_time": "2024-10-30T10:49:37.066067Z"
    }
   },
   "cell_type": "code",
   "source": [
    "# тут из популяции берем 1000 рандомных значений и запихиываем в список\n",
    "sample_means = []"
   ],
   "id": "54b7c4199feae0d1",
   "outputs": [],
   "execution_count": 78
  },
  {
   "metadata": {
    "ExecuteTime": {
     "end_time": "2024-10-30T10:49:37.084926Z",
     "start_time": "2024-10-30T10:49:37.082793Z"
    }
   },
   "cell_type": "code",
   "source": "n = 1000",
   "id": "da4dad31f699dbed",
   "outputs": [],
   "execution_count": 79
  },
  {
   "metadata": {
    "ExecuteTime": {
     "end_time": "2024-10-30T10:49:37.221053Z",
     "start_time": "2024-10-30T10:49:37.106779Z"
    }
   },
   "cell_type": "code",
   "source": [
    "# мы берем по 30 выборок из популяции и делаем из них одно среднее значение и делаем так 1000 раз\n",
    "for i in range(n):\n",
    "    sample = np.random.choice(population, sample_size, False)\n",
    "    sample_means.append(sample.mean())"
   ],
   "id": "e964008a2c554560",
   "outputs": [],
   "execution_count": 80
  },
  {
   "metadata": {
    "ExecuteTime": {
     "end_time": "2024-10-30T10:49:37.519888Z",
     "start_time": "2024-10-30T10:49:37.517119Z"
    }
   },
   "cell_type": "code",
   "source": [
    "# стандартное отклонение выборки\n",
    "np.std(sample_means)"
   ],
   "id": "14bcc0b3e12c3b74",
   "outputs": [
    {
     "data": {
      "text/plain": [
       "np.float64(1.8093406159457732)"
      ]
     },
     "execution_count": 86,
     "metadata": {},
     "output_type": "execute_result"
    }
   ],
   "execution_count": 86
  },
  {
   "metadata": {
    "ExecuteTime": {
     "end_time": "2024-11-01T15:15:23.833668Z",
     "start_time": "2024-11-01T15:15:23.515544Z"
    }
   },
   "cell_type": "code",
   "source": "sns.histplot(sample_means, kde=False)",
   "id": "cea42e58f6748bea",
   "outputs": [
    {
     "data": {
      "text/plain": [
       "<Axes: ylabel='Count'>"
      ]
     },
     "execution_count": 114,
     "metadata": {},
     "output_type": "execute_result"
    },
    {
     "data": {
      "text/plain": [
       "<Figure size 640x480 with 1 Axes>"
      ],
      "image/png": "[encoded data removed]"
     },
     "metadata": {},
     "output_type": "display_data"
    }
   ],
   "execution_count": 114
  },
  {
   "metadata": {
    "ExecuteTime": {
     "end_time": "2024-10-30T10:49:37.407672Z",
     "start_time": "2024-10-30T10:49:37.404418Z"
    }
   },
   "cell_type": "code",
   "outputs": [],
   "execution_count": 82,
   "source": "# правило трех сигм - 100% в этом диапазоне",
   "id": "5580b4a2390d1d43"
  },
  {
   "metadata": {
    "ExecuteTime": {
     "end_time": "2024-10-30T10:49:37.425735Z",
     "start_time": "2024-10-30T10:49:37.424096Z"
    }
   },
   "cell_type": "code",
   "outputs": [],
   "execution_count": 83,
   "source": "# правило 1.96 сигм - 95% в этом диапазоне",
   "id": "90838dfbaf5ca493"
  },
  {
   "metadata": {
    "ExecuteTime": {
     "end_time": "2024-10-30T10:49:37.449346Z",
     "start_time": "2024-10-30T10:49:37.447707Z"
    }
   },
   "cell_type": "code",
   "outputs": [],
   "execution_count": 84,
   "source": "# (стандартная ошибка) se = sigma / корень (n)",
   "id": "4797618976aca993"
  },
  {
   "metadata": {
    "ExecuteTime": {
     "end_time": "2024-10-30T10:51:23.745368Z",
     "start_time": "2024-10-30T10:51:23.729169Z"
    }
   },
   "cell_type": "code",
   "outputs": [
    {
     "data": {
      "text/plain": [
       "np.float64(9.965327408074337)"
      ]
     },
     "execution_count": 88,
     "metadata": {},
     "output_type": "execute_result"
    }
   ],
   "execution_count": 88,
   "source": "",
   "id": "dfd41483c5ce6a60"
  },
  {
   "metadata": {
    "ExecuteTime": {
     "end_time": "2024-10-30T10:50:03.798172Z",
     "start_time": "2024-10-30T10:50:03.790023Z"
    }
   },
   "cell_type": "code",
   "outputs": [
    {
     "data": {
      "text/plain": [
       "np.float64(1.8194115381089346)"
      ]
     },
     "execution_count": 87,
     "metadata": {},
     "output_type": "execute_result"
    }
   ],
   "execution_count": 87,
   "source": [
    "# стандартная ошибка от всей популяции\n",
    "se = population.std() / sample_size ** 0.5\n",
    "se"
   ],
   "id": "a4fb78a207a8814c"
  },
  {
   "metadata": {
    "ExecuteTime": {
     "end_time": "2024-10-30T12:34:44.029656Z",
     "start_time": "2024-10-30T12:34:43.991040Z"
    }
   },
   "cell_type": "code",
   "source": [
    "np.std(sample_means)\n",
    "population.mean() + 1.96 * se"
   ],
   "id": "6d776214d6983f6c",
   "outputs": [
    {
     "data": {
      "text/plain": [
       "np.float64(103.41942613802443)"
      ]
     },
     "execution_count": 100,
     "metadata": {},
     "output_type": "execute_result"
    }
   ],
   "execution_count": 100
  },
  {
   "metadata": {
    "ExecuteTime": {
     "end_time": "2024-10-30T12:34:44.768478Z",
     "start_time": "2024-10-30T12:34:44.757681Z"
    }
   },
   "cell_type": "code",
   "source": "population.mean() - 1.96 * se",
   "id": "1a38a5ac9acbb38e",
   "outputs": [
    {
     "data": {
      "text/plain": [
       "np.float64(96.28733290863742)"
      ]
     },
     "execution_count": 101,
     "metadata": {},
     "output_type": "execute_result"
    }
   ],
   "execution_count": 101
  },
  {
   "metadata": {
    "ExecuteTime": {
     "end_time": "2024-10-30T11:02:24.623058Z",
     "start_time": "2024-10-30T11:02:24.620384Z"
    }
   },
   "cell_type": "code",
   "source": "# стандартное отклонение выборки\n",
   "id": "76bd7ab9b3ec1463",
   "outputs": [],
   "execution_count": 99
  },
  {
   "metadata": {
    "ExecuteTime": {
     "end_time": "2024-10-30T11:02:25.032606Z",
     "start_time": "2024-10-30T11:02:25.031163Z"
    }
   },
   "cell_type": "code",
   "source": "",
   "id": "337c8638eb90d89f",
   "outputs": [],
   "execution_count": null
  },
  {
   "metadata": {},
   "cell_type": "code",
   "outputs": [],
   "execution_count": null,
   "source": "# ===============",
   "id": "db26b37767055dce"
  },
  {
   "metadata": {
    "ExecuteTime": {
     "end_time": "2024-10-30T12:36:45.035964Z",
     "start_time": "2024-10-30T12:36:45.010595Z"
    }
   },
   "cell_type": "code",
   "source": "sample_real = np.random.choice(population, sample_size, False)",
   "id": "aa35477015ba441",
   "outputs": [],
   "execution_count": 102
  },
  {
   "metadata": {
    "ExecuteTime": {
     "end_time": "2024-10-30T12:36:45.301311Z",
     "start_time": "2024-10-30T12:36:45.296054Z"
    }
   },
   "cell_type": "code",
   "source": "sample_real",
   "id": "2ed7085c3f589b01",
   "outputs": [
    {
     "data": {
      "text/plain": [
       "array([101.72745504, 102.45724508, 115.08085232, 111.53727826,\n",
       "        93.65634636, 103.68937031,  97.93796198, 110.616641  ,\n",
       "        88.98661543, 125.99249689,  84.47170964, 107.76306885,\n",
       "        94.41173528,  88.92476637, 105.04671724,  84.13108525,\n",
       "       104.85940666,  94.69944682, 107.13128415, 104.571486  ,\n",
       "        98.68719721, 109.73882946,  85.77919541, 103.1749822 ,\n",
       "        95.92951453, 105.93315927, 109.46735309,  92.56751538,\n",
       "        92.32512541, 107.89050229])"
      ]
     },
     "execution_count": 103,
     "metadata": {},
     "output_type": "execute_result"
    }
   ],
   "execution_count": 103
  },
  {
   "metadata": {
    "ExecuteTime": {
     "end_time": "2024-10-30T12:37:03.233936Z",
     "start_time": "2024-10-30T12:37:03.220743Z"
    }
   },
   "cell_type": "code",
   "source": "sample_real.mean()",
   "id": "a75c00c8153762b8",
   "outputs": [
    {
     "data": {
      "text/plain": [
       "np.float64(100.9728781059969)"
      ]
     },
     "execution_count": 104,
     "metadata": {},
     "output_type": "execute_result"
    }
   ],
   "execution_count": 104
  },
  {
   "metadata": {
    "ExecuteTime": {
     "end_time": "2024-10-30T13:01:31.008750Z",
     "start_time": "2024-10-30T13:01:30.990590Z"
    }
   },
   "cell_type": "code",
   "source": "sample_real.std()",
   "id": "3da970f37d5fff19",
   "outputs": [
    {
     "data": {
      "text/plain": [
       "np.float64(9.646444327841262)"
      ]
     },
     "execution_count": 105,
     "metadata": {},
     "output_type": "execute_result"
    }
   ],
   "execution_count": 105
  },
  {
   "metadata": {
    "ExecuteTime": {
     "end_time": "2024-10-30T13:01:49.490551Z",
     "start_time": "2024-10-30T13:01:49.483763Z"
    }
   },
   "cell_type": "code",
   "source": [
    "# оценка стандартной ошибки выборочных средних\n",
    "se = sample_real.std() / sample_size ** 0.5"
   ],
   "id": "7c0a2a30892555ae",
   "outputs": [],
   "execution_count": 106
  },
  {
   "metadata": {
    "ExecuteTime": {
     "end_time": "2024-10-30T13:01:52.329762Z",
     "start_time": "2024-10-30T13:01:52.324280Z"
    }
   },
   "cell_type": "code",
   "source": "se",
   "id": "38d129221e1f5976",
   "outputs": [
    {
     "data": {
      "text/plain": [
       "np.float64(1.7611917193588065)"
      ]
     },
     "execution_count": 107,
     "metadata": {},
     "output_type": "execute_result"
    }
   ],
   "execution_count": 107
  },
  {
   "metadata": {
    "ExecuteTime": {
     "end_time": "2024-10-30T13:03:46.768391Z",
     "start_time": "2024-10-30T13:03:46.758398Z"
    }
   },
   "cell_type": "code",
   "source": "sample_real.mean() + 1.96 * se",
   "id": "90925cb08a024911",
   "outputs": [
    {
     "data": {
      "text/plain": [
       "np.float64(104.42481387594016)"
      ]
     },
     "execution_count": 109,
     "metadata": {},
     "output_type": "execute_result"
    }
   ],
   "execution_count": 109
  },
  {
   "metadata": {
    "ExecuteTime": {
     "end_time": "2024-10-30T13:03:56.178377Z",
     "start_time": "2024-10-30T13:03:56.158769Z"
    }
   },
   "cell_type": "code",
   "source": "sample_real.mean() - 1.96 * se",
   "id": "e9cfd8849c26de3e",
   "outputs": [
    {
     "data": {
      "text/plain": [
       "np.float64(97.52094233605364)"
      ]
     },
     "execution_count": 110,
     "metadata": {},
     "output_type": "execute_result"
    }
   ],
   "execution_count": 110
  },
  {
   "metadata": {
    "ExecuteTime": {
     "end_time": "2024-10-30T14:20:00.409135Z",
     "start_time": "2024-10-30T14:20:00.397528Z"
    }
   },
   "cell_type": "code",
   "source": [
    "# оценка стандартной ошибки выборочных средних\n",
    "n = 64\n",
    "sd = 4\n",
    "x = 18.5\n",
    "\n",
    "# расчет стандартной ошибки SE\n",
    "se = sd / n ** 0.5\n",
    "\n",
    "\n",
    "low_int = x - 1.96 * se\n",
    "high_int = x - 1.96 * se"
   ],
   "id": "59c92ed38f79fa2f",
   "outputs": [
    {
     "data": {
      "text/plain": [
       "8.712"
      ]
     },
     "execution_count": 113,
     "metadata": {},
     "output_type": "execute_result"
    }
   ],
   "execution_count": 113
  },
  {
   "metadata": {},
   "cell_type": "code",
   "outputs": [],
   "execution_count": null,
   "source": "",
   "id": "a39fe98e181ad50a"
  }
 ],
 "metadata": {
  "kernelspec": {
   "display_name": "Python 3",
   "language": "python",
   "name": "python3"
  },
  "language_info": {
   "codemirror_mode": {
    "name": "ipython",
    "version": 2
   },
   "file_extension": ".py",
   "mimetype": "text/x-python",
   "name": "python",
   "nbconvert_exporter": "python",
   "pygments_lexer": "ipython2",
   "version": "2.7.6"
  }
 },
 "nbformat": 4,
 "nbformat_minor": 5
}
