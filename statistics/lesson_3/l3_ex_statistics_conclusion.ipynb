{
 "cells": [
  {
   "cell_type": "code",
   "id": "initial_id",
   "metadata": {
    "collapsed": true,
    "ExecuteTime": {
     "end_time": "2024-10-30T14:52:30.399987Z",
     "start_time": "2024-10-30T14:52:30.388048Z"
    }
   },
   "source": [
    "# оценка стандартной ошибки выборочных средних\n",
    "n = 144\n",
    "sd = 9\n",
    "x = 118\n",
    "\n",
    "# расчет стандартной ошибки SE\n",
    "se = sd / n ** 0.5\n",
    "\n",
    "\n",
    "low_int = x - 1.96 * se\n",
    "high_int = x + 1.96 * se"
   ],
   "outputs": [],
   "execution_count": 8
  },
  {
   "metadata": {
    "ExecuteTime": {
     "end_time": "2024-10-30T14:52:30.800473Z",
     "start_time": "2024-10-30T14:52:30.795752Z"
    }
   },
   "cell_type": "code",
   "source": "low_int\n",
   "id": "1f41f8b63f02b144",
   "outputs": [
    {
     "data": {
      "text/plain": [
       "116.53"
      ]
     },
     "execution_count": 9,
     "metadata": {},
     "output_type": "execute_result"
    }
   ],
   "execution_count": 9
  },
  {
   "metadata": {
    "ExecuteTime": {
     "end_time": "2024-10-30T14:52:31.340718Z",
     "start_time": "2024-10-30T14:52:31.336264Z"
    }
   },
   "cell_type": "code",
   "source": "high_int",
   "id": "5a6f48c4549c2d70",
   "outputs": [
    {
     "data": {
      "text/plain": [
       "119.47"
      ]
     },
     "execution_count": 10,
     "metadata": {},
     "output_type": "execute_result"
    }
   ],
   "execution_count": 10
  },
  {
   "metadata": {
    "ExecuteTime": {
     "end_time": "2024-10-30T14:52:32.311164Z",
     "start_time": "2024-10-30T14:52:32.306464Z"
    }
   },
   "cell_type": "code",
   "source": [
    "# p value\n",
    "#x - первое среднее (гипотеза 0)\n",
    "#mu - второе среднее (гипотеза 1)\n",
    "mu = 115\n",
    "\n",
    "(x - mu) / se"
   ],
   "id": "327749b882ac067a",
   "outputs": [
    {
     "data": {
      "text/plain": [
       "4.0"
      ]
     },
     "execution_count": 11,
     "metadata": {},
     "output_type": "execute_result"
    }
   ],
   "execution_count": 11
  },
  {
   "metadata": {},
   "cell_type": "code",
   "outputs": [],
   "execution_count": null,
   "source": "",
   "id": "2bea20ca0baaadd4"
  }
 ],
 "metadata": {
  "kernelspec": {
   "display_name": "Python 3",
   "language": "python",
   "name": "python3"
  },
  "language_info": {
   "codemirror_mode": {
    "name": "ipython",
    "version": 2
   },
   "file_extension": ".py",
   "mimetype": "text/x-python",
   "name": "python",
   "nbconvert_exporter": "python",
   "pygments_lexer": "ipython2",
   "version": "2.7.6"
  }
 },
 "nbformat": 4,
 "nbformat_minor": 5
}
