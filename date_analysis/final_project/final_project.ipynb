{
 "cells": [
  {
   "cell_type": "markdown",
   "metadata": {},
   "source": [
    "# Задание 1\n",
    "\n",
    "Retention – один из самых важных показателей в компании. Ваша задача – написать функцию, которая будет считать retention игроков (по дням от даты регистрации игрока). Данные лежат в папке shared и имеют следующую структуру:\n",
    "\n",
    "shared/problem1-reg_data.csv – данные о времени регистрации\n",
    "shared/problem1-auth_data.csv – данные о времени захода пользователей в игру\n",
    "\n",
    "Функция должна быть написана на python. В ходе решения можно тестировать работу функции как на полном датасете, так и на части (сэмпле) данных."
   ]
  },
  {
   "metadata": {
    "ExecuteTime": {
     "end_time": "2025-01-24T18:28:06.084474Z",
     "start_time": "2025-01-24T18:28:06.078454Z"
    }
   },
   "cell_type": "code",
   "source": [
    "import pandas as pd\n",
    "import seaborn as sns\n",
    "import pingouin as pg\n",
    "import scipy.stats as stats\n",
    "import matplotlib.pyplot as plt\n",
    "from scipy.stats import zscore"
   ],
   "outputs": [],
   "execution_count": 138
  },
  {
   "metadata": {
    "ExecuteTime": {
     "end_time": "2025-01-24T18:28:06.124567Z",
     "start_time": "2025-01-24T18:28:06.122216Z"
    }
   },
   "cell_type": "code",
   "source": "",
   "outputs": [],
   "execution_count": null
  },
  {
   "metadata": {
    "ExecuteTime": {
     "end_time": "2025-01-24T18:28:07.145037Z",
     "start_time": "2025-01-24T18:28:06.128958Z"
    }
   },
   "cell_type": "code",
   "source": [
    "reg_data = pd.read_csv('problem1-reg_data.csv', sep = ';')\n",
    "auth_data = pd.read_csv('problem1-auth_data.csv', sep = ';')"
   ],
   "outputs": [],
   "execution_count": 139
  },
  {
   "metadata": {},
   "cell_type": "markdown",
   "source": "=========== Просто заголовки"
  },
  {
   "metadata": {
    "ExecuteTime": {
     "end_time": "2025-01-24T18:28:07.171183Z",
     "start_time": "2025-01-24T18:28:07.162425Z"
    }
   },
   "cell_type": "code",
   "source": "reg_data.head(10)",
   "outputs": [
    {
     "data": {
      "text/plain": [
       "       reg_ts  uid\n",
       "0   911382223    1\n",
       "1   932683089    2\n",
       "2   947802447    3\n",
       "3   959523541    4\n",
       "4   969103313    5\n",
       "5   977206495    6\n",
       "6   984222671    7\n",
       "7   990407778    8\n",
       "8   995943765    9\n",
       "9  1000951674   10"
      ],
      "text/html": [
       "<div>\n",
       "<style scoped>\n",
       "    .dataframe tbody tr th:only-of-type {\n",
       "        vertical-align: middle;\n",
       "    }\n",
       "\n",
       "    .dataframe tbody tr th {\n",
       "        vertical-align: top;\n",
       "    }\n",
       "\n",
       "    .dataframe thead th {\n",
       "        text-align: right;\n",
       "    }\n",
       "</style>\n",
       "<table border=\"1\" class=\"dataframe\">\n",
       "  <thead>\n",
       "    <tr style=\"text-align: right;\">\n",
       "      <th></th>\n",
       "      <th>reg_ts</th>\n",
       "      <th>uid</th>\n",
       "    </tr>\n",
       "  </thead>\n",
       "  <tbody>\n",
       "    <tr>\n",
       "      <th>0</th>\n",
       "      <td>911382223</td>\n",
       "      <td>1</td>\n",
       "    </tr>\n",
       "    <tr>\n",
       "      <th>1</th>\n",
       "      <td>932683089</td>\n",
       "      <td>2</td>\n",
       "    </tr>\n",
       "    <tr>\n",
       "      <th>2</th>\n",
       "      <td>947802447</td>\n",
       "      <td>3</td>\n",
       "    </tr>\n",
       "    <tr>\n",
       "      <th>3</th>\n",
       "      <td>959523541</td>\n",
       "      <td>4</td>\n",
       "    </tr>\n",
       "    <tr>\n",
       "      <th>4</th>\n",
       "      <td>969103313</td>\n",
       "      <td>5</td>\n",
       "    </tr>\n",
       "    <tr>\n",
       "      <th>5</th>\n",
       "      <td>977206495</td>\n",
       "      <td>6</td>\n",
       "    </tr>\n",
       "    <tr>\n",
       "      <th>6</th>\n",
       "      <td>984222671</td>\n",
       "      <td>7</td>\n",
       "    </tr>\n",
       "    <tr>\n",
       "      <th>7</th>\n",
       "      <td>990407778</td>\n",
       "      <td>8</td>\n",
       "    </tr>\n",
       "    <tr>\n",
       "      <th>8</th>\n",
       "      <td>995943765</td>\n",
       "      <td>9</td>\n",
       "    </tr>\n",
       "    <tr>\n",
       "      <th>9</th>\n",
       "      <td>1000951674</td>\n",
       "      <td>10</td>\n",
       "    </tr>\n",
       "  </tbody>\n",
       "</table>\n",
       "</div>"
      ]
     },
     "execution_count": 140,
     "metadata": {},
     "output_type": "execute_result"
    }
   ],
   "execution_count": 140
  },
  {
   "metadata": {
    "ExecuteTime": {
     "end_time": "2025-01-24T18:28:07.234581Z",
     "start_time": "2025-01-24T18:28:07.231530Z"
    }
   },
   "cell_type": "code",
   "source": "reg_data.dtypes",
   "outputs": [
    {
     "data": {
      "text/plain": [
       "reg_ts    int64\n",
       "uid       int64\n",
       "dtype: object"
      ]
     },
     "execution_count": 141,
     "metadata": {},
     "output_type": "execute_result"
    }
   ],
   "execution_count": 141
  },
  {
   "cell_type": "code",
   "metadata": {
    "ExecuteTime": {
     "end_time": "2025-01-24T18:28:07.349400Z",
     "start_time": "2025-01-24T18:28:07.346001Z"
    }
   },
   "source": [
    "auth_data.head(10)"
   ],
   "outputs": [
    {
     "data": {
      "text/plain": [
       "     auth_ts  uid\n",
       "0  911382223    1\n",
       "1  932683089    2\n",
       "2  932921206    2\n",
       "3  933393015    2\n",
       "4  933875379    2\n",
       "5  934372615    2\n",
       "6  934662633    2\n",
       "7  935002586    2\n",
       "8  935141232    2\n",
       "9  935682752    2"
      ],
      "text/html": [
       "<div>\n",
       "<style scoped>\n",
       "    .dataframe tbody tr th:only-of-type {\n",
       "        vertical-align: middle;\n",
       "    }\n",
       "\n",
       "    .dataframe tbody tr th {\n",
       "        vertical-align: top;\n",
       "    }\n",
       "\n",
       "    .dataframe thead th {\n",
       "        text-align: right;\n",
       "    }\n",
       "</style>\n",
       "<table border=\"1\" class=\"dataframe\">\n",
       "  <thead>\n",
       "    <tr style=\"text-align: right;\">\n",
       "      <th></th>\n",
       "      <th>auth_ts</th>\n",
       "      <th>uid</th>\n",
       "    </tr>\n",
       "  </thead>\n",
       "  <tbody>\n",
       "    <tr>\n",
       "      <th>0</th>\n",
       "      <td>911382223</td>\n",
       "      <td>1</td>\n",
       "    </tr>\n",
       "    <tr>\n",
       "      <th>1</th>\n",
       "      <td>932683089</td>\n",
       "      <td>2</td>\n",
       "    </tr>\n",
       "    <tr>\n",
       "      <th>2</th>\n",
       "      <td>932921206</td>\n",
       "      <td>2</td>\n",
       "    </tr>\n",
       "    <tr>\n",
       "      <th>3</th>\n",
       "      <td>933393015</td>\n",
       "      <td>2</td>\n",
       "    </tr>\n",
       "    <tr>\n",
       "      <th>4</th>\n",
       "      <td>933875379</td>\n",
       "      <td>2</td>\n",
       "    </tr>\n",
       "    <tr>\n",
       "      <th>5</th>\n",
       "      <td>934372615</td>\n",
       "      <td>2</td>\n",
       "    </tr>\n",
       "    <tr>\n",
       "      <th>6</th>\n",
       "      <td>934662633</td>\n",
       "      <td>2</td>\n",
       "    </tr>\n",
       "    <tr>\n",
       "      <th>7</th>\n",
       "      <td>935002586</td>\n",
       "      <td>2</td>\n",
       "    </tr>\n",
       "    <tr>\n",
       "      <th>8</th>\n",
       "      <td>935141232</td>\n",
       "      <td>2</td>\n",
       "    </tr>\n",
       "    <tr>\n",
       "      <th>9</th>\n",
       "      <td>935682752</td>\n",
       "      <td>2</td>\n",
       "    </tr>\n",
       "  </tbody>\n",
       "</table>\n",
       "</div>"
      ]
     },
     "execution_count": 142,
     "metadata": {},
     "output_type": "execute_result"
    }
   ],
   "execution_count": 142
  },
  {
   "cell_type": "code",
   "metadata": {
    "ExecuteTime": {
     "end_time": "2025-01-24T18:28:07.468750Z",
     "start_time": "2025-01-24T18:28:07.466220Z"
    }
   },
   "source": [
    "auth_data.dtypes"
   ],
   "outputs": [
    {
     "data": {
      "text/plain": [
       "auth_ts    int64\n",
       "uid        int64\n",
       "dtype: object"
      ]
     },
     "execution_count": 143,
     "metadata": {},
     "output_type": "execute_result"
    }
   ],
   "execution_count": 143
  },
  {
   "cell_type": "markdown",
   "metadata": {},
   "source": [
    "Так как первый столбик это время, попробую его распознать нормально и проверить как вывелось"
   ]
  },
  {
   "cell_type": "code",
   "metadata": {
    "ExecuteTime": {
     "end_time": "2025-01-24T18:28:08.109284Z",
     "start_time": "2025-01-24T18:28:07.556741Z"
    }
   },
   "source": [
    "reg_data['reg_ts'] = pd.to_datetime(reg_data['reg_ts'], unit='s')\n",
    "auth_data['auth_ts'] = pd.to_datetime(auth_data['auth_ts'], unit='s')"
   ],
   "outputs": [],
   "execution_count": 144
  },
  {
   "cell_type": "code",
   "metadata": {
    "ExecuteTime": {
     "end_time": "2025-01-24T18:28:08.132585Z",
     "start_time": "2025-01-24T18:28:08.128373Z"
    }
   },
   "source": [
    "auth_data.head(10)"
   ],
   "outputs": [
    {
     "data": {
      "text/plain": [
       "              auth_ts  uid\n",
       "0 1998-11-18 09:43:43    1\n",
       "1 1999-07-22 22:38:09    2\n",
       "2 1999-07-25 16:46:46    2\n",
       "3 1999-07-31 03:50:15    2\n",
       "4 1999-08-05 17:49:39    2\n",
       "5 1999-08-11 11:56:55    2\n",
       "6 1999-08-14 20:30:33    2\n",
       "7 1999-08-18 18:56:26    2\n",
       "8 1999-08-20 09:27:12    2\n",
       "9 1999-08-26 15:52:32    2"
      ],
      "text/html": [
       "<div>\n",
       "<style scoped>\n",
       "    .dataframe tbody tr th:only-of-type {\n",
       "        vertical-align: middle;\n",
       "    }\n",
       "\n",
       "    .dataframe tbody tr th {\n",
       "        vertical-align: top;\n",
       "    }\n",
       "\n",
       "    .dataframe thead th {\n",
       "        text-align: right;\n",
       "    }\n",
       "</style>\n",
       "<table border=\"1\" class=\"dataframe\">\n",
       "  <thead>\n",
       "    <tr style=\"text-align: right;\">\n",
       "      <th></th>\n",
       "      <th>auth_ts</th>\n",
       "      <th>uid</th>\n",
       "    </tr>\n",
       "  </thead>\n",
       "  <tbody>\n",
       "    <tr>\n",
       "      <th>0</th>\n",
       "      <td>1998-11-18 09:43:43</td>\n",
       "      <td>1</td>\n",
       "    </tr>\n",
       "    <tr>\n",
       "      <th>1</th>\n",
       "      <td>1999-07-22 22:38:09</td>\n",
       "      <td>2</td>\n",
       "    </tr>\n",
       "    <tr>\n",
       "      <th>2</th>\n",
       "      <td>1999-07-25 16:46:46</td>\n",
       "      <td>2</td>\n",
       "    </tr>\n",
       "    <tr>\n",
       "      <th>3</th>\n",
       "      <td>1999-07-31 03:50:15</td>\n",
       "      <td>2</td>\n",
       "    </tr>\n",
       "    <tr>\n",
       "      <th>4</th>\n",
       "      <td>1999-08-05 17:49:39</td>\n",
       "      <td>2</td>\n",
       "    </tr>\n",
       "    <tr>\n",
       "      <th>5</th>\n",
       "      <td>1999-08-11 11:56:55</td>\n",
       "      <td>2</td>\n",
       "    </tr>\n",
       "    <tr>\n",
       "      <th>6</th>\n",
       "      <td>1999-08-14 20:30:33</td>\n",
       "      <td>2</td>\n",
       "    </tr>\n",
       "    <tr>\n",
       "      <th>7</th>\n",
       "      <td>1999-08-18 18:56:26</td>\n",
       "      <td>2</td>\n",
       "    </tr>\n",
       "    <tr>\n",
       "      <th>8</th>\n",
       "      <td>1999-08-20 09:27:12</td>\n",
       "      <td>2</td>\n",
       "    </tr>\n",
       "    <tr>\n",
       "      <th>9</th>\n",
       "      <td>1999-08-26 15:52:32</td>\n",
       "      <td>2</td>\n",
       "    </tr>\n",
       "  </tbody>\n",
       "</table>\n",
       "</div>"
      ]
     },
     "execution_count": 145,
     "metadata": {},
     "output_type": "execute_result"
    }
   ],
   "execution_count": 145
  },
  {
   "cell_type": "code",
   "metadata": {
    "ExecuteTime": {
     "end_time": "2025-01-24T18:28:08.181818Z",
     "start_time": "2025-01-24T18:28:08.178054Z"
    }
   },
   "source": [
    "reg_data.head(10)"
   ],
   "outputs": [
    {
     "data": {
      "text/plain": [
       "               reg_ts  uid\n",
       "0 1998-11-18 09:43:43    1\n",
       "1 1999-07-22 22:38:09    2\n",
       "2 2000-01-13 22:27:27    3\n",
       "3 2000-05-28 14:19:01    4\n",
       "4 2000-09-16 11:21:53    5\n",
       "5 2000-12-19 06:14:55    6\n",
       "6 2001-03-10 11:11:11    7\n",
       "7 2001-05-21 01:16:18    8\n",
       "8 2001-07-24 03:02:45    9\n",
       "9 2001-09-20 02:07:54   10"
      ],
      "text/html": [
       "<div>\n",
       "<style scoped>\n",
       "    .dataframe tbody tr th:only-of-type {\n",
       "        vertical-align: middle;\n",
       "    }\n",
       "\n",
       "    .dataframe tbody tr th {\n",
       "        vertical-align: top;\n",
       "    }\n",
       "\n",
       "    .dataframe thead th {\n",
       "        text-align: right;\n",
       "    }\n",
       "</style>\n",
       "<table border=\"1\" class=\"dataframe\">\n",
       "  <thead>\n",
       "    <tr style=\"text-align: right;\">\n",
       "      <th></th>\n",
       "      <th>reg_ts</th>\n",
       "      <th>uid</th>\n",
       "    </tr>\n",
       "  </thead>\n",
       "  <tbody>\n",
       "    <tr>\n",
       "      <th>0</th>\n",
       "      <td>1998-11-18 09:43:43</td>\n",
       "      <td>1</td>\n",
       "    </tr>\n",
       "    <tr>\n",
       "      <th>1</th>\n",
       "      <td>1999-07-22 22:38:09</td>\n",
       "      <td>2</td>\n",
       "    </tr>\n",
       "    <tr>\n",
       "      <th>2</th>\n",
       "      <td>2000-01-13 22:27:27</td>\n",
       "      <td>3</td>\n",
       "    </tr>\n",
       "    <tr>\n",
       "      <th>3</th>\n",
       "      <td>2000-05-28 14:19:01</td>\n",
       "      <td>4</td>\n",
       "    </tr>\n",
       "    <tr>\n",
       "      <th>4</th>\n",
       "      <td>2000-09-16 11:21:53</td>\n",
       "      <td>5</td>\n",
       "    </tr>\n",
       "    <tr>\n",
       "      <th>5</th>\n",
       "      <td>2000-12-19 06:14:55</td>\n",
       "      <td>6</td>\n",
       "    </tr>\n",
       "    <tr>\n",
       "      <th>6</th>\n",
       "      <td>2001-03-10 11:11:11</td>\n",
       "      <td>7</td>\n",
       "    </tr>\n",
       "    <tr>\n",
       "      <th>7</th>\n",
       "      <td>2001-05-21 01:16:18</td>\n",
       "      <td>8</td>\n",
       "    </tr>\n",
       "    <tr>\n",
       "      <th>8</th>\n",
       "      <td>2001-07-24 03:02:45</td>\n",
       "      <td>9</td>\n",
       "    </tr>\n",
       "    <tr>\n",
       "      <th>9</th>\n",
       "      <td>2001-09-20 02:07:54</td>\n",
       "      <td>10</td>\n",
       "    </tr>\n",
       "  </tbody>\n",
       "</table>\n",
       "</div>"
      ]
     },
     "execution_count": 146,
     "metadata": {},
     "output_type": "execute_result"
    }
   ],
   "execution_count": 146
  },
  {
   "cell_type": "markdown",
   "metadata": {},
   "source": [
    "===========  Другие обязательные проверки"
   ]
  },
  {
   "cell_type": "code",
   "metadata": {
    "ExecuteTime": {
     "end_time": "2025-01-24T18:28:08.247341Z",
     "start_time": "2025-01-24T18:28:08.244379Z"
    }
   },
   "source": [
    "# проверка на количество строк и столбцов\n",
    "reg_data.shape"
   ],
   "outputs": [
    {
     "data": {
      "text/plain": [
       "(1000000, 2)"
      ]
     },
     "execution_count": 147,
     "metadata": {},
     "output_type": "execute_result"
    }
   ],
   "execution_count": 147
  },
  {
   "cell_type": "code",
   "metadata": {
    "ExecuteTime": {
     "end_time": "2025-01-24T18:28:08.345711Z",
     "start_time": "2025-01-24T18:28:08.343544Z"
    }
   },
   "source": [
    "# проверка на количество строк и столбцов\n",
    "auth_data.shape"
   ],
   "outputs": [
    {
     "data": {
      "text/plain": [
       "(9601013, 2)"
      ]
     },
     "execution_count": 148,
     "metadata": {},
     "output_type": "execute_result"
    }
   ],
   "execution_count": 148
  },
  {
   "cell_type": "code",
   "metadata": {
    "ExecuteTime": {
     "end_time": "2025-01-24T18:28:08.427797Z",
     "start_time": "2025-01-24T18:28:08.412443Z"
    }
   },
   "source": [
    "auth_data.isna().sum()"
   ],
   "outputs": [
    {
     "data": {
      "text/plain": [
       "auth_ts    0\n",
       "uid        0\n",
       "dtype: int64"
      ]
     },
     "execution_count": 149,
     "metadata": {},
     "output_type": "execute_result"
    }
   ],
   "execution_count": 149
  },
  {
   "cell_type": "code",
   "metadata": {
    "ExecuteTime": {
     "end_time": "2025-01-24T18:28:08.478398Z",
     "start_time": "2025-01-24T18:28:08.474482Z"
    }
   },
   "source": [
    "reg_data.isna().sum()"
   ],
   "outputs": [
    {
     "data": {
      "text/plain": [
       "reg_ts    0\n",
       "uid       0\n",
       "dtype: int64"
      ]
     },
     "execution_count": 150,
     "metadata": {},
     "output_type": "execute_result"
    }
   ],
   "execution_count": 150
  },
  {
   "cell_type": "markdown",
   "metadata": {},
   "source": [
    "Пропусков нет\n",
    "Видно что регистраций 1.000.000 а входов 9.601.013"
   ]
  },
  {
   "cell_type": "markdown",
   "metadata": {},
   "source": [
    "===========\n",
    "\n",
    "Мне пришла идея проверитьт сколько у нас регистраций уникальных и сколько уникальных входов и все ли пользователи которые зарегистирировалась входили хоть раз"
   ]
  },
  {
   "cell_type": "code",
   "metadata": {
    "ExecuteTime": {
     "end_time": "2025-01-24T18:28:08.567362Z",
     "start_time": "2025-01-24T18:28:08.542214Z"
    }
   },
   "source": [
    "# количество уникальных регистраций 1 000 000\n",
    "reg_data.uid.nunique()"
   ],
   "outputs": [
    {
     "data": {
      "text/plain": [
       "1000000"
      ]
     },
     "execution_count": 151,
     "metadata": {},
     "output_type": "execute_result"
    }
   ],
   "execution_count": 151
  },
  {
   "cell_type": "code",
   "metadata": {
    "ExecuteTime": {
     "end_time": "2025-01-24T18:28:08.764857Z",
     "start_time": "2025-01-24T18:28:08.640884Z"
    }
   },
   "source": [
    "# количество уникальных входов 1 000 000\n",
    "auth_data.uid.nunique()"
   ],
   "outputs": [
    {
     "data": {
      "text/plain": [
       "1000000"
      ]
     },
     "execution_count": 152,
     "metadata": {},
     "output_type": "execute_result"
    }
   ],
   "execution_count": 152
  },
  {
   "cell_type": "markdown",
   "metadata": {},
   "source": [
    "Теперь сравним все ли пользователи которые есть в регистрации заходили хотя бы один раз"
   ]
  },
  {
   "cell_type": "code",
   "metadata": {
    "ExecuteTime": {
     "end_time": "2025-01-24T18:28:08.855Z",
     "start_time": "2025-01-24T18:28:08.769761Z"
    }
   },
   "source": [
    "array = reg_data.uid.unique() == auth_data.uid.unique()\n",
    "if not all(array):  # проверяет, есть ли хотя бы один False\n",
    "    print(\"Есть False\")\n",
    "else:\n",
    "    print(\"Все значения True\")"
   ],
   "outputs": [
    {
     "name": "stdout",
     "output_type": "stream",
     "text": [
      "Все значения True\n"
     ]
    }
   ],
   "execution_count": 153
  },
  {
   "cell_type": "markdown",
   "metadata": {},
   "source": [
    "**Вывод: Значений пропущенных нет.\n",
    "В таблице с регистарции только уникальные пользователи.\n",
    "В таблице со входами содержит 1кк униканльных пользователей, которые входили несколько раз.\n",
    "Все пользователи, которые зарегистрировались заходили хотя бы один раз**"
   ]
  },
  {
   "cell_type": "markdown",
   "metadata": {},
   "source": [
    "# Задание 1.2\n",
    "## Расчет Retention"
   ]
  },
  {
   "cell_type": "markdown",
   "metadata": {},
   "source": [
    "К сожалению раз никто не объяснил задание и с ним кураторы не помогают, то я считаю, исходя из формулировки задания в данном случае, когда нужно \"считать retention игроков (по дням от даты регистрации игрока)\", обычно подразумевается точечный (дневной) retention.\n",
    "\n",
    "Почему это скорее точечный retention?\n",
    "\n",
    "-Формулировка \"по дням\"\n",
    "\n",
    "\n",
    "Указано считать по дням с момента регистрации. Это значит, что нужно учитывать, сколько игроков возвращалось на конкретный день N (например, на 1-й, 2-й, 3-й день и т.д.).\n",
    "Если бы требовался накопительный retention, формулировка скорее звучала бы как \"удержание за определённый период\".\n",
    "\n",
    "\n",
    "Во втором варианте решения задачи я применю когортный анализ и тепловую карту\n",
    "\n",
    "\n",
    "Первый вариант это общий ретеншн по всем пользователям по дням с момента регистрации"
   ]
  },
  {
   "cell_type": "code",
   "metadata": {
    "ExecuteTime": {
     "end_time": "2025-01-24T18:28:09.610016Z",
     "start_time": "2025-01-24T18:28:08.871323Z"
    }
   },
   "source": [
    "# соединяем 2 таблицы по uid\n",
    "merged_data = pd.merge(auth_data, reg_data, on='uid', how='inner')\n",
    "merged_data.head(10)"
   ],
   "outputs": [
    {
     "data": {
      "text/plain": [
       "              auth_ts  uid              reg_ts\n",
       "0 1998-11-18 09:43:43    1 1998-11-18 09:43:43\n",
       "1 1999-07-22 22:38:09    2 1999-07-22 22:38:09\n",
       "2 1999-07-25 16:46:46    2 1999-07-22 22:38:09\n",
       "3 1999-07-31 03:50:15    2 1999-07-22 22:38:09\n",
       "4 1999-08-05 17:49:39    2 1999-07-22 22:38:09\n",
       "5 1999-08-11 11:56:55    2 1999-07-22 22:38:09\n",
       "6 1999-08-14 20:30:33    2 1999-07-22 22:38:09\n",
       "7 1999-08-18 18:56:26    2 1999-07-22 22:38:09\n",
       "8 1999-08-20 09:27:12    2 1999-07-22 22:38:09\n",
       "9 1999-08-26 15:52:32    2 1999-07-22 22:38:09"
      ],
      "text/html": [
       "<div>\n",
       "<style scoped>\n",
       "    .dataframe tbody tr th:only-of-type {\n",
       "        vertical-align: middle;\n",
       "    }\n",
       "\n",
       "    .dataframe tbody tr th {\n",
       "        vertical-align: top;\n",
       "    }\n",
       "\n",
       "    .dataframe thead th {\n",
       "        text-align: right;\n",
       "    }\n",
       "</style>\n",
       "<table border=\"1\" class=\"dataframe\">\n",
       "  <thead>\n",
       "    <tr style=\"text-align: right;\">\n",
       "      <th></th>\n",
       "      <th>auth_ts</th>\n",
       "      <th>uid</th>\n",
       "      <th>reg_ts</th>\n",
       "    </tr>\n",
       "  </thead>\n",
       "  <tbody>\n",
       "    <tr>\n",
       "      <th>0</th>\n",
       "      <td>1998-11-18 09:43:43</td>\n",
       "      <td>1</td>\n",
       "      <td>1998-11-18 09:43:43</td>\n",
       "    </tr>\n",
       "    <tr>\n",
       "      <th>1</th>\n",
       "      <td>1999-07-22 22:38:09</td>\n",
       "      <td>2</td>\n",
       "      <td>1999-07-22 22:38:09</td>\n",
       "    </tr>\n",
       "    <tr>\n",
       "      <th>2</th>\n",
       "      <td>1999-07-25 16:46:46</td>\n",
       "      <td>2</td>\n",
       "      <td>1999-07-22 22:38:09</td>\n",
       "    </tr>\n",
       "    <tr>\n",
       "      <th>3</th>\n",
       "      <td>1999-07-31 03:50:15</td>\n",
       "      <td>2</td>\n",
       "      <td>1999-07-22 22:38:09</td>\n",
       "    </tr>\n",
       "    <tr>\n",
       "      <th>4</th>\n",
       "      <td>1999-08-05 17:49:39</td>\n",
       "      <td>2</td>\n",
       "      <td>1999-07-22 22:38:09</td>\n",
       "    </tr>\n",
       "    <tr>\n",
       "      <th>5</th>\n",
       "      <td>1999-08-11 11:56:55</td>\n",
       "      <td>2</td>\n",
       "      <td>1999-07-22 22:38:09</td>\n",
       "    </tr>\n",
       "    <tr>\n",
       "      <th>6</th>\n",
       "      <td>1999-08-14 20:30:33</td>\n",
       "      <td>2</td>\n",
       "      <td>1999-07-22 22:38:09</td>\n",
       "    </tr>\n",
       "    <tr>\n",
       "      <th>7</th>\n",
       "      <td>1999-08-18 18:56:26</td>\n",
       "      <td>2</td>\n",
       "      <td>1999-07-22 22:38:09</td>\n",
       "    </tr>\n",
       "    <tr>\n",
       "      <th>8</th>\n",
       "      <td>1999-08-20 09:27:12</td>\n",
       "      <td>2</td>\n",
       "      <td>1999-07-22 22:38:09</td>\n",
       "    </tr>\n",
       "    <tr>\n",
       "      <th>9</th>\n",
       "      <td>1999-08-26 15:52:32</td>\n",
       "      <td>2</td>\n",
       "      <td>1999-07-22 22:38:09</td>\n",
       "    </tr>\n",
       "  </tbody>\n",
       "</table>\n",
       "</div>"
      ]
     },
     "execution_count": 154,
     "metadata": {},
     "output_type": "execute_result"
    }
   ],
   "execution_count": 154
  },
  {
   "cell_type": "code",
   "metadata": {
    "ExecuteTime": {
     "end_time": "2025-01-24T18:28:09.828780Z",
     "start_time": "2025-01-24T18:28:09.655371Z"
    }
   },
   "source": [
    "# считаем сколько дней прошло с момента регистрации\n",
    "merged_data['days_since_registration'] = (merged_data['auth_ts'] - merged_data['reg_ts']).dt.days\n",
    "merged_data.head(10)"
   ],
   "outputs": [
    {
     "data": {
      "text/plain": [
       "              auth_ts  uid              reg_ts  days_since_registration\n",
       "0 1998-11-18 09:43:43    1 1998-11-18 09:43:43                        0\n",
       "1 1999-07-22 22:38:09    2 1999-07-22 22:38:09                        0\n",
       "2 1999-07-25 16:46:46    2 1999-07-22 22:38:09                        2\n",
       "3 1999-07-31 03:50:15    2 1999-07-22 22:38:09                        8\n",
       "4 1999-08-05 17:49:39    2 1999-07-22 22:38:09                       13\n",
       "5 1999-08-11 11:56:55    2 1999-07-22 22:38:09                       19\n",
       "6 1999-08-14 20:30:33    2 1999-07-22 22:38:09                       22\n",
       "7 1999-08-18 18:56:26    2 1999-07-22 22:38:09                       26\n",
       "8 1999-08-20 09:27:12    2 1999-07-22 22:38:09                       28\n",
       "9 1999-08-26 15:52:32    2 1999-07-22 22:38:09                       34"
      ],
      "text/html": [
       "<div>\n",
       "<style scoped>\n",
       "    .dataframe tbody tr th:only-of-type {\n",
       "        vertical-align: middle;\n",
       "    }\n",
       "\n",
       "    .dataframe tbody tr th {\n",
       "        vertical-align: top;\n",
       "    }\n",
       "\n",
       "    .dataframe thead th {\n",
       "        text-align: right;\n",
       "    }\n",
       "</style>\n",
       "<table border=\"1\" class=\"dataframe\">\n",
       "  <thead>\n",
       "    <tr style=\"text-align: right;\">\n",
       "      <th></th>\n",
       "      <th>auth_ts</th>\n",
       "      <th>uid</th>\n",
       "      <th>reg_ts</th>\n",
       "      <th>days_since_registration</th>\n",
       "    </tr>\n",
       "  </thead>\n",
       "  <tbody>\n",
       "    <tr>\n",
       "      <th>0</th>\n",
       "      <td>1998-11-18 09:43:43</td>\n",
       "      <td>1</td>\n",
       "      <td>1998-11-18 09:43:43</td>\n",
       "      <td>0</td>\n",
       "    </tr>\n",
       "    <tr>\n",
       "      <th>1</th>\n",
       "      <td>1999-07-22 22:38:09</td>\n",
       "      <td>2</td>\n",
       "      <td>1999-07-22 22:38:09</td>\n",
       "      <td>0</td>\n",
       "    </tr>\n",
       "    <tr>\n",
       "      <th>2</th>\n",
       "      <td>1999-07-25 16:46:46</td>\n",
       "      <td>2</td>\n",
       "      <td>1999-07-22 22:38:09</td>\n",
       "      <td>2</td>\n",
       "    </tr>\n",
       "    <tr>\n",
       "      <th>3</th>\n",
       "      <td>1999-07-31 03:50:15</td>\n",
       "      <td>2</td>\n",
       "      <td>1999-07-22 22:38:09</td>\n",
       "      <td>8</td>\n",
       "    </tr>\n",
       "    <tr>\n",
       "      <th>4</th>\n",
       "      <td>1999-08-05 17:49:39</td>\n",
       "      <td>2</td>\n",
       "      <td>1999-07-22 22:38:09</td>\n",
       "      <td>13</td>\n",
       "    </tr>\n",
       "    <tr>\n",
       "      <th>5</th>\n",
       "      <td>1999-08-11 11:56:55</td>\n",
       "      <td>2</td>\n",
       "      <td>1999-07-22 22:38:09</td>\n",
       "      <td>19</td>\n",
       "    </tr>\n",
       "    <tr>\n",
       "      <th>6</th>\n",
       "      <td>1999-08-14 20:30:33</td>\n",
       "      <td>2</td>\n",
       "      <td>1999-07-22 22:38:09</td>\n",
       "      <td>22</td>\n",
       "    </tr>\n",
       "    <tr>\n",
       "      <th>7</th>\n",
       "      <td>1999-08-18 18:56:26</td>\n",
       "      <td>2</td>\n",
       "      <td>1999-07-22 22:38:09</td>\n",
       "      <td>26</td>\n",
       "    </tr>\n",
       "    <tr>\n",
       "      <th>8</th>\n",
       "      <td>1999-08-20 09:27:12</td>\n",
       "      <td>2</td>\n",
       "      <td>1999-07-22 22:38:09</td>\n",
       "      <td>28</td>\n",
       "    </tr>\n",
       "    <tr>\n",
       "      <th>9</th>\n",
       "      <td>1999-08-26 15:52:32</td>\n",
       "      <td>2</td>\n",
       "      <td>1999-07-22 22:38:09</td>\n",
       "      <td>34</td>\n",
       "    </tr>\n",
       "  </tbody>\n",
       "</table>\n",
       "</div>"
      ]
     },
     "execution_count": 155,
     "metadata": {},
     "output_type": "execute_result"
    }
   ],
   "execution_count": 155
  },
  {
   "cell_type": "code",
   "metadata": {
    "ExecuteTime": {
     "end_time": "2025-01-24T18:28:10.852772Z",
     "start_time": "2025-01-24T18:28:09.870737Z"
    }
   },
   "source": [
    "# считаем сколько уникальных юзеров вошло в первый день, второй и тд\n",
    "\n",
    "retention = (\n",
    "    merged_data.groupby('days_since_registration')['uid'] # группируем дни регистрации по uid. Получается на 1 день множестно id. Считаем их\n",
    "    .nunique()\n",
    "    .reset_index()\n",
    "    .rename(columns={'uid': 'unique_users'})\n",
    "    )\n",
    "retention.head(10)"
   ],
   "outputs": [
    {
     "data": {
      "text/plain": [
       "   days_since_registration  unique_users\n",
       "0                        0       1000000\n",
       "1                        1         40202\n",
       "2                        2         42991\n",
       "3                        3         49152\n",
       "4                        4         56070\n",
       "5                        5         63713\n",
       "6                        6         72773\n",
       "7                        7         43626\n",
       "8                        8         49667\n",
       "9                        9         50373"
      ],
      "text/html": [
       "<div>\n",
       "<style scoped>\n",
       "    .dataframe tbody tr th:only-of-type {\n",
       "        vertical-align: middle;\n",
       "    }\n",
       "\n",
       "    .dataframe tbody tr th {\n",
       "        vertical-align: top;\n",
       "    }\n",
       "\n",
       "    .dataframe thead th {\n",
       "        text-align: right;\n",
       "    }\n",
       "</style>\n",
       "<table border=\"1\" class=\"dataframe\">\n",
       "  <thead>\n",
       "    <tr style=\"text-align: right;\">\n",
       "      <th></th>\n",
       "      <th>days_since_registration</th>\n",
       "      <th>unique_users</th>\n",
       "    </tr>\n",
       "  </thead>\n",
       "  <tbody>\n",
       "    <tr>\n",
       "      <th>0</th>\n",
       "      <td>0</td>\n",
       "      <td>1000000</td>\n",
       "    </tr>\n",
       "    <tr>\n",
       "      <th>1</th>\n",
       "      <td>1</td>\n",
       "      <td>40202</td>\n",
       "    </tr>\n",
       "    <tr>\n",
       "      <th>2</th>\n",
       "      <td>2</td>\n",
       "      <td>42991</td>\n",
       "    </tr>\n",
       "    <tr>\n",
       "      <th>3</th>\n",
       "      <td>3</td>\n",
       "      <td>49152</td>\n",
       "    </tr>\n",
       "    <tr>\n",
       "      <th>4</th>\n",
       "      <td>4</td>\n",
       "      <td>56070</td>\n",
       "    </tr>\n",
       "    <tr>\n",
       "      <th>5</th>\n",
       "      <td>5</td>\n",
       "      <td>63713</td>\n",
       "    </tr>\n",
       "    <tr>\n",
       "      <th>6</th>\n",
       "      <td>6</td>\n",
       "      <td>72773</td>\n",
       "    </tr>\n",
       "    <tr>\n",
       "      <th>7</th>\n",
       "      <td>7</td>\n",
       "      <td>43626</td>\n",
       "    </tr>\n",
       "    <tr>\n",
       "      <th>8</th>\n",
       "      <td>8</td>\n",
       "      <td>49667</td>\n",
       "    </tr>\n",
       "    <tr>\n",
       "      <th>9</th>\n",
       "      <td>9</td>\n",
       "      <td>50373</td>\n",
       "    </tr>\n",
       "  </tbody>\n",
       "</table>\n",
       "</div>"
      ]
     },
     "execution_count": 156,
     "metadata": {},
     "output_type": "execute_result"
    }
   ],
   "execution_count": 156
  },
  {
   "cell_type": "code",
   "metadata": {
    "ExecuteTime": {
     "end_time": "2025-01-24T18:28:10.914174Z",
     "start_time": "2025-01-24T18:28:10.892679Z"
    }
   },
   "source": [
    "# процент ретеншена от общего число пользователей\n",
    "total_users = reg_data['uid'].nunique()\n",
    "retention['retention_rate'] = retention['unique_users'] / total_users * 100  # процент удержания\n",
    "retention.head(10)"
   ],
   "outputs": [
    {
     "data": {
      "text/plain": [
       "   days_since_registration  unique_users  retention_rate\n",
       "0                        0       1000000        100.0000\n",
       "1                        1         40202          4.0202\n",
       "2                        2         42991          4.2991\n",
       "3                        3         49152          4.9152\n",
       "4                        4         56070          5.6070\n",
       "5                        5         63713          6.3713\n",
       "6                        6         72773          7.2773\n",
       "7                        7         43626          4.3626\n",
       "8                        8         49667          4.9667\n",
       "9                        9         50373          5.0373"
      ],
      "text/html": [
       "<div>\n",
       "<style scoped>\n",
       "    .dataframe tbody tr th:only-of-type {\n",
       "        vertical-align: middle;\n",
       "    }\n",
       "\n",
       "    .dataframe tbody tr th {\n",
       "        vertical-align: top;\n",
       "    }\n",
       "\n",
       "    .dataframe thead th {\n",
       "        text-align: right;\n",
       "    }\n",
       "</style>\n",
       "<table border=\"1\" class=\"dataframe\">\n",
       "  <thead>\n",
       "    <tr style=\"text-align: right;\">\n",
       "      <th></th>\n",
       "      <th>days_since_registration</th>\n",
       "      <th>unique_users</th>\n",
       "      <th>retention_rate</th>\n",
       "    </tr>\n",
       "  </thead>\n",
       "  <tbody>\n",
       "    <tr>\n",
       "      <th>0</th>\n",
       "      <td>0</td>\n",
       "      <td>1000000</td>\n",
       "      <td>100.0000</td>\n",
       "    </tr>\n",
       "    <tr>\n",
       "      <th>1</th>\n",
       "      <td>1</td>\n",
       "      <td>40202</td>\n",
       "      <td>4.0202</td>\n",
       "    </tr>\n",
       "    <tr>\n",
       "      <th>2</th>\n",
       "      <td>2</td>\n",
       "      <td>42991</td>\n",
       "      <td>4.2991</td>\n",
       "    </tr>\n",
       "    <tr>\n",
       "      <th>3</th>\n",
       "      <td>3</td>\n",
       "      <td>49152</td>\n",
       "      <td>4.9152</td>\n",
       "    </tr>\n",
       "    <tr>\n",
       "      <th>4</th>\n",
       "      <td>4</td>\n",
       "      <td>56070</td>\n",
       "      <td>5.6070</td>\n",
       "    </tr>\n",
       "    <tr>\n",
       "      <th>5</th>\n",
       "      <td>5</td>\n",
       "      <td>63713</td>\n",
       "      <td>6.3713</td>\n",
       "    </tr>\n",
       "    <tr>\n",
       "      <th>6</th>\n",
       "      <td>6</td>\n",
       "      <td>72773</td>\n",
       "      <td>7.2773</td>\n",
       "    </tr>\n",
       "    <tr>\n",
       "      <th>7</th>\n",
       "      <td>7</td>\n",
       "      <td>43626</td>\n",
       "      <td>4.3626</td>\n",
       "    </tr>\n",
       "    <tr>\n",
       "      <th>8</th>\n",
       "      <td>8</td>\n",
       "      <td>49667</td>\n",
       "      <td>4.9667</td>\n",
       "    </tr>\n",
       "    <tr>\n",
       "      <th>9</th>\n",
       "      <td>9</td>\n",
       "      <td>50373</td>\n",
       "      <td>5.0373</td>\n",
       "    </tr>\n",
       "  </tbody>\n",
       "</table>\n",
       "</div>"
      ]
     },
     "execution_count": 157,
     "metadata": {},
     "output_type": "execute_result"
    }
   ],
   "execution_count": 157
  },
  {
   "cell_type": "code",
   "metadata": {
    "ExecuteTime": {
     "end_time": "2025-01-24T18:28:11.009937Z",
     "start_time": "2025-01-24T18:28:11.004132Z"
    }
   },
   "source": [
    "# отрезаем всех кто вошел дальеш чем 60 дней\n",
    "days_analys = 60\n",
    "days_analys_retention = retention.query('days_since_registration <= @days_analys')\n",
    "\n",
    "# ретеншн первого дня 100%, так что его можно отрезать\n",
    "days_analys_retention_without_0 = retention.query('days_since_registration <= @days_analys and days_since_registration > 0')"
   ],
   "outputs": [],
   "execution_count": 158
  },
  {
   "cell_type": "code",
   "metadata": {
    "ExecuteTime": {
     "end_time": "2025-01-24T18:28:11.177625Z",
     "start_time": "2025-01-24T18:28:11.088791Z"
    }
   },
   "source": [
    "# график общего ретеншна начиная с дня 0 (по дням от даты регистрации игрока)\n",
    "\n",
    "def plot_retention(retention_data):\n",
    "    plt.figure(figsize=(12, 6))\n",
    "    plt.plot(retention_data['days_since_registration'], retention_data['retention_rate'], marker='o')\n",
    "    plt.title('Retention игроков по дням от даты регистрации', fontsize=16)\n",
    "    plt.xlabel('Количество дней с момента регистрации', fontsize=14)\n",
    "    plt.ylabel('Retention, %', fontsize=14)\n",
    "    plt.grid(True)\n",
    "    plt.show()\n",
    "\n",
    "plot_retention(days_analys_retention)\n"
   ],
   "outputs": [
    {
     "data": {
      "text/plain": [
       "<Figure size 1200x600 with 1 Axes>"
      ],
      "image/png": "[encoded data removed]"
     },
     "metadata": {},
     "output_type": "display_data"
    }
   ],
   "execution_count": 159
  },
  {
   "cell_type": "code",
   "metadata": {
    "ExecuteTime": {
     "end_time": "2025-01-24T18:28:11.254598Z",
     "start_time": "2025-01-24T18:28:11.189846Z"
    }
   },
   "source": [
    "# общий ретеншн по дням без учета дня 0 (по дням от даты регистрации игрока)\n",
    "\n",
    "def plot_retention(retention_data):\n",
    "    plt.figure(figsize=(12, 6))\n",
    "    plt.plot(retention_data['days_since_registration'], retention_data['retention_rate'], marker='o')\n",
    "    plt.title('Retention игроков по дням от даты регистрации', fontsize=16)\n",
    "    plt.xlabel('Количество дней с момента регистрации', fontsize=14)\n",
    "    plt.ylabel('Retention, %', fontsize=14)\n",
    "    plt.grid(True)\n",
    "    plt.show()\n",
    "\n",
    "plot_retention(days_analys_retention_without_0)\n"
   ],
   "outputs": [
    {
     "data": {
      "text/plain": [
       "<Figure size 1200x600 with 1 Axes>"
      ],
      "image/png": "[encoded data removed]"
     },
     "metadata": {},
     "output_type": "display_data"
    }
   ],
   "execution_count": 160
  },
  {
   "metadata": {},
   "cell_type": "markdown",
   "source": [
    "Второй вариант расчета задачи\n",
    "\n",
    "если нужен когортный анализ\n",
    "\n",
    "Тут мы берем выборку данных из аутентификайи и полные реги для оптимизации процесса\n",
    "\n",
    "Затем задаем нужные даты для анализа\n",
    "\n",
    "Проводим объединение выбранных данных\n",
    "\n",
    "Считаем сколько дней прошло с момента первого входа\n",
    "\n",
    "Группируем по дате регистрации и дню\n",
    "\n",
    "Считаем сколько уникальных пользователей зашло в этот день\n",
    "\n",
    "Делаем пивот таблицы, где в индексе будет день регистрации, а в колонке будет день. В значениях будет сколько уникальных пользователей в этот день\n",
    "\n",
    "Далее рассчитываем ретеншн деля все значения на значение в столбике 0 (день 0)"
   ]
  },
  {
   "metadata": {
    "ExecuteTime": {
     "end_time": "2025-01-24T18:28:11.281490Z",
     "start_time": "2025-01-24T18:28:11.276303Z"
    }
   },
   "cell_type": "code",
   "source": "reg_data.head(10)",
   "outputs": [
    {
     "data": {
      "text/plain": [
       "               reg_ts  uid\n",
       "0 1998-11-18 09:43:43    1\n",
       "1 1999-07-22 22:38:09    2\n",
       "2 2000-01-13 22:27:27    3\n",
       "3 2000-05-28 14:19:01    4\n",
       "4 2000-09-16 11:21:53    5\n",
       "5 2000-12-19 06:14:55    6\n",
       "6 2001-03-10 11:11:11    7\n",
       "7 2001-05-21 01:16:18    8\n",
       "8 2001-07-24 03:02:45    9\n",
       "9 2001-09-20 02:07:54   10"
      ],
      "text/html": [
       "<div>\n",
       "<style scoped>\n",
       "    .dataframe tbody tr th:only-of-type {\n",
       "        vertical-align: middle;\n",
       "    }\n",
       "\n",
       "    .dataframe tbody tr th {\n",
       "        vertical-align: top;\n",
       "    }\n",
       "\n",
       "    .dataframe thead th {\n",
       "        text-align: right;\n",
       "    }\n",
       "</style>\n",
       "<table border=\"1\" class=\"dataframe\">\n",
       "  <thead>\n",
       "    <tr style=\"text-align: right;\">\n",
       "      <th></th>\n",
       "      <th>reg_ts</th>\n",
       "      <th>uid</th>\n",
       "    </tr>\n",
       "  </thead>\n",
       "  <tbody>\n",
       "    <tr>\n",
       "      <th>0</th>\n",
       "      <td>1998-11-18 09:43:43</td>\n",
       "      <td>1</td>\n",
       "    </tr>\n",
       "    <tr>\n",
       "      <th>1</th>\n",
       "      <td>1999-07-22 22:38:09</td>\n",
       "      <td>2</td>\n",
       "    </tr>\n",
       "    <tr>\n",
       "      <th>2</th>\n",
       "      <td>2000-01-13 22:27:27</td>\n",
       "      <td>3</td>\n",
       "    </tr>\n",
       "    <tr>\n",
       "      <th>3</th>\n",
       "      <td>2000-05-28 14:19:01</td>\n",
       "      <td>4</td>\n",
       "    </tr>\n",
       "    <tr>\n",
       "      <th>4</th>\n",
       "      <td>2000-09-16 11:21:53</td>\n",
       "      <td>5</td>\n",
       "    </tr>\n",
       "    <tr>\n",
       "      <th>5</th>\n",
       "      <td>2000-12-19 06:14:55</td>\n",
       "      <td>6</td>\n",
       "    </tr>\n",
       "    <tr>\n",
       "      <th>6</th>\n",
       "      <td>2001-03-10 11:11:11</td>\n",
       "      <td>7</td>\n",
       "    </tr>\n",
       "    <tr>\n",
       "      <th>7</th>\n",
       "      <td>2001-05-21 01:16:18</td>\n",
       "      <td>8</td>\n",
       "    </tr>\n",
       "    <tr>\n",
       "      <th>8</th>\n",
       "      <td>2001-07-24 03:02:45</td>\n",
       "      <td>9</td>\n",
       "    </tr>\n",
       "    <tr>\n",
       "      <th>9</th>\n",
       "      <td>2001-09-20 02:07:54</td>\n",
       "      <td>10</td>\n",
       "    </tr>\n",
       "  </tbody>\n",
       "</table>\n",
       "</div>"
      ]
     },
     "execution_count": 161,
     "metadata": {},
     "output_type": "execute_result"
    }
   ],
   "execution_count": 161
  },
  {
   "metadata": {
    "ExecuteTime": {
     "end_time": "2025-01-24T18:28:24.167897Z",
     "start_time": "2025-01-24T18:28:11.325018Z"
    }
   },
   "cell_type": "code",
   "source": [
    "# Преобразование данных в нужный формат\n",
    "reg_data['registration'] = pd.to_datetime(reg_data['reg_ts'], unit='s').dt.to_period('D')\n",
    "\n",
    "# Выборка случайных данных из auth_date\n",
    "# auth_sample = auth_data.sample(500000, random_state=1)\n",
    "\n",
    "# Преобразование данных в нужный формат\n",
    "# тут добавляется новый столбик с нормальными датами, который берется из auth_ts\n",
    "auth_data['authorization'] = pd.to_datetime(auth_data['auth_ts'], unit='s').dt.to_period('D')\n",
    "\n",
    "# # Фильтрация данных по периоду\n",
    "start = \"2020-08-01\"\n",
    "end = \"2020-08-07\"\n",
    "#\n",
    "reg_filtered = reg_data.query('@start <= registration <= @end')\n",
    "\n",
    "# не фильтруем датафрейм с аутентификациями иначе часть данных обрежется\n",
    "\n",
    "\n",
    "# Объединение данных\n",
    "# сохраняются все строки из первой таблицы (с которой производятся действия)\n",
    "merged = reg_filtered.merge(auth_data, on='uid', how='left').dropna()\n",
    "merged.head(10)"
   ],
   "outputs": [
    {
     "data": {
      "text/plain": [
       "               reg_ts      uid registration             auth_ts authorization\n",
       "0 2020-08-01 00:00:04  1016863   2020-08-01 2020-08-01 00:00:04    2020-08-01\n",
       "1 2020-08-01 00:00:04  1016863   2020-08-01 2020-08-06 14:03:50    2020-08-06\n",
       "2 2020-08-01 00:00:04  1016863   2020-08-01 2020-08-11 12:52:26    2020-08-11\n",
       "3 2020-08-01 00:00:04  1016863   2020-08-01 2020-08-15 09:20:35    2020-08-15\n",
       "4 2020-08-01 00:00:04  1016863   2020-08-01 2020-08-18 03:27:04    2020-08-18\n",
       "5 2020-08-01 00:00:04  1016863   2020-08-01 2020-08-19 12:12:11    2020-08-19\n",
       "6 2020-08-01 00:00:04  1016863   2020-08-01 2020-08-25 11:28:59    2020-08-25\n",
       "7 2020-08-01 00:01:01  1016864   2020-08-01 2020-08-01 00:01:01    2020-08-01\n",
       "8 2020-08-01 00:01:59  1016865   2020-08-01 2020-08-01 00:01:59    2020-08-01\n",
       "9 2020-08-01 00:02:56  1016866   2020-08-01 2020-08-01 00:02:56    2020-08-01"
      ],
      "text/html": [
       "<div>\n",
       "<style scoped>\n",
       "    .dataframe tbody tr th:only-of-type {\n",
       "        vertical-align: middle;\n",
       "    }\n",
       "\n",
       "    .dataframe tbody tr th {\n",
       "        vertical-align: top;\n",
       "    }\n",
       "\n",
       "    .dataframe thead th {\n",
       "        text-align: right;\n",
       "    }\n",
       "</style>\n",
       "<table border=\"1\" class=\"dataframe\">\n",
       "  <thead>\n",
       "    <tr style=\"text-align: right;\">\n",
       "      <th></th>\n",
       "      <th>reg_ts</th>\n",
       "      <th>uid</th>\n",
       "      <th>registration</th>\n",
       "      <th>auth_ts</th>\n",
       "      <th>authorization</th>\n",
       "    </tr>\n",
       "  </thead>\n",
       "  <tbody>\n",
       "    <tr>\n",
       "      <th>0</th>\n",
       "      <td>2020-08-01 00:00:04</td>\n",
       "      <td>1016863</td>\n",
       "      <td>2020-08-01</td>\n",
       "      <td>2020-08-01 00:00:04</td>\n",
       "      <td>2020-08-01</td>\n",
       "    </tr>\n",
       "    <tr>\n",
       "      <th>1</th>\n",
       "      <td>2020-08-01 00:00:04</td>\n",
       "      <td>1016863</td>\n",
       "      <td>2020-08-01</td>\n",
       "      <td>2020-08-06 14:03:50</td>\n",
       "      <td>2020-08-06</td>\n",
       "    </tr>\n",
       "    <tr>\n",
       "      <th>2</th>\n",
       "      <td>2020-08-01 00:00:04</td>\n",
       "      <td>1016863</td>\n",
       "      <td>2020-08-01</td>\n",
       "      <td>2020-08-11 12:52:26</td>\n",
       "      <td>2020-08-11</td>\n",
       "    </tr>\n",
       "    <tr>\n",
       "      <th>3</th>\n",
       "      <td>2020-08-01 00:00:04</td>\n",
       "      <td>1016863</td>\n",
       "      <td>2020-08-01</td>\n",
       "      <td>2020-08-15 09:20:35</td>\n",
       "      <td>2020-08-15</td>\n",
       "    </tr>\n",
       "    <tr>\n",
       "      <th>4</th>\n",
       "      <td>2020-08-01 00:00:04</td>\n",
       "      <td>1016863</td>\n",
       "      <td>2020-08-01</td>\n",
       "      <td>2020-08-18 03:27:04</td>\n",
       "      <td>2020-08-18</td>\n",
       "    </tr>\n",
       "    <tr>\n",
       "      <th>5</th>\n",
       "      <td>2020-08-01 00:00:04</td>\n",
       "      <td>1016863</td>\n",
       "      <td>2020-08-01</td>\n",
       "      <td>2020-08-19 12:12:11</td>\n",
       "      <td>2020-08-19</td>\n",
       "    </tr>\n",
       "    <tr>\n",
       "      <th>6</th>\n",
       "      <td>2020-08-01 00:00:04</td>\n",
       "      <td>1016863</td>\n",
       "      <td>2020-08-01</td>\n",
       "      <td>2020-08-25 11:28:59</td>\n",
       "      <td>2020-08-25</td>\n",
       "    </tr>\n",
       "    <tr>\n",
       "      <th>7</th>\n",
       "      <td>2020-08-01 00:01:01</td>\n",
       "      <td>1016864</td>\n",
       "      <td>2020-08-01</td>\n",
       "      <td>2020-08-01 00:01:01</td>\n",
       "      <td>2020-08-01</td>\n",
       "    </tr>\n",
       "    <tr>\n",
       "      <th>8</th>\n",
       "      <td>2020-08-01 00:01:59</td>\n",
       "      <td>1016865</td>\n",
       "      <td>2020-08-01</td>\n",
       "      <td>2020-08-01 00:01:59</td>\n",
       "      <td>2020-08-01</td>\n",
       "    </tr>\n",
       "    <tr>\n",
       "      <th>9</th>\n",
       "      <td>2020-08-01 00:02:56</td>\n",
       "      <td>1016866</td>\n",
       "      <td>2020-08-01</td>\n",
       "      <td>2020-08-01 00:02:56</td>\n",
       "      <td>2020-08-01</td>\n",
       "    </tr>\n",
       "  </tbody>\n",
       "</table>\n",
       "</div>"
      ]
     },
     "execution_count": 162,
     "metadata": {},
     "output_type": "execute_result"
    }
   ],
   "execution_count": 162
  },
  {
   "metadata": {
    "ExecuteTime": {
     "end_time": "2025-01-24T18:28:24.245648Z",
     "start_time": "2025-01-24T18:28:24.204781Z"
    }
   },
   "cell_type": "code",
   "source": [
    "merged['days'] = (merged['authorization'] - merged['registration'])\n",
    "merged['days'] = merged['days'].apply(lambda x: x.n)\n",
    "merged.head(10)"
   ],
   "outputs": [
    {
     "data": {
      "text/plain": [
       "               reg_ts      uid registration             auth_ts authorization  \\\n",
       "0 2020-08-01 00:00:04  1016863   2020-08-01 2020-08-01 00:00:04    2020-08-01   \n",
       "1 2020-08-01 00:00:04  1016863   2020-08-01 2020-08-06 14:03:50    2020-08-06   \n",
       "2 2020-08-01 00:00:04  1016863   2020-08-01 2020-08-11 12:52:26    2020-08-11   \n",
       "3 2020-08-01 00:00:04  1016863   2020-08-01 2020-08-15 09:20:35    2020-08-15   \n",
       "4 2020-08-01 00:00:04  1016863   2020-08-01 2020-08-18 03:27:04    2020-08-18   \n",
       "5 2020-08-01 00:00:04  1016863   2020-08-01 2020-08-19 12:12:11    2020-08-19   \n",
       "6 2020-08-01 00:00:04  1016863   2020-08-01 2020-08-25 11:28:59    2020-08-25   \n",
       "7 2020-08-01 00:01:01  1016864   2020-08-01 2020-08-01 00:01:01    2020-08-01   \n",
       "8 2020-08-01 00:01:59  1016865   2020-08-01 2020-08-01 00:01:59    2020-08-01   \n",
       "9 2020-08-01 00:02:56  1016866   2020-08-01 2020-08-01 00:02:56    2020-08-01   \n",
       "\n",
       "   days  \n",
       "0     0  \n",
       "1     5  \n",
       "2    10  \n",
       "3    14  \n",
       "4    17  \n",
       "5    18  \n",
       "6    24  \n",
       "7     0  \n",
       "8     0  \n",
       "9     0  "
      ],
      "text/html": [
       "<div>\n",
       "<style scoped>\n",
       "    .dataframe tbody tr th:only-of-type {\n",
       "        vertical-align: middle;\n",
       "    }\n",
       "\n",
       "    .dataframe tbody tr th {\n",
       "        vertical-align: top;\n",
       "    }\n",
       "\n",
       "    .dataframe thead th {\n",
       "        text-align: right;\n",
       "    }\n",
       "</style>\n",
       "<table border=\"1\" class=\"dataframe\">\n",
       "  <thead>\n",
       "    <tr style=\"text-align: right;\">\n",
       "      <th></th>\n",
       "      <th>reg_ts</th>\n",
       "      <th>uid</th>\n",
       "      <th>registration</th>\n",
       "      <th>auth_ts</th>\n",
       "      <th>authorization</th>\n",
       "      <th>days</th>\n",
       "    </tr>\n",
       "  </thead>\n",
       "  <tbody>\n",
       "    <tr>\n",
       "      <th>0</th>\n",
       "      <td>2020-08-01 00:00:04</td>\n",
       "      <td>1016863</td>\n",
       "      <td>2020-08-01</td>\n",
       "      <td>2020-08-01 00:00:04</td>\n",
       "      <td>2020-08-01</td>\n",
       "      <td>0</td>\n",
       "    </tr>\n",
       "    <tr>\n",
       "      <th>1</th>\n",
       "      <td>2020-08-01 00:00:04</td>\n",
       "      <td>1016863</td>\n",
       "      <td>2020-08-01</td>\n",
       "      <td>2020-08-06 14:03:50</td>\n",
       "      <td>2020-08-06</td>\n",
       "      <td>5</td>\n",
       "    </tr>\n",
       "    <tr>\n",
       "      <th>2</th>\n",
       "      <td>2020-08-01 00:00:04</td>\n",
       "      <td>1016863</td>\n",
       "      <td>2020-08-01</td>\n",
       "      <td>2020-08-11 12:52:26</td>\n",
       "      <td>2020-08-11</td>\n",
       "      <td>10</td>\n",
       "    </tr>\n",
       "    <tr>\n",
       "      <th>3</th>\n",
       "      <td>2020-08-01 00:00:04</td>\n",
       "      <td>1016863</td>\n",
       "      <td>2020-08-01</td>\n",
       "      <td>2020-08-15 09:20:35</td>\n",
       "      <td>2020-08-15</td>\n",
       "      <td>14</td>\n",
       "    </tr>\n",
       "    <tr>\n",
       "      <th>4</th>\n",
       "      <td>2020-08-01 00:00:04</td>\n",
       "      <td>1016863</td>\n",
       "      <td>2020-08-01</td>\n",
       "      <td>2020-08-18 03:27:04</td>\n",
       "      <td>2020-08-18</td>\n",
       "      <td>17</td>\n",
       "    </tr>\n",
       "    <tr>\n",
       "      <th>5</th>\n",
       "      <td>2020-08-01 00:00:04</td>\n",
       "      <td>1016863</td>\n",
       "      <td>2020-08-01</td>\n",
       "      <td>2020-08-19 12:12:11</td>\n",
       "      <td>2020-08-19</td>\n",
       "      <td>18</td>\n",
       "    </tr>\n",
       "    <tr>\n",
       "      <th>6</th>\n",
       "      <td>2020-08-01 00:00:04</td>\n",
       "      <td>1016863</td>\n",
       "      <td>2020-08-01</td>\n",
       "      <td>2020-08-25 11:28:59</td>\n",
       "      <td>2020-08-25</td>\n",
       "      <td>24</td>\n",
       "    </tr>\n",
       "    <tr>\n",
       "      <th>7</th>\n",
       "      <td>2020-08-01 00:01:01</td>\n",
       "      <td>1016864</td>\n",
       "      <td>2020-08-01</td>\n",
       "      <td>2020-08-01 00:01:01</td>\n",
       "      <td>2020-08-01</td>\n",
       "      <td>0</td>\n",
       "    </tr>\n",
       "    <tr>\n",
       "      <th>8</th>\n",
       "      <td>2020-08-01 00:01:59</td>\n",
       "      <td>1016865</td>\n",
       "      <td>2020-08-01</td>\n",
       "      <td>2020-08-01 00:01:59</td>\n",
       "      <td>2020-08-01</td>\n",
       "      <td>0</td>\n",
       "    </tr>\n",
       "    <tr>\n",
       "      <th>9</th>\n",
       "      <td>2020-08-01 00:02:56</td>\n",
       "      <td>1016866</td>\n",
       "      <td>2020-08-01</td>\n",
       "      <td>2020-08-01 00:02:56</td>\n",
       "      <td>2020-08-01</td>\n",
       "      <td>0</td>\n",
       "    </tr>\n",
       "  </tbody>\n",
       "</table>\n",
       "</div>"
      ]
     },
     "execution_count": 163,
     "metadata": {},
     "output_type": "execute_result"
    }
   ],
   "execution_count": 163
  },
  {
   "metadata": {
    "ExecuteTime": {
     "end_time": "2025-01-24T18:28:24.353547Z",
     "start_time": "2025-01-24T18:28:24.343174Z"
    }
   },
   "cell_type": "code",
   "source": [
    "# Группируем данные по дате регистрации и количеству дней\n",
    "# Тоесть группируется все дни захода всех пользователей по первой дате\n",
    "grouped = merged.groupby(['registration', 'days'])\n",
    "\n",
    "# Считаем количество уникальных пользователей в каждой группе\n",
    "aggregated = grouped.agg(user_count=('uid', 'nunique'))\n",
    "\n",
    "# Сбрасываем индексы, чтобы преобразовать их в столбцы\n",
    "cohorts = aggregated.reset_index()"
   ],
   "outputs": [],
   "execution_count": 164
  },
  {
   "metadata": {
    "ExecuteTime": {
     "end_time": "2025-01-24T18:28:24.437928Z",
     "start_time": "2025-01-24T18:28:24.433627Z"
    }
   },
   "cell_type": "code",
   "source": "cohorts.head(10)",
   "outputs": [
    {
     "data": {
      "text/plain": [
       "  registration  days  user_count\n",
       "0   2020-08-01     0        1507\n",
       "1   2020-08-01     1          29\n",
       "2   2020-08-01     2          67\n",
       "3   2020-08-01     3          65\n",
       "4   2020-08-01     4          84\n",
       "5   2020-08-01     5          89\n",
       "6   2020-08-01     6         115\n",
       "7   2020-08-01     7          96\n",
       "8   2020-08-01     8          68\n",
       "9   2020-08-01     9          96"
      ],
      "text/html": [
       "<div>\n",
       "<style scoped>\n",
       "    .dataframe tbody tr th:only-of-type {\n",
       "        vertical-align: middle;\n",
       "    }\n",
       "\n",
       "    .dataframe tbody tr th {\n",
       "        vertical-align: top;\n",
       "    }\n",
       "\n",
       "    .dataframe thead th {\n",
       "        text-align: right;\n",
       "    }\n",
       "</style>\n",
       "<table border=\"1\" class=\"dataframe\">\n",
       "  <thead>\n",
       "    <tr style=\"text-align: right;\">\n",
       "      <th></th>\n",
       "      <th>registration</th>\n",
       "      <th>days</th>\n",
       "      <th>user_count</th>\n",
       "    </tr>\n",
       "  </thead>\n",
       "  <tbody>\n",
       "    <tr>\n",
       "      <th>0</th>\n",
       "      <td>2020-08-01</td>\n",
       "      <td>0</td>\n",
       "      <td>1507</td>\n",
       "    </tr>\n",
       "    <tr>\n",
       "      <th>1</th>\n",
       "      <td>2020-08-01</td>\n",
       "      <td>1</td>\n",
       "      <td>29</td>\n",
       "    </tr>\n",
       "    <tr>\n",
       "      <th>2</th>\n",
       "      <td>2020-08-01</td>\n",
       "      <td>2</td>\n",
       "      <td>67</td>\n",
       "    </tr>\n",
       "    <tr>\n",
       "      <th>3</th>\n",
       "      <td>2020-08-01</td>\n",
       "      <td>3</td>\n",
       "      <td>65</td>\n",
       "    </tr>\n",
       "    <tr>\n",
       "      <th>4</th>\n",
       "      <td>2020-08-01</td>\n",
       "      <td>4</td>\n",
       "      <td>84</td>\n",
       "    </tr>\n",
       "    <tr>\n",
       "      <th>5</th>\n",
       "      <td>2020-08-01</td>\n",
       "      <td>5</td>\n",
       "      <td>89</td>\n",
       "    </tr>\n",
       "    <tr>\n",
       "      <th>6</th>\n",
       "      <td>2020-08-01</td>\n",
       "      <td>6</td>\n",
       "      <td>115</td>\n",
       "    </tr>\n",
       "    <tr>\n",
       "      <th>7</th>\n",
       "      <td>2020-08-01</td>\n",
       "      <td>7</td>\n",
       "      <td>96</td>\n",
       "    </tr>\n",
       "    <tr>\n",
       "      <th>8</th>\n",
       "      <td>2020-08-01</td>\n",
       "      <td>8</td>\n",
       "      <td>68</td>\n",
       "    </tr>\n",
       "    <tr>\n",
       "      <th>9</th>\n",
       "      <td>2020-08-01</td>\n",
       "      <td>9</td>\n",
       "      <td>96</td>\n",
       "    </tr>\n",
       "  </tbody>\n",
       "</table>\n",
       "</div>"
      ]
     },
     "execution_count": 165,
     "metadata": {},
     "output_type": "execute_result"
    }
   ],
   "execution_count": 165
  },
  {
   "metadata": {
    "ExecuteTime": {
     "end_time": "2025-01-24T18:28:24.480325Z",
     "start_time": "2025-01-24T18:28:24.468433Z"
    }
   },
   "cell_type": "code",
   "source": [
    "# Создание сводной таблицы\n",
    "pivot_table = cohorts.pivot(index='registration', columns='days', values='user_count')\n",
    "\n",
    "pivot_table.head(10)"
   ],
   "outputs": [
    {
     "data": {
      "text/plain": [
       "days              0     1     2     3     4     5      6     7     8     9   \\\n",
       "registration                                                                  \n",
       "2020-08-01    1507.0  29.0  67.0  65.0  84.0  89.0  115.0  96.0  68.0  96.0   \n",
       "2020-08-02    1509.0  39.0  61.0  66.0  78.0  98.0  100.0  91.0  68.0  80.0   \n",
       "2020-08-03    1512.0  26.0  65.0  61.0  84.0  93.0  114.0  80.0  75.0  74.0   \n",
       "2020-08-04    1514.0  31.0  54.0  71.0  79.0  80.0   98.0  78.0  67.0  71.0   \n",
       "2020-08-05    1517.0  39.0  53.0  61.0  87.0  77.0  118.0  93.0  64.0  72.0   \n",
       "2020-08-06    1519.0  26.0  77.0  87.0  85.0  87.0  114.0  92.0  76.0  88.0   \n",
       "2020-08-07    1522.0  33.0  47.0  80.0  81.0  91.0  109.0  94.0  78.0  76.0   \n",
       "\n",
       "days          ...    44    45    46    47    48    49    50    51    52    53  \n",
       "registration  ...                                                              \n",
       "2020-08-01    ...  27.0  21.0  27.0  11.0  14.0  24.0  24.0  18.0  19.0  13.0  \n",
       "2020-08-02    ...  22.0  16.0  20.0  19.0  20.0  16.0  25.0  21.0   6.0   NaN  \n",
       "2020-08-03    ...  30.0  27.0  23.0  22.0  23.0  17.0  15.0  14.0   NaN   NaN  \n",
       "2020-08-04    ...  25.0  26.0  20.0  20.0  22.0  15.0  12.0   NaN   NaN   NaN  \n",
       "2020-08-05    ...  19.0  24.0  10.0  16.0  16.0   8.0   NaN   NaN   NaN   NaN  \n",
       "2020-08-06    ...  18.0  17.0  17.0  15.0  17.0   NaN   NaN   NaN   NaN   NaN  \n",
       "2020-08-07    ...  20.0  22.0  22.0  13.0   NaN   NaN   NaN   NaN   NaN   NaN  \n",
       "\n",
       "[7 rows x 54 columns]"
      ],
      "text/html": [
       "<div>\n",
       "<style scoped>\n",
       "    .dataframe tbody tr th:only-of-type {\n",
       "        vertical-align: middle;\n",
       "    }\n",
       "\n",
       "    .dataframe tbody tr th {\n",
       "        vertical-align: top;\n",
       "    }\n",
       "\n",
       "    .dataframe thead th {\n",
       "        text-align: right;\n",
       "    }\n",
       "</style>\n",
       "<table border=\"1\" class=\"dataframe\">\n",
       "  <thead>\n",
       "    <tr style=\"text-align: right;\">\n",
       "      <th>days</th>\n",
       "      <th>0</th>\n",
       "      <th>1</th>\n",
       "      <th>2</th>\n",
       "      <th>3</th>\n",
       "      <th>4</th>\n",
       "      <th>5</th>\n",
       "      <th>6</th>\n",
       "      <th>7</th>\n",
       "      <th>8</th>\n",
       "      <th>9</th>\n",
       "      <th>...</th>\n",
       "      <th>44</th>\n",
       "      <th>45</th>\n",
       "      <th>46</th>\n",
       "      <th>47</th>\n",
       "      <th>48</th>\n",
       "      <th>49</th>\n",
       "      <th>50</th>\n",
       "      <th>51</th>\n",
       "      <th>52</th>\n",
       "      <th>53</th>\n",
       "    </tr>\n",
       "    <tr>\n",
       "      <th>registration</th>\n",
       "      <th></th>\n",
       "      <th></th>\n",
       "      <th></th>\n",
       "      <th></th>\n",
       "      <th></th>\n",
       "      <th></th>\n",
       "      <th></th>\n",
       "      <th></th>\n",
       "      <th></th>\n",
       "      <th></th>\n",
       "      <th></th>\n",
       "      <th></th>\n",
       "      <th></th>\n",
       "      <th></th>\n",
       "      <th></th>\n",
       "      <th></th>\n",
       "      <th></th>\n",
       "      <th></th>\n",
       "      <th></th>\n",
       "      <th></th>\n",
       "      <th></th>\n",
       "    </tr>\n",
       "  </thead>\n",
       "  <tbody>\n",
       "    <tr>\n",
       "      <th>2020-08-01</th>\n",
       "      <td>1507.0</td>\n",
       "      <td>29.0</td>\n",
       "      <td>67.0</td>\n",
       "      <td>65.0</td>\n",
       "      <td>84.0</td>\n",
       "      <td>89.0</td>\n",
       "      <td>115.0</td>\n",
       "      <td>96.0</td>\n",
       "      <td>68.0</td>\n",
       "      <td>96.0</td>\n",
       "      <td>...</td>\n",
       "      <td>27.0</td>\n",
       "      <td>21.0</td>\n",
       "      <td>27.0</td>\n",
       "      <td>11.0</td>\n",
       "      <td>14.0</td>\n",
       "      <td>24.0</td>\n",
       "      <td>24.0</td>\n",
       "      <td>18.0</td>\n",
       "      <td>19.0</td>\n",
       "      <td>13.0</td>\n",
       "    </tr>\n",
       "    <tr>\n",
       "      <th>2020-08-02</th>\n",
       "      <td>1509.0</td>\n",
       "      <td>39.0</td>\n",
       "      <td>61.0</td>\n",
       "      <td>66.0</td>\n",
       "      <td>78.0</td>\n",
       "      <td>98.0</td>\n",
       "      <td>100.0</td>\n",
       "      <td>91.0</td>\n",
       "      <td>68.0</td>\n",
       "      <td>80.0</td>\n",
       "      <td>...</td>\n",
       "      <td>22.0</td>\n",
       "      <td>16.0</td>\n",
       "      <td>20.0</td>\n",
       "      <td>19.0</td>\n",
       "      <td>20.0</td>\n",
       "      <td>16.0</td>\n",
       "      <td>25.0</td>\n",
       "      <td>21.0</td>\n",
       "      <td>6.0</td>\n",
       "      <td>NaN</td>\n",
       "    </tr>\n",
       "    <tr>\n",
       "      <th>2020-08-03</th>\n",
       "      <td>1512.0</td>\n",
       "      <td>26.0</td>\n",
       "      <td>65.0</td>\n",
       "      <td>61.0</td>\n",
       "      <td>84.0</td>\n",
       "      <td>93.0</td>\n",
       "      <td>114.0</td>\n",
       "      <td>80.0</td>\n",
       "      <td>75.0</td>\n",
       "      <td>74.0</td>\n",
       "      <td>...</td>\n",
       "      <td>30.0</td>\n",
       "      <td>27.0</td>\n",
       "      <td>23.0</td>\n",
       "      <td>22.0</td>\n",
       "      <td>23.0</td>\n",
       "      <td>17.0</td>\n",
       "      <td>15.0</td>\n",
       "      <td>14.0</td>\n",
       "      <td>NaN</td>\n",
       "      <td>NaN</td>\n",
       "    </tr>\n",
       "    <tr>\n",
       "      <th>2020-08-04</th>\n",
       "      <td>1514.0</td>\n",
       "      <td>31.0</td>\n",
       "      <td>54.0</td>\n",
       "      <td>71.0</td>\n",
       "      <td>79.0</td>\n",
       "      <td>80.0</td>\n",
       "      <td>98.0</td>\n",
       "      <td>78.0</td>\n",
       "      <td>67.0</td>\n",
       "      <td>71.0</td>\n",
       "      <td>...</td>\n",
       "      <td>25.0</td>\n",
       "      <td>26.0</td>\n",
       "      <td>20.0</td>\n",
       "      <td>20.0</td>\n",
       "      <td>22.0</td>\n",
       "      <td>15.0</td>\n",
       "      <td>12.0</td>\n",
       "      <td>NaN</td>\n",
       "      <td>NaN</td>\n",
       "      <td>NaN</td>\n",
       "    </tr>\n",
       "    <tr>\n",
       "      <th>2020-08-05</th>\n",
       "      <td>1517.0</td>\n",
       "      <td>39.0</td>\n",
       "      <td>53.0</td>\n",
       "      <td>61.0</td>\n",
       "      <td>87.0</td>\n",
       "      <td>77.0</td>\n",
       "      <td>118.0</td>\n",
       "      <td>93.0</td>\n",
       "      <td>64.0</td>\n",
       "      <td>72.0</td>\n",
       "      <td>...</td>\n",
       "      <td>19.0</td>\n",
       "      <td>24.0</td>\n",
       "      <td>10.0</td>\n",
       "      <td>16.0</td>\n",
       "      <td>16.0</td>\n",
       "      <td>8.0</td>\n",
       "      <td>NaN</td>\n",
       "      <td>NaN</td>\n",
       "      <td>NaN</td>\n",
       "      <td>NaN</td>\n",
       "    </tr>\n",
       "    <tr>\n",
       "      <th>2020-08-06</th>\n",
       "      <td>1519.0</td>\n",
       "      <td>26.0</td>\n",
       "      <td>77.0</td>\n",
       "      <td>87.0</td>\n",
       "      <td>85.0</td>\n",
       "      <td>87.0</td>\n",
       "      <td>114.0</td>\n",
       "      <td>92.0</td>\n",
       "      <td>76.0</td>\n",
       "      <td>88.0</td>\n",
       "      <td>...</td>\n",
       "      <td>18.0</td>\n",
       "      <td>17.0</td>\n",
       "      <td>17.0</td>\n",
       "      <td>15.0</td>\n",
       "      <td>17.0</td>\n",
       "      <td>NaN</td>\n",
       "      <td>NaN</td>\n",
       "      <td>NaN</td>\n",
       "      <td>NaN</td>\n",
       "      <td>NaN</td>\n",
       "    </tr>\n",
       "    <tr>\n",
       "      <th>2020-08-07</th>\n",
       "      <td>1522.0</td>\n",
       "      <td>33.0</td>\n",
       "      <td>47.0</td>\n",
       "      <td>80.0</td>\n",
       "      <td>81.0</td>\n",
       "      <td>91.0</td>\n",
       "      <td>109.0</td>\n",
       "      <td>94.0</td>\n",
       "      <td>78.0</td>\n",
       "      <td>76.0</td>\n",
       "      <td>...</td>\n",
       "      <td>20.0</td>\n",
       "      <td>22.0</td>\n",
       "      <td>22.0</td>\n",
       "      <td>13.0</td>\n",
       "      <td>NaN</td>\n",
       "      <td>NaN</td>\n",
       "      <td>NaN</td>\n",
       "      <td>NaN</td>\n",
       "      <td>NaN</td>\n",
       "      <td>NaN</td>\n",
       "    </tr>\n",
       "  </tbody>\n",
       "</table>\n",
       "<p>7 rows × 54 columns</p>\n",
       "</div>"
      ]
     },
     "execution_count": 166,
     "metadata": {},
     "output_type": "execute_result"
    }
   ],
   "execution_count": 166
  },
  {
   "metadata": {
    "ExecuteTime": {
     "end_time": "2025-01-24T18:28:24.552236Z",
     "start_time": "2025-01-24T18:28:24.546406Z"
    }
   },
   "cell_type": "code",
   "source": [
    "# Расчёт retention\n",
    "retention = pivot_table.divide(pivot_table[0], axis=0)\n",
    "# тут мы обрезаем датафрейм, чтобы он не превратился в кашу\n",
    "retention = retention.iloc[:, :8]\n",
    "retention.head(10)"
   ],
   "outputs": [
    {
     "data": {
      "text/plain": [
       "days            0         1         2         3         4         5         6  \\\n",
       "registration                                                                    \n",
       "2020-08-01    1.0  0.019244  0.044459  0.043132  0.055740  0.059058  0.076311   \n",
       "2020-08-02    1.0  0.025845  0.040424  0.043738  0.051690  0.064944  0.066269   \n",
       "2020-08-03    1.0  0.017196  0.042989  0.040344  0.055556  0.061508  0.075397   \n",
       "2020-08-04    1.0  0.020476  0.035667  0.046896  0.052180  0.052840  0.064729   \n",
       "2020-08-05    1.0  0.025709  0.034937  0.040211  0.057350  0.050758  0.077785   \n",
       "2020-08-06    1.0  0.017117  0.050691  0.057275  0.055958  0.057275  0.075049   \n",
       "2020-08-07    1.0  0.021682  0.030880  0.052562  0.053219  0.059790  0.071616   \n",
       "\n",
       "days                 7  \n",
       "registration            \n",
       "2020-08-01    0.063703  \n",
       "2020-08-02    0.060305  \n",
       "2020-08-03    0.052910  \n",
       "2020-08-04    0.051519  \n",
       "2020-08-05    0.061305  \n",
       "2020-08-06    0.060566  \n",
       "2020-08-07    0.061761  "
      ],
      "text/html": [
       "<div>\n",
       "<style scoped>\n",
       "    .dataframe tbody tr th:only-of-type {\n",
       "        vertical-align: middle;\n",
       "    }\n",
       "\n",
       "    .dataframe tbody tr th {\n",
       "        vertical-align: top;\n",
       "    }\n",
       "\n",
       "    .dataframe thead th {\n",
       "        text-align: right;\n",
       "    }\n",
       "</style>\n",
       "<table border=\"1\" class=\"dataframe\">\n",
       "  <thead>\n",
       "    <tr style=\"text-align: right;\">\n",
       "      <th>days</th>\n",
       "      <th>0</th>\n",
       "      <th>1</th>\n",
       "      <th>2</th>\n",
       "      <th>3</th>\n",
       "      <th>4</th>\n",
       "      <th>5</th>\n",
       "      <th>6</th>\n",
       "      <th>7</th>\n",
       "    </tr>\n",
       "    <tr>\n",
       "      <th>registration</th>\n",
       "      <th></th>\n",
       "      <th></th>\n",
       "      <th></th>\n",
       "      <th></th>\n",
       "      <th></th>\n",
       "      <th></th>\n",
       "      <th></th>\n",
       "      <th></th>\n",
       "    </tr>\n",
       "  </thead>\n",
       "  <tbody>\n",
       "    <tr>\n",
       "      <th>2020-08-01</th>\n",
       "      <td>1.0</td>\n",
       "      <td>0.019244</td>\n",
       "      <td>0.044459</td>\n",
       "      <td>0.043132</td>\n",
       "      <td>0.055740</td>\n",
       "      <td>0.059058</td>\n",
       "      <td>0.076311</td>\n",
       "      <td>0.063703</td>\n",
       "    </tr>\n",
       "    <tr>\n",
       "      <th>2020-08-02</th>\n",
       "      <td>1.0</td>\n",
       "      <td>0.025845</td>\n",
       "      <td>0.040424</td>\n",
       "      <td>0.043738</td>\n",
       "      <td>0.051690</td>\n",
       "      <td>0.064944</td>\n",
       "      <td>0.066269</td>\n",
       "      <td>0.060305</td>\n",
       "    </tr>\n",
       "    <tr>\n",
       "      <th>2020-08-03</th>\n",
       "      <td>1.0</td>\n",
       "      <td>0.017196</td>\n",
       "      <td>0.042989</td>\n",
       "      <td>0.040344</td>\n",
       "      <td>0.055556</td>\n",
       "      <td>0.061508</td>\n",
       "      <td>0.075397</td>\n",
       "      <td>0.052910</td>\n",
       "    </tr>\n",
       "    <tr>\n",
       "      <th>2020-08-04</th>\n",
       "      <td>1.0</td>\n",
       "      <td>0.020476</td>\n",
       "      <td>0.035667</td>\n",
       "      <td>0.046896</td>\n",
       "      <td>0.052180</td>\n",
       "      <td>0.052840</td>\n",
       "      <td>0.064729</td>\n",
       "      <td>0.051519</td>\n",
       "    </tr>\n",
       "    <tr>\n",
       "      <th>2020-08-05</th>\n",
       "      <td>1.0</td>\n",
       "      <td>0.025709</td>\n",
       "      <td>0.034937</td>\n",
       "      <td>0.040211</td>\n",
       "      <td>0.057350</td>\n",
       "      <td>0.050758</td>\n",
       "      <td>0.077785</td>\n",
       "      <td>0.061305</td>\n",
       "    </tr>\n",
       "    <tr>\n",
       "      <th>2020-08-06</th>\n",
       "      <td>1.0</td>\n",
       "      <td>0.017117</td>\n",
       "      <td>0.050691</td>\n",
       "      <td>0.057275</td>\n",
       "      <td>0.055958</td>\n",
       "      <td>0.057275</td>\n",
       "      <td>0.075049</td>\n",
       "      <td>0.060566</td>\n",
       "    </tr>\n",
       "    <tr>\n",
       "      <th>2020-08-07</th>\n",
       "      <td>1.0</td>\n",
       "      <td>0.021682</td>\n",
       "      <td>0.030880</td>\n",
       "      <td>0.052562</td>\n",
       "      <td>0.053219</td>\n",
       "      <td>0.059790</td>\n",
       "      <td>0.071616</td>\n",
       "      <td>0.061761</td>\n",
       "    </tr>\n",
       "  </tbody>\n",
       "</table>\n",
       "</div>"
      ]
     },
     "execution_count": 167,
     "metadata": {},
     "output_type": "execute_result"
    }
   ],
   "execution_count": 167
  },
  {
   "metadata": {
    "ExecuteTime": {
     "end_time": "2025-01-24T18:28:24.760122Z",
     "start_time": "2025-01-24T18:28:24.657799Z"
    }
   },
   "cell_type": "code",
   "source": [
    "# Построение тепловой карты\n",
    "\n",
    "plt.figure(figsize=(12, 8))\n",
    "sns.heatmap(retention, annot=True, fmt=\".0%\", cmap=\"coolwarm\", cbar_kws={'label': 'Retention (%)'})\n",
    "plt.title('Retention Heatmap')\n",
    "plt.xlabel('Days Since Registration')\n",
    "plt.ylabel('Cohort (Registration Date)')\n",
    "plt.show()"
   ],
   "outputs": [
    {
     "data": {
      "text/plain": [
       "<Figure size 1200x800 with 2 Axes>"
      ],
      "image/png": "[encoded data removed]"
     },
     "metadata": {},
     "output_type": "display_data"
    }
   ],
   "execution_count": 168
  },
  {
   "cell_type": "markdown",
   "metadata": {},
   "source": [
    "# Задание 2\n",
    "\n",
    "Имеются результаты A/B теста, в котором двум группам пользователей предлагались различные наборы акционных предложений. Известно, что ARPU в тестовой группе выше на 5%, чем в контрольной. При этом в контрольной группе 1928 игроков из 202103 оказались платящими, а в тестовой – 1805 из 202667.\n",
    "\n",
    "Конверсия в платящего пользователя\n",
    "\n",
    "Контроль: 1928 / 202 103 ≈ 0,95%\n",
    "\n",
    "Тест: 1805 / 202 667 ≈ 0,89%\n",
    "\n",
    "**В тесте конверсия чуть ниже, а ARPU выше**\n",
    "\n",
    "\n",
    "\n",
    "Какой набор предложений можно считать лучшим? Какие метрики стоит проанализировать для принятия правильного решения и как?\n",
    "\n",
    "\n",
    "\n",
    "=========\n",
    "\n",
    "В каком смысле лучшим?\n",
    "Если мы зарабатываем деньги то здесь рост ARPPU и общей выручки\n",
    "\n",
    "Но если наша основная цель — увеличивать конверсию в платёж и расширять платящую аудиторию, то для нас лучшим будет контрольная группа"
   ]
  },
  {
   "cell_type": "markdown",
   "metadata": {},
   "source": [
    "Для начала просто проверим данные"
   ]
  },
  {
   "cell_type": "code",
   "metadata": {
    "ExecuteTime": {
     "end_time": "2025-01-24T18:28:24.888608Z",
     "start_time": "2025-01-24T18:28:24.848662Z"
    }
   },
   "source": [
    "ab_test = pd.read_csv('project_1_ex_2.csv', sep=';')\n",
    "ab_test.head(10)\n"
   ],
   "outputs": [
    {
     "data": {
      "text/plain": [
       "   user_id  revenue testgroup\n",
       "0        1        0         b\n",
       "1        2        0         a\n",
       "2        3        0         a\n",
       "3        4        0         b\n",
       "4        5        0         b\n",
       "5        6        0         b\n",
       "6        7        0         b\n",
       "7        8        0         b\n",
       "8        9        0         b\n",
       "9       10        0         a"
      ],
      "text/html": [
       "<div>\n",
       "<style scoped>\n",
       "    .dataframe tbody tr th:only-of-type {\n",
       "        vertical-align: middle;\n",
       "    }\n",
       "\n",
       "    .dataframe tbody tr th {\n",
       "        vertical-align: top;\n",
       "    }\n",
       "\n",
       "    .dataframe thead th {\n",
       "        text-align: right;\n",
       "    }\n",
       "</style>\n",
       "<table border=\"1\" class=\"dataframe\">\n",
       "  <thead>\n",
       "    <tr style=\"text-align: right;\">\n",
       "      <th></th>\n",
       "      <th>user_id</th>\n",
       "      <th>revenue</th>\n",
       "      <th>testgroup</th>\n",
       "    </tr>\n",
       "  </thead>\n",
       "  <tbody>\n",
       "    <tr>\n",
       "      <th>0</th>\n",
       "      <td>1</td>\n",
       "      <td>0</td>\n",
       "      <td>b</td>\n",
       "    </tr>\n",
       "    <tr>\n",
       "      <th>1</th>\n",
       "      <td>2</td>\n",
       "      <td>0</td>\n",
       "      <td>a</td>\n",
       "    </tr>\n",
       "    <tr>\n",
       "      <th>2</th>\n",
       "      <td>3</td>\n",
       "      <td>0</td>\n",
       "      <td>a</td>\n",
       "    </tr>\n",
       "    <tr>\n",
       "      <th>3</th>\n",
       "      <td>4</td>\n",
       "      <td>0</td>\n",
       "      <td>b</td>\n",
       "    </tr>\n",
       "    <tr>\n",
       "      <th>4</th>\n",
       "      <td>5</td>\n",
       "      <td>0</td>\n",
       "      <td>b</td>\n",
       "    </tr>\n",
       "    <tr>\n",
       "      <th>5</th>\n",
       "      <td>6</td>\n",
       "      <td>0</td>\n",
       "      <td>b</td>\n",
       "    </tr>\n",
       "    <tr>\n",
       "      <th>6</th>\n",
       "      <td>7</td>\n",
       "      <td>0</td>\n",
       "      <td>b</td>\n",
       "    </tr>\n",
       "    <tr>\n",
       "      <th>7</th>\n",
       "      <td>8</td>\n",
       "      <td>0</td>\n",
       "      <td>b</td>\n",
       "    </tr>\n",
       "    <tr>\n",
       "      <th>8</th>\n",
       "      <td>9</td>\n",
       "      <td>0</td>\n",
       "      <td>b</td>\n",
       "    </tr>\n",
       "    <tr>\n",
       "      <th>9</th>\n",
       "      <td>10</td>\n",
       "      <td>0</td>\n",
       "      <td>a</td>\n",
       "    </tr>\n",
       "  </tbody>\n",
       "</table>\n",
       "</div>"
      ]
     },
     "execution_count": 169,
     "metadata": {},
     "output_type": "execute_result"
    }
   ],
   "execution_count": 169
  },
  {
   "metadata": {
    "ExecuteTime": {
     "end_time": "2025-01-24T18:28:24.920722Z",
     "start_time": "2025-01-24T18:28:24.915849Z"
    }
   },
   "cell_type": "code",
   "source": "ab_test.head(10)",
   "outputs": [
    {
     "data": {
      "text/plain": [
       "   user_id  revenue testgroup\n",
       "0        1        0         b\n",
       "1        2        0         a\n",
       "2        3        0         a\n",
       "3        4        0         b\n",
       "4        5        0         b\n",
       "5        6        0         b\n",
       "6        7        0         b\n",
       "7        8        0         b\n",
       "8        9        0         b\n",
       "9       10        0         a"
      ],
      "text/html": [
       "<div>\n",
       "<style scoped>\n",
       "    .dataframe tbody tr th:only-of-type {\n",
       "        vertical-align: middle;\n",
       "    }\n",
       "\n",
       "    .dataframe tbody tr th {\n",
       "        vertical-align: top;\n",
       "    }\n",
       "\n",
       "    .dataframe thead th {\n",
       "        text-align: right;\n",
       "    }\n",
       "</style>\n",
       "<table border=\"1\" class=\"dataframe\">\n",
       "  <thead>\n",
       "    <tr style=\"text-align: right;\">\n",
       "      <th></th>\n",
       "      <th>user_id</th>\n",
       "      <th>revenue</th>\n",
       "      <th>testgroup</th>\n",
       "    </tr>\n",
       "  </thead>\n",
       "  <tbody>\n",
       "    <tr>\n",
       "      <th>0</th>\n",
       "      <td>1</td>\n",
       "      <td>0</td>\n",
       "      <td>b</td>\n",
       "    </tr>\n",
       "    <tr>\n",
       "      <th>1</th>\n",
       "      <td>2</td>\n",
       "      <td>0</td>\n",
       "      <td>a</td>\n",
       "    </tr>\n",
       "    <tr>\n",
       "      <th>2</th>\n",
       "      <td>3</td>\n",
       "      <td>0</td>\n",
       "      <td>a</td>\n",
       "    </tr>\n",
       "    <tr>\n",
       "      <th>3</th>\n",
       "      <td>4</td>\n",
       "      <td>0</td>\n",
       "      <td>b</td>\n",
       "    </tr>\n",
       "    <tr>\n",
       "      <th>4</th>\n",
       "      <td>5</td>\n",
       "      <td>0</td>\n",
       "      <td>b</td>\n",
       "    </tr>\n",
       "    <tr>\n",
       "      <th>5</th>\n",
       "      <td>6</td>\n",
       "      <td>0</td>\n",
       "      <td>b</td>\n",
       "    </tr>\n",
       "    <tr>\n",
       "      <th>6</th>\n",
       "      <td>7</td>\n",
       "      <td>0</td>\n",
       "      <td>b</td>\n",
       "    </tr>\n",
       "    <tr>\n",
       "      <th>7</th>\n",
       "      <td>8</td>\n",
       "      <td>0</td>\n",
       "      <td>b</td>\n",
       "    </tr>\n",
       "    <tr>\n",
       "      <th>8</th>\n",
       "      <td>9</td>\n",
       "      <td>0</td>\n",
       "      <td>b</td>\n",
       "    </tr>\n",
       "    <tr>\n",
       "      <th>9</th>\n",
       "      <td>10</td>\n",
       "      <td>0</td>\n",
       "      <td>a</td>\n",
       "    </tr>\n",
       "  </tbody>\n",
       "</table>\n",
       "</div>"
      ]
     },
     "execution_count": 170,
     "metadata": {},
     "output_type": "execute_result"
    }
   ],
   "execution_count": 170
  },
  {
   "metadata": {
    "ExecuteTime": {
     "end_time": "2025-01-24T18:28:24.986919Z",
     "start_time": "2025-01-24T18:28:24.984812Z"
    }
   },
   "cell_type": "code",
   "source": [
    "# смотрим сколько строк и столбцов\n",
    "ab_test.shape"
   ],
   "outputs": [
    {
     "data": {
      "text/plain": [
       "(404770, 3)"
      ]
     },
     "execution_count": 171,
     "metadata": {},
     "output_type": "execute_result"
    }
   ],
   "execution_count": 171
  },
  {
   "metadata": {
    "ExecuteTime": {
     "end_time": "2025-01-24T18:28:25.091378Z",
     "start_time": "2025-01-24T18:28:25.085043Z"
    }
   },
   "cell_type": "code",
   "source": [
    "# все ли id пользователей уникальны в таблице\n",
    "ab_test.user_id.nunique() == ab_test.shape[0]"
   ],
   "outputs": [
    {
     "data": {
      "text/plain": [
       "True"
      ]
     },
     "execution_count": 172,
     "metadata": {},
     "output_type": "execute_result"
    }
   ],
   "execution_count": 172
  },
  {
   "metadata": {
    "ExecuteTime": {
     "end_time": "2025-01-24T18:28:25.160109Z",
     "start_time": "2025-01-24T18:28:25.156934Z"
    }
   },
   "cell_type": "code",
   "source": [
    "# тип полей в датафрейме\n",
    "ab_test.dtypes"
   ],
   "outputs": [
    {
     "data": {
      "text/plain": [
       "user_id       int64\n",
       "revenue       int64\n",
       "testgroup    object\n",
       "dtype: object"
      ]
     },
     "execution_count": 173,
     "metadata": {},
     "output_type": "execute_result"
    }
   ],
   "execution_count": 173
  },
  {
   "metadata": {
    "ExecuteTime": {
     "end_time": "2025-01-24T18:28:25.245544Z",
     "start_time": "2025-01-24T18:28:25.233700Z"
    }
   },
   "cell_type": "code",
   "source": [
    "# есть ли пропуски\n",
    "ab_test.isna().sum()"
   ],
   "outputs": [
    {
     "data": {
      "text/plain": [
       "user_id      0\n",
       "revenue      0\n",
       "testgroup    0\n",
       "dtype: int64"
      ]
     },
     "execution_count": 174,
     "metadata": {},
     "output_type": "execute_result"
    }
   ],
   "execution_count": 174
  },
  {
   "metadata": {
    "ExecuteTime": {
     "end_time": "2025-01-24T18:28:25.334555Z",
     "start_time": "2025-01-24T18:28:25.302622Z"
    }
   },
   "cell_type": "code",
   "source": [
    "# првоерка дубликатов\n",
    "duplicates = ab_test.duplicated().sum()\n",
    "duplicates"
   ],
   "outputs": [
    {
     "data": {
      "text/plain": [
       "np.int64(0)"
      ]
     },
     "execution_count": 175,
     "metadata": {},
     "output_type": "execute_result"
    }
   ],
   "execution_count": 175
  },
  {
   "metadata": {
    "ExecuteTime": {
     "end_time": "2025-01-24T18:28:25.434205Z",
     "start_time": "2025-01-24T18:28:25.418094Z"
    }
   },
   "cell_type": "code",
   "source": "ab_test.testgroup.value_counts()",
   "outputs": [
    {
     "data": {
      "text/plain": [
       "testgroup\n",
       "b    202667\n",
       "a    202103\n",
       "Name: count, dtype: int64"
      ]
     },
     "execution_count": 176,
     "metadata": {},
     "output_type": "execute_result"
    }
   ],
   "execution_count": 176
  },
  {
   "metadata": {},
   "cell_type": "markdown",
   "source": [
    "**Выводы- пользователи уникальные**\n",
    "\n",
    "пропущенных значений нет"
   ]
  },
  {
   "metadata": {
    "ExecuteTime": {
     "end_time": "2025-01-24T18:28:25.535993Z",
     "start_time": "2025-01-24T18:28:25.517712Z"
    }
   },
   "cell_type": "code",
   "source": [
    "# общая выручка по группам\n",
    "(ab_test.groupby(['testgroup'], as_index=False).agg({'revenue': 'sum'})).rename(columns={\"revenue\": \"total_revenue\"})"
   ],
   "outputs": [
    {
     "data": {
      "text/plain": [
       "  testgroup  total_revenue\n",
       "0         a        5136189\n",
       "1         b        5421603"
      ],
      "text/html": [
       "<div>\n",
       "<style scoped>\n",
       "    .dataframe tbody tr th:only-of-type {\n",
       "        vertical-align: middle;\n",
       "    }\n",
       "\n",
       "    .dataframe tbody tr th {\n",
       "        vertical-align: top;\n",
       "    }\n",
       "\n",
       "    .dataframe thead th {\n",
       "        text-align: right;\n",
       "    }\n",
       "</style>\n",
       "<table border=\"1\" class=\"dataframe\">\n",
       "  <thead>\n",
       "    <tr style=\"text-align: right;\">\n",
       "      <th></th>\n",
       "      <th>testgroup</th>\n",
       "      <th>total_revenue</th>\n",
       "    </tr>\n",
       "  </thead>\n",
       "  <tbody>\n",
       "    <tr>\n",
       "      <th>0</th>\n",
       "      <td>a</td>\n",
       "      <td>5136189</td>\n",
       "    </tr>\n",
       "    <tr>\n",
       "      <th>1</th>\n",
       "      <td>b</td>\n",
       "      <td>5421603</td>\n",
       "    </tr>\n",
       "  </tbody>\n",
       "</table>\n",
       "</div>"
      ]
     },
     "execution_count": 177,
     "metadata": {},
     "output_type": "execute_result"
    }
   ],
   "execution_count": 177
  },
  {
   "metadata": {},
   "cell_type": "markdown",
   "source": "Мы видим, что в группе б общая выручка больше чем в а"
  },
  {
   "metadata": {},
   "cell_type": "markdown",
   "source": "# Оценим данные визуально"
  },
  {
   "metadata": {
    "ExecuteTime": {
     "end_time": "2025-01-24T18:28:26.026113Z",
     "start_time": "2025-01-24T18:28:25.602552Z"
    }
   },
   "cell_type": "code",
   "source": "sns.boxplot(x='revenue', y='testgroup', data= ab_test)",
   "outputs": [
    {
     "data": {
      "text/plain": [
       "<Axes: xlabel='revenue', ylabel='testgroup'>"
      ]
     },
     "execution_count": 178,
     "metadata": {},
     "output_type": "execute_result"
    },
    {
     "data": {
      "text/plain": [
       "<Figure size 640x480 with 1 Axes>"
      ],
      "image/png": "[encoded data removed]"
     },
     "metadata": {},
     "output_type": "display_data"
    }
   ],
   "execution_count": 178
  },
  {
   "metadata": {
    "ExecuteTime": {
     "end_time": "2025-01-24T18:28:26.133102Z",
     "start_time": "2025-01-24T18:28:26.049093Z"
    }
   },
   "cell_type": "code",
   "source": [
    "# Распределеним по группам\n",
    "\n",
    "control = ab_test.query('testgroup == \"a\"') # а - контроль все\n",
    "test = ab_test.query('testgroup == \"b\"')    # б - тест все\n",
    "\n",
    "\n",
    "\n",
    "control_pays = ab_test.query('testgroup == \"a\" and revenue != 0') # контроль платящие\n",
    "test_pays = ab_test.query('testgroup == \"b\" and revenue != 0')    # тест платящие\n",
    "\n",
    "\n",
    "\n",
    "control_not_pays = ab_test.query('testgroup == \"a\" and revenue == 0') # контроль не платящие\n",
    "test_not_pays = ab_test.query('testgroup == \"b\" and revenue == 0')    # тест не платищие\n"
   ],
   "outputs": [],
   "execution_count": 179
  },
  {
   "metadata": {
    "ExecuteTime": {
     "end_time": "2025-01-24T18:28:26.137349Z",
     "start_time": "2025-01-24T18:28:26.136229Z"
    }
   },
   "cell_type": "code",
   "source": "",
   "outputs": [],
   "execution_count": null
  },
  {
   "metadata": {
    "ExecuteTime": {
     "end_time": "2025-01-24T18:28:26.154203Z",
     "start_time": "2025-01-24T18:28:26.152975Z"
    }
   },
   "cell_type": "code",
   "source": "",
   "outputs": [],
   "execution_count": null
  },
  {
   "metadata": {
    "ExecuteTime": {
     "end_time": "2025-01-24T18:28:26.171891Z",
     "start_time": "2025-01-24T18:28:26.170754Z"
    }
   },
   "cell_type": "code",
   "source": "",
   "outputs": [],
   "execution_count": null
  },
  {
   "cell_type": "markdown",
   "metadata": {},
   "source": [
    "Посмотрим на данные, как они распределены"
   ]
  },
  {
   "metadata": {
    "ExecuteTime": {
     "end_time": "2025-01-24T18:28:26.304754Z",
     "start_time": "2025-01-24T18:28:26.187480Z"
    }
   },
   "cell_type": "code",
   "source": "sns.displot(x = 'revenue', data = control )",
   "outputs": [
    {
     "data": {
      "text/plain": [
       "<seaborn.axisgrid.FacetGrid at 0x17f9717f0>"
      ]
     },
     "execution_count": 180,
     "metadata": {},
     "output_type": "execute_result"
    },
    {
     "data": {
      "text/plain": [
       "<Figure size 500x500 with 1 Axes>"
      ],
      "image/png": "[encoded data removed]"
     },
     "metadata": {},
     "output_type": "display_data"
    }
   ],
   "execution_count": 180
  },
  {
   "metadata": {
    "ExecuteTime": {
     "end_time": "2025-01-24T18:28:26.328697Z",
     "start_time": "2025-01-24T18:28:26.320945Z"
    }
   },
   "cell_type": "code",
   "source": "control.describe()",
   "outputs": [
    {
     "data": {
      "text/plain": [
       "             user_id        revenue\n",
       "count  202103.000000  202103.000000\n",
       "mean   202555.909843      25.413720\n",
       "std    116802.329266     920.768137\n",
       "min         2.000000       0.000000\n",
       "25%    101502.500000       0.000000\n",
       "50%    202988.000000       0.000000\n",
       "75%    303559.000000       0.000000\n",
       "max    404769.000000   37433.000000"
      ],
      "text/html": [
       "<div>\n",
       "<style scoped>\n",
       "    .dataframe tbody tr th:only-of-type {\n",
       "        vertical-align: middle;\n",
       "    }\n",
       "\n",
       "    .dataframe tbody tr th {\n",
       "        vertical-align: top;\n",
       "    }\n",
       "\n",
       "    .dataframe thead th {\n",
       "        text-align: right;\n",
       "    }\n",
       "</style>\n",
       "<table border=\"1\" class=\"dataframe\">\n",
       "  <thead>\n",
       "    <tr style=\"text-align: right;\">\n",
       "      <th></th>\n",
       "      <th>user_id</th>\n",
       "      <th>revenue</th>\n",
       "    </tr>\n",
       "  </thead>\n",
       "  <tbody>\n",
       "    <tr>\n",
       "      <th>count</th>\n",
       "      <td>202103.000000</td>\n",
       "      <td>202103.000000</td>\n",
       "    </tr>\n",
       "    <tr>\n",
       "      <th>mean</th>\n",
       "      <td>202555.909843</td>\n",
       "      <td>25.413720</td>\n",
       "    </tr>\n",
       "    <tr>\n",
       "      <th>std</th>\n",
       "      <td>116802.329266</td>\n",
       "      <td>920.768137</td>\n",
       "    </tr>\n",
       "    <tr>\n",
       "      <th>min</th>\n",
       "      <td>2.000000</td>\n",
       "      <td>0.000000</td>\n",
       "    </tr>\n",
       "    <tr>\n",
       "      <th>25%</th>\n",
       "      <td>101502.500000</td>\n",
       "      <td>0.000000</td>\n",
       "    </tr>\n",
       "    <tr>\n",
       "      <th>50%</th>\n",
       "      <td>202988.000000</td>\n",
       "      <td>0.000000</td>\n",
       "    </tr>\n",
       "    <tr>\n",
       "      <th>75%</th>\n",
       "      <td>303559.000000</td>\n",
       "      <td>0.000000</td>\n",
       "    </tr>\n",
       "    <tr>\n",
       "      <th>max</th>\n",
       "      <td>404769.000000</td>\n",
       "      <td>37433.000000</td>\n",
       "    </tr>\n",
       "  </tbody>\n",
       "</table>\n",
       "</div>"
      ]
     },
     "execution_count": 181,
     "metadata": {},
     "output_type": "execute_result"
    }
   ],
   "execution_count": 181
  },
  {
   "metadata": {},
   "cell_type": "markdown",
   "source": "тут есть значения больше чем 0, но их очень мало"
  },
  {
   "metadata": {
    "ExecuteTime": {
     "end_time": "2025-01-24T18:28:26.498501Z",
     "start_time": "2025-01-24T18:28:26.383164Z"
    }
   },
   "cell_type": "code",
   "source": "sns.displot(x = 'revenue', data = test )",
   "outputs": [
    {
     "data": {
      "text/plain": [
       "<seaborn.axisgrid.FacetGrid at 0x17f9df590>"
      ]
     },
     "execution_count": 182,
     "metadata": {},
     "output_type": "execute_result"
    },
    {
     "data": {
      "text/plain": [
       "<Figure size 500x500 with 1 Axes>"
      ],
      "image/png": "[encoded data removed]"
     },
     "metadata": {},
     "output_type": "display_data"
    }
   ],
   "execution_count": 182
  },
  {
   "metadata": {
    "ExecuteTime": {
     "end_time": "2025-01-24T18:28:26.524841Z",
     "start_time": "2025-01-24T18:28:26.517194Z"
    }
   },
   "cell_type": "code",
   "source": "test.describe()",
   "outputs": [
    {
     "data": {
      "text/plain": [
       "             user_id        revenue\n",
       "count  202667.000000  202667.000000\n",
       "mean   202215.564389      26.751287\n",
       "std    116891.926690     287.324162\n",
       "min         1.000000       0.000000\n",
       "25%    100855.500000       0.000000\n",
       "50%    201821.000000       0.000000\n",
       "75%    303602.500000       0.000000\n",
       "max    404770.000000    4000.000000"
      ],
      "text/html": [
       "<div>\n",
       "<style scoped>\n",
       "    .dataframe tbody tr th:only-of-type {\n",
       "        vertical-align: middle;\n",
       "    }\n",
       "\n",
       "    .dataframe tbody tr th {\n",
       "        vertical-align: top;\n",
       "    }\n",
       "\n",
       "    .dataframe thead th {\n",
       "        text-align: right;\n",
       "    }\n",
       "</style>\n",
       "<table border=\"1\" class=\"dataframe\">\n",
       "  <thead>\n",
       "    <tr style=\"text-align: right;\">\n",
       "      <th></th>\n",
       "      <th>user_id</th>\n",
       "      <th>revenue</th>\n",
       "    </tr>\n",
       "  </thead>\n",
       "  <tbody>\n",
       "    <tr>\n",
       "      <th>count</th>\n",
       "      <td>202667.000000</td>\n",
       "      <td>202667.000000</td>\n",
       "    </tr>\n",
       "    <tr>\n",
       "      <th>mean</th>\n",
       "      <td>202215.564389</td>\n",
       "      <td>26.751287</td>\n",
       "    </tr>\n",
       "    <tr>\n",
       "      <th>std</th>\n",
       "      <td>116891.926690</td>\n",
       "      <td>287.324162</td>\n",
       "    </tr>\n",
       "    <tr>\n",
       "      <th>min</th>\n",
       "      <td>1.000000</td>\n",
       "      <td>0.000000</td>\n",
       "    </tr>\n",
       "    <tr>\n",
       "      <th>25%</th>\n",
       "      <td>100855.500000</td>\n",
       "      <td>0.000000</td>\n",
       "    </tr>\n",
       "    <tr>\n",
       "      <th>50%</th>\n",
       "      <td>201821.000000</td>\n",
       "      <td>0.000000</td>\n",
       "    </tr>\n",
       "    <tr>\n",
       "      <th>75%</th>\n",
       "      <td>303602.500000</td>\n",
       "      <td>0.000000</td>\n",
       "    </tr>\n",
       "    <tr>\n",
       "      <th>max</th>\n",
       "      <td>404770.000000</td>\n",
       "      <td>4000.000000</td>\n",
       "    </tr>\n",
       "  </tbody>\n",
       "</table>\n",
       "</div>"
      ]
     },
     "execution_count": 183,
     "metadata": {},
     "output_type": "execute_result"
    }
   ],
   "execution_count": 183
  },
  {
   "metadata": {
    "ExecuteTime": {
     "end_time": "2025-01-24T18:28:26.697297Z",
     "start_time": "2025-01-24T18:28:26.615685Z"
    }
   },
   "cell_type": "code",
   "source": "sns.displot(x = 'revenue', data = test_pays)",
   "outputs": [
    {
     "data": {
      "text/plain": [
       "<seaborn.axisgrid.FacetGrid at 0x31ce9b560>"
      ]
     },
     "execution_count": 184,
     "metadata": {},
     "output_type": "execute_result"
    },
    {
     "data": {
      "text/plain": [
       "<Figure size 500x500 with 1 Axes>"
      ],
      "image/png": "[encoded data removed]"
     },
     "metadata": {},
     "output_type": "display_data"
    }
   ],
   "execution_count": 184
  },
  {
   "metadata": {
    "ExecuteTime": {
     "end_time": "2025-01-24T18:28:26.720319Z",
     "start_time": "2025-01-24T18:28:26.715055Z"
    }
   },
   "cell_type": "code",
   "source": "test_pays.describe()",
   "outputs": [
    {
     "data": {
      "text/plain": [
       "             user_id      revenue\n",
       "count    1805.000000  1805.000000\n",
       "mean   205834.548476  3003.658172\n",
       "std    116400.045485   572.619709\n",
       "min       161.000000  2000.000000\n",
       "25%    106815.000000  2513.000000\n",
       "50%    206651.000000  3022.000000\n",
       "75%    304907.000000  3478.000000\n",
       "max    404526.000000  4000.000000"
      ],
      "text/html": [
       "<div>\n",
       "<style scoped>\n",
       "    .dataframe tbody tr th:only-of-type {\n",
       "        vertical-align: middle;\n",
       "    }\n",
       "\n",
       "    .dataframe tbody tr th {\n",
       "        vertical-align: top;\n",
       "    }\n",
       "\n",
       "    .dataframe thead th {\n",
       "        text-align: right;\n",
       "    }\n",
       "</style>\n",
       "<table border=\"1\" class=\"dataframe\">\n",
       "  <thead>\n",
       "    <tr style=\"text-align: right;\">\n",
       "      <th></th>\n",
       "      <th>user_id</th>\n",
       "      <th>revenue</th>\n",
       "    </tr>\n",
       "  </thead>\n",
       "  <tbody>\n",
       "    <tr>\n",
       "      <th>count</th>\n",
       "      <td>1805.000000</td>\n",
       "      <td>1805.000000</td>\n",
       "    </tr>\n",
       "    <tr>\n",
       "      <th>mean</th>\n",
       "      <td>205834.548476</td>\n",
       "      <td>3003.658172</td>\n",
       "    </tr>\n",
       "    <tr>\n",
       "      <th>std</th>\n",
       "      <td>116400.045485</td>\n",
       "      <td>572.619709</td>\n",
       "    </tr>\n",
       "    <tr>\n",
       "      <th>min</th>\n",
       "      <td>161.000000</td>\n",
       "      <td>2000.000000</td>\n",
       "    </tr>\n",
       "    <tr>\n",
       "      <th>25%</th>\n",
       "      <td>106815.000000</td>\n",
       "      <td>2513.000000</td>\n",
       "    </tr>\n",
       "    <tr>\n",
       "      <th>50%</th>\n",
       "      <td>206651.000000</td>\n",
       "      <td>3022.000000</td>\n",
       "    </tr>\n",
       "    <tr>\n",
       "      <th>75%</th>\n",
       "      <td>304907.000000</td>\n",
       "      <td>3478.000000</td>\n",
       "    </tr>\n",
       "    <tr>\n",
       "      <th>max</th>\n",
       "      <td>404526.000000</td>\n",
       "      <td>4000.000000</td>\n",
       "    </tr>\n",
       "  </tbody>\n",
       "</table>\n",
       "</div>"
      ]
     },
     "execution_count": 185,
     "metadata": {},
     "output_type": "execute_result"
    }
   ],
   "execution_count": 185
  },
  {
   "metadata": {
    "ExecuteTime": {
     "end_time": "2025-01-24T18:28:26.855484Z",
     "start_time": "2025-01-24T18:28:26.771832Z"
    }
   },
   "cell_type": "code",
   "source": "sns.displot(x = 'revenue', data = control_pays, bins=20)",
   "outputs": [
    {
     "data": {
      "text/plain": [
       "<seaborn.axisgrid.FacetGrid at 0x16a5c7320>"
      ]
     },
     "execution_count": 186,
     "metadata": {},
     "output_type": "execute_result"
    },
    {
     "data": {
      "text/plain": [
       "<Figure size 500x500 with 1 Axes>"
      ],
      "image/png": "[encoded data removed]"
     },
     "metadata": {},
     "output_type": "display_data"
    }
   ],
   "execution_count": 186
  },
  {
   "metadata": {
    "ExecuteTime": {
     "end_time": "2025-01-24T18:28:26.880853Z",
     "start_time": "2025-01-24T18:28:26.874348Z"
    }
   },
   "cell_type": "code",
   "source": "control_pays.describe()",
   "outputs": [
    {
     "data": {
      "text/plain": [
       "             user_id       revenue\n",
       "count    1928.000000   1928.000000\n",
       "mean   200152.677905   2663.998444\n",
       "std    116596.504905   9049.039763\n",
       "min        73.000000    200.000000\n",
       "25%     99323.000000    257.000000\n",
       "50%    199854.500000    311.000000\n",
       "75%    299664.250000    361.000000\n",
       "max    404768.000000  37433.000000"
      ],
      "text/html": [
       "<div>\n",
       "<style scoped>\n",
       "    .dataframe tbody tr th:only-of-type {\n",
       "        vertical-align: middle;\n",
       "    }\n",
       "\n",
       "    .dataframe tbody tr th {\n",
       "        vertical-align: top;\n",
       "    }\n",
       "\n",
       "    .dataframe thead th {\n",
       "        text-align: right;\n",
       "    }\n",
       "</style>\n",
       "<table border=\"1\" class=\"dataframe\">\n",
       "  <thead>\n",
       "    <tr style=\"text-align: right;\">\n",
       "      <th></th>\n",
       "      <th>user_id</th>\n",
       "      <th>revenue</th>\n",
       "    </tr>\n",
       "  </thead>\n",
       "  <tbody>\n",
       "    <tr>\n",
       "      <th>count</th>\n",
       "      <td>1928.000000</td>\n",
       "      <td>1928.000000</td>\n",
       "    </tr>\n",
       "    <tr>\n",
       "      <th>mean</th>\n",
       "      <td>200152.677905</td>\n",
       "      <td>2663.998444</td>\n",
       "    </tr>\n",
       "    <tr>\n",
       "      <th>std</th>\n",
       "      <td>116596.504905</td>\n",
       "      <td>9049.039763</td>\n",
       "    </tr>\n",
       "    <tr>\n",
       "      <th>min</th>\n",
       "      <td>73.000000</td>\n",
       "      <td>200.000000</td>\n",
       "    </tr>\n",
       "    <tr>\n",
       "      <th>25%</th>\n",
       "      <td>99323.000000</td>\n",
       "      <td>257.000000</td>\n",
       "    </tr>\n",
       "    <tr>\n",
       "      <th>50%</th>\n",
       "      <td>199854.500000</td>\n",
       "      <td>311.000000</td>\n",
       "    </tr>\n",
       "    <tr>\n",
       "      <th>75%</th>\n",
       "      <td>299664.250000</td>\n",
       "      <td>361.000000</td>\n",
       "    </tr>\n",
       "    <tr>\n",
       "      <th>max</th>\n",
       "      <td>404768.000000</td>\n",
       "      <td>37433.000000</td>\n",
       "    </tr>\n",
       "  </tbody>\n",
       "</table>\n",
       "</div>"
      ]
     },
     "execution_count": 187,
     "metadata": {},
     "output_type": "execute_result"
    }
   ],
   "execution_count": 187
  },
  {
   "metadata": {
    "ExecuteTime": {
     "end_time": "2025-01-24T18:28:26.933447Z",
     "start_time": "2025-01-24T18:28:26.930828Z"
    }
   },
   "cell_type": "code",
   "source": [
    "# процент платящих в контрольной группе\n",
    "control_procent_pays = control_pays.shape[0] / control.shape[0] * 100\n",
    "control_procent_pays"
   ],
   "outputs": [
    {
     "data": {
      "text/plain": [
       "0.9539690157988748"
      ]
     },
     "execution_count": 188,
     "metadata": {},
     "output_type": "execute_result"
    }
   ],
   "execution_count": 188
  },
  {
   "metadata": {
    "ExecuteTime": {
     "end_time": "2025-01-24T18:28:26.987878Z",
     "start_time": "2025-01-24T18:28:26.985107Z"
    }
   },
   "cell_type": "code",
   "source": [
    "# процент платящих в тестовой группе\n",
    "test_procent_pays = test_pays.shape[0] / test.shape[0] * 100\n",
    "test_procent_pays"
   ],
   "outputs": [
    {
     "data": {
      "text/plain": [
       "0.8906235351586593"
      ]
     },
     "execution_count": 189,
     "metadata": {},
     "output_type": "execute_result"
    }
   ],
   "execution_count": 189
  },
  {
   "metadata": {
    "ExecuteTime": {
     "end_time": "2025-01-24T18:28:27.078467Z",
     "start_time": "2025-01-24T18:28:27.057672Z"
    }
   },
   "cell_type": "code",
   "source": [
    "# Вычисление квартилей и межквартильного размаха для контрольной группы\n",
    "q1_control = control['revenue'].quantile(0.25)\n",
    "q3_control = control['revenue'].quantile(0.75)\n",
    "iqr_control = q3_control - q1_control\n",
    "\n",
    "# Границы выбросов для контрольной группы\n",
    "lower_bound_control = q1_control - 1.5 * iqr_control\n",
    "upper_bound_control = q3_control + 1.5 * iqr_control\n",
    "\n",
    "# Вывод границ\n",
    "print(f\"Контрольная группа: Нижняя граница = {lower_bound_control}, Верхняя граница = {upper_bound_control}\")\n",
    "\n",
    "# Аналогично для тестовой группы\n",
    "q1_test = test['revenue'].quantile(0.25)\n",
    "q3_test = test['revenue'].quantile(0.75)\n",
    "iqr_test = q3_test - q1_test\n",
    "\n",
    "# Границы выбросов для тестовой группы\n",
    "lower_bound_test = q1_test - 1.5 * iqr_test\n",
    "upper_bound_test = q3_test + 1.5 * iqr_test\n",
    "\n",
    "# Вывод границ\n",
    "print(f\"Тестовая группа: Нижняя граница = {lower_bound_test}, Верхняя граница = {upper_bound_test}\")\n",
    "\n",
    "\n",
    "# Отфильтруем выбросы\n",
    "control_filtered = control[(control['revenue'] >= lower_bound_control) & (control['revenue'] <= upper_bound_control)]\n",
    "test_filtered = test[(test['revenue'] >= lower_bound_test) & (test['revenue'] <= upper_bound_test)]\n",
    "\n",
    "# Выводим информацию о количестве удалённых выбросов\n",
    "print(f\"Удалено выбросов в контрольной группе: {control.shape[0] - control_filtered.shape[0]}\")\n",
    "print(f\"Удалено выбросов в тестовой группе: {test.shape[0] - test_filtered.shape[0]}\")\n",
    "\n",
    "\n",
    "\n",
    "# Вычисление процента выбросов в контрольной группе\n",
    "control_outliers_count = control.shape[0] - control_filtered.shape[0]\n",
    "control_outliers_percent = (control_outliers_count / control.shape[0]) * 100\n",
    "\n",
    "# Вычисление процента выбросов в тестовой группе\n",
    "test_outliers_count = test.shape[0] - test_filtered.shape[0]\n",
    "test_outliers_percent = (test_outliers_count / test.shape[0]) * 100\n",
    "\n",
    "# Вывод информации\n",
    "print(f\"Удалено выбросов в контрольной группе: {control_outliers_count} ({control_outliers_percent:.2f}%)\")\n",
    "print(f\"Удалено выбросов в тестовой группе: {test_outliers_count} ({test_outliers_percent:.2f}%)\")"
   ],
   "outputs": [
    {
     "name": "stdout",
     "output_type": "stream",
     "text": [
      "Контрольная группа: Нижняя граница = 0.0, Верхняя граница = 0.0\n",
      "Тестовая группа: Нижняя граница = 0.0, Верхняя граница = 0.0\n",
      "Удалено выбросов в контрольной группе: 1928\n",
      "Удалено выбросов в тестовой группе: 1805\n",
      "Удалено выбросов в контрольной группе: 1928 (0.95%)\n",
      "Удалено выбросов в тестовой группе: 1805 (0.89%)\n"
     ]
    }
   ],
   "execution_count": 190
  },
  {
   "metadata": {},
   "cell_type": "markdown",
   "source": [
    "По этим данным мы также можем сделать вывод, что в тестовой группе выручка составляет 5 421 603 рубля. В контрольной выручка составляет 5 136 189 рублей. Максимальный чек в контрольный группе составил 37 433 рубля, а в тестовой 4 000 рублей.\n",
    "На данном этапе мы не можем сделать однозначного предположения какой набор является лучшим\n",
    "\n",
    "В данном случае я рекомендую не убирать выбросы, так как очень низкий процент платящих\n",
    "\n",
    "При использовании межкавртильного размаха мы убираем слишком большое количество информации, которое вообще не позволяет провести анализ\n"
   ]
  },
  {
   "metadata": {
    "ExecuteTime": {
     "end_time": "2025-01-24T18:28:27.128234Z",
     "start_time": "2025-01-24T18:28:27.126576Z"
    }
   },
   "cell_type": "code",
   "source": "",
   "outputs": [],
   "execution_count": null
  },
  {
   "metadata": {},
   "cell_type": "markdown",
   "source": [
    "Далее проверим следующие метрики\n",
    "\n",
    "- ARPU\n",
    "- ARPPU\n",
    "- CR\n"
   ]
  },
  {
   "metadata": {},
   "cell_type": "markdown",
   "source": [
    "Проверим конверсию из задачи\n",
    "\n",
    "Конверсия это количество платящих пользователей / общее количество пользователей по двум группам\n",
    "ARPU"
   ]
  },
  {
   "cell_type": "code",
   "metadata": {
    "ExecuteTime": {
     "end_time": "2025-01-24T18:28:27.183375Z",
     "start_time": "2025-01-24T18:28:27.180780Z"
    }
   },
   "source": [
    "# проверка конверсии контрольной группы\n",
    "control_conversion = control_pays.shape[0] / control.shape[0] * 100\n",
    "control_conversion\n"
   ],
   "outputs": [
    {
     "data": {
      "text/plain": [
       "0.9539690157988748"
      ]
     },
     "execution_count": 191,
     "metadata": {},
     "output_type": "execute_result"
    }
   ],
   "execution_count": 191
  },
  {
   "metadata": {
    "ExecuteTime": {
     "end_time": "2025-01-24T18:28:27.231947Z",
     "start_time": "2025-01-24T18:28:27.228687Z"
    }
   },
   "cell_type": "code",
   "source": [
    "# проверка конверсии тестовой группы\n",
    "test_conversion = test_pays.shape[0] / test.shape[0] * 100\n",
    "test_conversion"
   ],
   "outputs": [
    {
     "data": {
      "text/plain": [
       "0.8906235351586593"
      ]
     },
     "execution_count": 192,
     "metadata": {},
     "output_type": "execute_result"
    }
   ],
   "execution_count": 192
  },
  {
   "metadata": {},
   "cell_type": "markdown",
   "source": [
    "Проверка ARPU\n",
    "\n",
    "Общий доход / общее количество пользователей"
   ]
  },
  {
   "metadata": {
    "ExecuteTime": {
     "end_time": "2025-01-24T18:28:27.286076Z",
     "start_time": "2025-01-24T18:28:27.275629Z"
    }
   },
   "cell_type": "code",
   "source": [
    "# рассчитываем ARPU в контроле\n",
    "control_summ = control['revenue'].sum()\n",
    "control_user_count = control['user_id'].nunique()\n",
    "control_arpu = control_summ / control_user_count\n",
    "control_arpu"
   ],
   "outputs": [
    {
     "data": {
      "text/plain": [
       "np.float64(25.413719736965806)"
      ]
     },
     "execution_count": 193,
     "metadata": {},
     "output_type": "execute_result"
    }
   ],
   "execution_count": 193
  },
  {
   "metadata": {
    "ExecuteTime": {
     "end_time": "2025-01-24T18:28:27.344047Z",
     "start_time": "2025-01-24T18:28:27.338103Z"
    }
   },
   "cell_type": "code",
   "source": [
    "# рассчитываем ARPU в тесте\n",
    "test_summ = test['revenue'].sum()\n",
    "test_user_count = test['user_id'].nunique()\n",
    "test_arpu = test_summ / test_user_count\n",
    "test_arpu"
   ],
   "outputs": [
    {
     "data": {
      "text/plain": [
       "np.float64(26.75128659327863)"
      ]
     },
     "execution_count": 194,
     "metadata": {},
     "output_type": "execute_result"
    }
   ],
   "execution_count": 194
  },
  {
   "metadata": {
    "ExecuteTime": {
     "end_time": "2025-01-24T18:28:27.374327Z",
     "start_time": "2025-01-24T18:28:27.371714Z"
    }
   },
   "cell_type": "code",
   "source": [
    "# разница в процентах\n",
    "percenttage_difference = (test_arpu - control_arpu) / test_arpu * 100\n",
    "percenttage_difference"
   ],
   "outputs": [
    {
     "data": {
      "text/plain": [
       "np.float64(5.00000944496214)"
      ]
     },
     "execution_count": 195,
     "metadata": {},
     "output_type": "execute_result"
    }
   ],
   "execution_count": 195
  },
  {
   "metadata": {},
   "cell_type": "markdown",
   "source": [
    "- arpu\n",
    "- контроль 25.41\n",
    "- тест 26.75"
   ]
  },
  {
   "metadata": {},
   "cell_type": "markdown",
   "source": "### Расчет ARPPU"
  },
  {
   "metadata": {
    "ExecuteTime": {
     "end_time": "2025-01-24T18:28:27.415089Z",
     "start_time": "2025-01-24T18:28:27.408438Z"
    }
   },
   "cell_type": "code",
   "source": [
    "control_arppu = control.query('revenue > 0')['revenue'].mean()\n",
    "control_arppu"
   ],
   "outputs": [
    {
     "data": {
      "text/plain": [
       "np.float64(2663.9984439834025)"
      ]
     },
     "execution_count": 196,
     "metadata": {},
     "output_type": "execute_result"
    }
   ],
   "execution_count": 196
  },
  {
   "metadata": {
    "ExecuteTime": {
     "end_time": "2025-01-24T18:28:27.445471Z",
     "start_time": "2025-01-24T18:28:27.440217Z"
    }
   },
   "cell_type": "code",
   "source": [
    "test_arppu = test.query('revenue > 0')['revenue'].mean()\n",
    "test_arppu"
   ],
   "outputs": [
    {
     "data": {
      "text/plain": [
       "np.float64(3003.6581717451522)"
      ]
     },
     "execution_count": 197,
     "metadata": {},
     "output_type": "execute_result"
    }
   ],
   "execution_count": 197
  },
  {
   "metadata": {},
   "cell_type": "markdown",
   "source": [
    "- arppu\n",
    "- контроль 2663.99\n",
    "- тест 3003.65"
   ]
  },
  {
   "metadata": {},
   "cell_type": "markdown",
   "source": "### Расчет CR"
  },
  {
   "metadata": {
    "ExecuteTime": {
     "end_time": "2025-01-24T18:28:27.537510Z",
     "start_time": "2025-01-24T18:28:27.467055Z"
    }
   },
   "cell_type": "code",
   "source": [
    "ab_test['is_paying'] = ab_test['revenue'].apply(lambda x: 1 if x > 0 else 0)\n",
    "ab_test.head(10)"
   ],
   "outputs": [
    {
     "data": {
      "text/plain": [
       "   user_id  revenue testgroup  is_paying\n",
       "0        1        0         b          0\n",
       "1        2        0         a          0\n",
       "2        3        0         a          0\n",
       "3        4        0         b          0\n",
       "4        5        0         b          0\n",
       "5        6        0         b          0\n",
       "6        7        0         b          0\n",
       "7        8        0         b          0\n",
       "8        9        0         b          0\n",
       "9       10        0         a          0"
      ],
      "text/html": [
       "<div>\n",
       "<style scoped>\n",
       "    .dataframe tbody tr th:only-of-type {\n",
       "        vertical-align: middle;\n",
       "    }\n",
       "\n",
       "    .dataframe tbody tr th {\n",
       "        vertical-align: top;\n",
       "    }\n",
       "\n",
       "    .dataframe thead th {\n",
       "        text-align: right;\n",
       "    }\n",
       "</style>\n",
       "<table border=\"1\" class=\"dataframe\">\n",
       "  <thead>\n",
       "    <tr style=\"text-align: right;\">\n",
       "      <th></th>\n",
       "      <th>user_id</th>\n",
       "      <th>revenue</th>\n",
       "      <th>testgroup</th>\n",
       "      <th>is_paying</th>\n",
       "    </tr>\n",
       "  </thead>\n",
       "  <tbody>\n",
       "    <tr>\n",
       "      <th>0</th>\n",
       "      <td>1</td>\n",
       "      <td>0</td>\n",
       "      <td>b</td>\n",
       "      <td>0</td>\n",
       "    </tr>\n",
       "    <tr>\n",
       "      <th>1</th>\n",
       "      <td>2</td>\n",
       "      <td>0</td>\n",
       "      <td>a</td>\n",
       "      <td>0</td>\n",
       "    </tr>\n",
       "    <tr>\n",
       "      <th>2</th>\n",
       "      <td>3</td>\n",
       "      <td>0</td>\n",
       "      <td>a</td>\n",
       "      <td>0</td>\n",
       "    </tr>\n",
       "    <tr>\n",
       "      <th>3</th>\n",
       "      <td>4</td>\n",
       "      <td>0</td>\n",
       "      <td>b</td>\n",
       "      <td>0</td>\n",
       "    </tr>\n",
       "    <tr>\n",
       "      <th>4</th>\n",
       "      <td>5</td>\n",
       "      <td>0</td>\n",
       "      <td>b</td>\n",
       "      <td>0</td>\n",
       "    </tr>\n",
       "    <tr>\n",
       "      <th>5</th>\n",
       "      <td>6</td>\n",
       "      <td>0</td>\n",
       "      <td>b</td>\n",
       "      <td>0</td>\n",
       "    </tr>\n",
       "    <tr>\n",
       "      <th>6</th>\n",
       "      <td>7</td>\n",
       "      <td>0</td>\n",
       "      <td>b</td>\n",
       "      <td>0</td>\n",
       "    </tr>\n",
       "    <tr>\n",
       "      <th>7</th>\n",
       "      <td>8</td>\n",
       "      <td>0</td>\n",
       "      <td>b</td>\n",
       "      <td>0</td>\n",
       "    </tr>\n",
       "    <tr>\n",
       "      <th>8</th>\n",
       "      <td>9</td>\n",
       "      <td>0</td>\n",
       "      <td>b</td>\n",
       "      <td>0</td>\n",
       "    </tr>\n",
       "    <tr>\n",
       "      <th>9</th>\n",
       "      <td>10</td>\n",
       "      <td>0</td>\n",
       "      <td>a</td>\n",
       "      <td>0</td>\n",
       "    </tr>\n",
       "  </tbody>\n",
       "</table>\n",
       "</div>"
      ]
     },
     "execution_count": 198,
     "metadata": {},
     "output_type": "execute_result"
    }
   ],
   "execution_count": 198
  },
  {
   "metadata": {
    "ExecuteTime": {
     "end_time": "2025-01-24T18:28:27.595798Z",
     "start_time": "2025-01-24T18:28:27.571763Z"
    }
   },
   "cell_type": "code",
   "source": [
    "control_cr = ab_test[ab_test['testgroup'] == 'a']['is_paying'].mean() * 100\n",
    "control_cr"
   ],
   "outputs": [
    {
     "data": {
      "text/plain": [
       "np.float64(0.9539690157988748)"
      ]
     },
     "execution_count": 199,
     "metadata": {},
     "output_type": "execute_result"
    }
   ],
   "execution_count": 199
  },
  {
   "metadata": {
    "ExecuteTime": {
     "end_time": "2025-01-24T18:28:27.655861Z",
     "start_time": "2025-01-24T18:28:27.632081Z"
    }
   },
   "cell_type": "code",
   "source": [
    "test_cr = ab_test[ab_test['testgroup'] == 'b']['is_paying'].mean() * 100\n",
    "test_cr"
   ],
   "outputs": [
    {
     "data": {
      "text/plain": [
       "np.float64(0.8906235351586593)"
      ]
     },
     "execution_count": 200,
     "metadata": {},
     "output_type": "execute_result"
    }
   ],
   "execution_count": 200
  },
  {
   "metadata": {},
   "cell_type": "markdown",
   "source": [
    "- В контрольной группе CR 0.95\n",
    "- В тестовой группе CR 0.89"
   ]
  },
  {
   "metadata": {},
   "cell_type": "markdown",
   "source": [
    "---\n",
    "- arpu\n",
    "- контроль 25.41\n",
    "- тест 26.75\n",
    "---\n",
    "- arppu\n",
    "- контроль 2663.99\n",
    "- тест 3003.65\n",
    "---\n",
    "- CR\n",
    "- контроль CR 0.95\n",
    "- тест CR 0.89"
   ]
  },
  {
   "metadata": {},
   "cell_type": "markdown",
   "source": "В тестовой группе arpu и arppu выше чем в контрольной. Зато в контрольной группе выше CR"
  },
  {
   "metadata": {},
   "cell_type": "markdown",
   "source": "## Тестирование гипотез"
  },
  {
   "metadata": {},
   "cell_type": "markdown",
   "source": "__ARPU__"
  },
  {
   "metadata": {},
   "cell_type": "markdown",
   "source": [
    "- H 0 : Нулевая гипотеза утверждает, что средние значения в двух генеральных совокупностях равны (нет значимых различий).\n",
    "- H 1 : Альтернативная гипотеза утверждает, что средние значения в двух генеральных совокупностях отличаются."
   ]
  },
  {
   "metadata": {
    "ExecuteTime": {
     "end_time": "2025-01-24T18:28:27.688603Z",
     "start_time": "2025-01-24T18:28:27.687110Z"
    }
   },
   "cell_type": "code",
   "source": "",
   "outputs": [],
   "execution_count": null
  },
  {
   "metadata": {
    "ExecuteTime": {
     "end_time": "2025-01-24T18:28:27.771416Z",
     "start_time": "2025-01-24T18:28:27.710513Z"
    }
   },
   "cell_type": "code",
   "source": [
    "# тест на гомоскедастичность\n",
    "pg.homoscedasticity(data=ab_test, dv=\"revenue\", group=\"testgroup\")"
   ],
   "outputs": [
    {
     "data": {
      "text/plain": [
       "               W      pval  equal_var\n",
       "levene  0.389629  0.532495       True"
      ],
      "text/html": [
       "<div>\n",
       "<style scoped>\n",
       "    .dataframe tbody tr th:only-of-type {\n",
       "        vertical-align: middle;\n",
       "    }\n",
       "\n",
       "    .dataframe tbody tr th {\n",
       "        vertical-align: top;\n",
       "    }\n",
       "\n",
       "    .dataframe thead th {\n",
       "        text-align: right;\n",
       "    }\n",
       "</style>\n",
       "<table border=\"1\" class=\"dataframe\">\n",
       "  <thead>\n",
       "    <tr style=\"text-align: right;\">\n",
       "      <th></th>\n",
       "      <th>W</th>\n",
       "      <th>pval</th>\n",
       "      <th>equal_var</th>\n",
       "    </tr>\n",
       "  </thead>\n",
       "  <tbody>\n",
       "    <tr>\n",
       "      <th>levene</th>\n",
       "      <td>0.389629</td>\n",
       "      <td>0.532495</td>\n",
       "      <td>True</td>\n",
       "    </tr>\n",
       "  </tbody>\n",
       "</table>\n",
       "</div>"
      ]
     },
     "execution_count": 201,
     "metadata": {},
     "output_type": "execute_result"
    }
   ],
   "execution_count": 201
  },
  {
   "metadata": {},
   "cell_type": "markdown",
   "source": [
    "p-value > 0.05, дисперсии гомогенны\n",
    "\n",
    "Применяем t-test"
   ]
  },
  {
   "metadata": {
    "ExecuteTime": {
     "end_time": "2025-01-24T18:28:27.816739Z",
     "start_time": "2025-01-24T18:28:27.809383Z"
    }
   },
   "cell_type": "code",
   "source": "stats.ttest_ind(control.revenue, test.revenue)",
   "outputs": [
    {
     "data": {
      "text/plain": [
       "TtestResult(statistic=np.float64(-0.6242026493616787), pvalue=np.float64(0.532494858971837), df=np.float64(404768.0))"
      ]
     },
     "execution_count": 202,
     "metadata": {},
     "output_type": "execute_result"
    }
   ],
   "execution_count": 202
  },
  {
   "metadata": {},
   "cell_type": "markdown",
   "source": [
    "p-value > 0.05\n",
    "\n",
    "H0 отклонить не можем- статистически значимых различий ARPU между группами нет"
   ]
  },
  {
   "metadata": {},
   "cell_type": "markdown",
   "source": "#### ARPU"
  },
  {
   "metadata": {},
   "cell_type": "markdown",
   "source": [
    "- H 0 : Нулевая гипотеза утверждает, что средние значения в двух генеральных совокупностях равны (нет значимых различий).\n",
    "- H 1 : Альтернативная гипотеза утверждает, что средние значения в двух генеральных совокупностях отличаются."
   ]
  },
  {
   "metadata": {
    "ExecuteTime": {
     "end_time": "2025-01-24T18:28:27.969495Z",
     "start_time": "2025-01-24T18:28:27.962927Z"
    }
   },
   "cell_type": "code",
   "source": "pg.homoscedasticity(data=ab_test.query(\"revenue > 0\"), dv=\"revenue\", group=\"testgroup\")",
   "outputs": [
    {
     "data": {
      "text/plain": [
       "                W          pval  equal_var\n",
       "levene  80.855674  3.779690e-19      False"
      ],
      "text/html": [
       "<div>\n",
       "<style scoped>\n",
       "    .dataframe tbody tr th:only-of-type {\n",
       "        vertical-align: middle;\n",
       "    }\n",
       "\n",
       "    .dataframe tbody tr th {\n",
       "        vertical-align: top;\n",
       "    }\n",
       "\n",
       "    .dataframe thead th {\n",
       "        text-align: right;\n",
       "    }\n",
       "</style>\n",
       "<table border=\"1\" class=\"dataframe\">\n",
       "  <thead>\n",
       "    <tr style=\"text-align: right;\">\n",
       "      <th></th>\n",
       "      <th>W</th>\n",
       "      <th>pval</th>\n",
       "      <th>equal_var</th>\n",
       "    </tr>\n",
       "  </thead>\n",
       "  <tbody>\n",
       "    <tr>\n",
       "      <th>levene</th>\n",
       "      <td>80.855674</td>\n",
       "      <td>3.779690e-19</td>\n",
       "      <td>False</td>\n",
       "    </tr>\n",
       "  </tbody>\n",
       "</table>\n",
       "</div>"
      ]
     },
     "execution_count": 203,
     "metadata": {},
     "output_type": "execute_result"
    }
   ],
   "execution_count": 203
  },
  {
   "metadata": {},
   "cell_type": "markdown",
   "source": "Диспресии не гомогенны, по этому используем t-критерий Уэлча"
  },
  {
   "metadata": {
    "ExecuteTime": {
     "end_time": "2025-01-24T18:28:28.001583Z",
     "start_time": "2025-01-24T18:28:27.994710Z"
    }
   },
   "cell_type": "code",
   "source": [
    "stats.ttest_ind(control.query(\"revenue > 0\").revenue, test.query(\"revenue > 0\").revenue,\n",
    "                equal_var=False)"
   ],
   "outputs": [
    {
     "data": {
      "text/plain": [
       "TtestResult(statistic=np.float64(-1.644630266430084), pvalue=np.float64(0.10020780398916018), df=np.float64(1943.4815217434643))"
      ]
     },
     "execution_count": 204,
     "metadata": {},
     "output_type": "execute_result"
    }
   ],
   "execution_count": 204
  },
  {
   "metadata": {},
   "cell_type": "markdown",
   "source": [
    "p-value > 0.05\n",
    "\n",
    "H0 отклонить не можем- статистически значимых различий ARPPU между группами нет"
   ]
  },
  {
   "metadata": {},
   "cell_type": "markdown",
   "source": "### CR"
  },
  {
   "metadata": {},
   "cell_type": "markdown",
   "source": [
    "- H 0 : Нулевая гипотеза утверждает, что средние значения в двух генеральных совокупностях равны (нет значимых различий).\n",
    "- H 1 : Альтернативная гипотеза утверждает, что средние значения в двух генеральных совокупностях отличаются."
   ]
  },
  {
   "metadata": {},
   "cell_type": "markdown",
   "source": "Так как значения биноминальные, то используем хи-квадрат"
  },
  {
   "metadata": {
    "ExecuteTime": {
     "end_time": "2025-01-24T18:28:28.090177Z",
     "start_time": "2025-01-24T18:28:28.055647Z"
    }
   },
   "cell_type": "code",
   "source": "stats.chi2_contingency(pd.crosstab(ab_test.testgroup, ab_test.is_paying))",
   "outputs": [
    {
     "data": {
      "text/plain": [
       "Chi2ContingencyResult(statistic=np.float64(4.374729521260405), pvalue=np.float64(0.03647561892312609), dof=1, expected_freq=array([[200239.10075104,   1863.89924896],\n",
       "       [200797.89924896,   1869.10075104]]))"
      ]
     },
     "execution_count": 205,
     "metadata": {},
     "output_type": "execute_result"
    }
   ],
   "execution_count": 205
  },
  {
   "metadata": {},
   "cell_type": "markdown",
   "source": [
    "p-value < 0.05\n",
    "Присутствуют статистически значимые различия между группами"
   ]
  },
  {
   "metadata": {},
   "cell_type": "markdown",
   "source": [
    "### Вывод по заданию 2\n",
    "\n",
    "#### Общие результаты метрик\n",
    "- **ARPU (Average Revenue Per User)**:\n",
    "  - Контрольная группа: **25.41 руб.**\n",
    "  - Тестовая группа: **26.75 руб.**\n",
    "  - **Разница**: +5% в пользу тестовой группы.\n",
    "- **ARPPU (Average Revenue Per Paying User)**:\n",
    "  - Контрольная группа: **2663.99 руб.**\n",
    "  - Тестовая группа: **3003.65 руб.**\n",
    "  - **Разница**: +12.7% в пользу тестовой группы.\n",
    "- **CR (Conversion Rate)**:\n",
    "  - Контрольная группа: **0.95%.**\n",
    "  - Тестовая группа: **0.89%.**\n",
    "  - **Разница**: -0.06% в тестовой группе (значительное снижение).\n",
    "\n",
    "#### Гипотезы и тестирование\n",
    "- **ARPU**:\n",
    "  - Нулевая гипотеза (H₀): Средние значения ARPU в группах равны.\n",
    "  - Результат: p-value > 0.05. Статистически значимых различий между группами нет.\n",
    "- **ARPPU**:\n",
    "  - Нулевая гипотеза (H₀): Средние значения ARPPU в группах равны.\n",
    "  - Результат: p-value > 0.05. Статистически значимых различий между группами нет.\n",
    "- **CR**:\n",
    "  - Нулевая гипотеза (H₀): Конверсия в платящих пользователей одинакова в обеих группах.\n",
    "  - Результат: p-value < 0.05. Контрольная группа показала статистически значимо лучший результат.\n",
    "\n",
    "#### Общая выручка\n",
    "- **Контрольная группа**: 5,136,189 руб.\n",
    "- **Тестовая группа**: 5,421,603 руб.\n",
    "- Тестовая группа показала более высокую выручку, но значимая разница в ARPU отсутствует.\n",
    "\n",
    "#### Рекомендации\n",
    "- **Тестовый набор предложений внедрять не рекомендуется**, так как:\n",
    "  - Отсутствуют доказательства статистически значимого роста ARPU или ARPPU.\n",
    "  - Конверсия (CR) в тестовой группе значительно ниже.\n",
    "- **Контрольная группа предпочтительна**, особенно если цель заключается в увеличении платящей аудитории.\n",
    "\n",
    "\n",
    "#### Итог\n",
    "Несмотря на локальные успехи тестовой группы по ARPU и ARPPU, снижение CR и отсутствие статистически значимых различий делают **контрольный набор предложений** более предпочтительным."
   ]
  },
  {
   "metadata": {},
   "cell_type": "markdown",
   "source": [
    "# Задание 3\n",
    "В игре Plants & Gardens каждый месяц проводятся тематические события, ограниченные по времени. В них игроки могут получить уникальные предметы для сада и персонажей, дополнительные монеты или бонусы. Для получения награды требуется пройти ряд уровней за определенное время. С помощью каких метрик можно оценить результаты последнего прошедшего события?"
   ]
  },
  {
   "metadata": {},
   "cell_type": "markdown",
   "source": "---"
  },
  {
   "metadata": {},
   "cell_type": "markdown",
   "source": [
    "## Метрики для оценки эффективности игровых событий\n",
    "\n",
    "## Базовые метрики\n",
    "1. **Уникальные игроки события (Unique Players per Event)**\n",
    "   Количество уникальных игроков, участвовавших в событии.\n",
    "   *Применение*: Анализ охвата аудитории и сравнение текущего события с прошлыми.\n",
    "\n",
    "2. **Ежедневно активные пользователи (DAU - Daily Active Users)**\n",
    "   Число пользователей, которые заходят в игру в день.\n",
    "   *Применение*: Отражает вовлеченность аудитории, помогает отслеживать влияние событий на ежедневную активность.\n",
    "\n",
    "3. **Ежемесячно активные пользователи (MAU - Monthly Active Users)**\n",
    "   Число пользователей, которые заходят в игру в течение месяца.\n",
    "   *Применение*: Оценка долгосрочной активности аудитории.\n",
    "\n",
    "4. **Липкость (Stickiness)**\n",
    "   Отношение DAU к MAU, показывающее, как часто пользователи возвращаются в игру.\n",
    "   *Применение*: Сравнение активности в разные периоды (например, до и после события).\n",
    "\n",
    "5. **Среднее время в событии (Average Time per Event)**\n",
    "   Среднее время, которое игрок проводит в рамках события.\n",
    "   *Применение*: Анализ вовлеченности по дням или за весь период.\n",
    "\n",
    "---\n",
    "\n",
    "## Метрики монетизации\n",
    "6. **Средний доход на активного пользователя (ARPDAU - Average Revenue Per Daily Active User)**\n",
    "   Доход, приходящийся на одного активного пользователя.\n",
    "   *Формула*: `Дневной доход / DAU`.\n",
    "\n",
    "7. **Средний доход на платящего пользователя (ARPPU - Average Revenue Per Paying User)**\n",
    "   Доход от одного пользователя, совершающего внутриигровые покупки.\n",
    "   *Применение*: Оценка эффективности монетизации.\n",
    "\n",
    "8. **Затраты в событии (Spent Coins/Characters)**\n",
    "   Количество игровых ресурсов (монет, персонажей), потраченных в событии.\n",
    "   *Применение*: Измерение влияния события на экономику игры.\n",
    "\n",
    "9. **Доход от события (Event Revenue)**\n",
    "   Общая сумма дохода, полученного в рамках события.\n",
    "   *Применение*: Анализ эффективности событийных механик.\n",
    "\n",
    "---\n",
    "\n",
    "## Метрики удержания\n",
    "10. **Retention Rate**\n",
    "    Процент пользователей, вернувшихся в игру за определённый период.\n",
    "    *Формула*: `Число вернувшихся игроков / Число пользователей на начало периода`.\n",
    "\n",
    "11. **Отток пользователей (Churn Rate)**\n",
    "    Процент игроков, покинувших игру за расчётный период.\n",
    "    *Применение*: Выявление причин ухода (например, баги или сложные механики).\n",
    "\n",
    "12. **Удержание игроков на уровнях (Level Retention)**\n",
    "    Процент пользователей, прошедших каждый уровень события.\n",
    "    *Применение*: Анализ точек оттока и интереса к событию.\n",
    "\n",
    "---\n",
    "\n",
    "## Дополнительные метрики\n",
    "13. **Количество игровых сессий (Session Count)**\n",
    "    Число игровых сессий за день или за весь период события.\n",
    "    *Применение*: Измерение вовлечённости аудитории.\n",
    "\n",
    "14. **Продолжительность игровой сессии (Session Duration)**\n",
    "    Среднее время одной игровой сессии.\n",
    "    *Применение*: Оценка глубины вовлечённости.\n",
    "\n",
    "15. **Полученные награды (Earned Coins/Characters)**\n",
    "    Количество игровых ресурсов, заработанных за период события.\n",
    "    *Применение*: Оценка баланса сложности и привлекательности контента.\n",
    "\n",
    "16. **Частота обращений в службу поддержки (Support Requests)**\n",
    "    Количество запросов в поддержку за период события.\n",
    "    *Применение*: Выявление проблем, требующих улучшения.\n",
    "\n",
    "---\n",
    "\n",
    "## Неочевидные метрики\n",
    "17. **Упоминания в соцсетях и на форумах (Event Mentions)**\n",
    "    Количество упоминаний события в социальных сетях и на тематических платформах.\n",
    "    *Применение*: Косвенная оценка популярности события.\n",
    "\n",
    "18. **Вторичный рынок (Secondary Market)**\n",
    "    Стоимость уникальных игровых персонажей или ресурсов, появившихся в событии, на вторичном рынке.\n",
    "    *Применение*: Анализ ценности игровых активов для аудитории.\n",
    "\n",
    "---\n",
    "\n",
    "## Итоговые метрики\n",
    "19. **LTV (Lifetime Value)**\n",
    "    Долгосрочная ценность пользователя.\n",
    "    *Формула*: `Общий доход, принесённый игроком за весь период его активности`.\n",
    "\n",
    "20. **Установки приложения (App Installations)**\n",
    "    Количество новых установок игры за период события.\n",
    "    *Применение*: Оценка привлечения новой аудитории."
   ]
  },
  {
   "metadata": {},
   "cell_type": "markdown",
   "source": [
    "# Задание 3.1\n",
    "Предположим, в другом событии мы усложнили механику событий так, что при каждой неудачной попытке выполнения уровня игрок будет откатываться на несколько уровней назад. Изменится ли набор метрик оценки результата? Если да, то как?"
   ]
  },
  {
   "metadata": {},
   "cell_type": "markdown",
   "source": [
    "## Дополнительные Guardrail-метрики\n",
    "\n",
    "## Метрики игровых неудач\n",
    "1. **Количество неудачных попыток выполнения уровня на игрока (Failed Attempts per Player)**\n",
    "   Число проваленных попыток выполнения уровня для каждого игрока.\n",
    "   *Применение*: Анализ сложности уровней и возможных точек оттока.\n",
    "\n",
    "2. **Откаты по уровням (Level Rollbacks)**\n",
    "   Количество уровней, на которые игрок откатился после неудачи.\n",
    "   *Применение*: Выявление фрустрации игроков и сложностей геймплея.\n",
    "\n",
    "3. **Заброшенные события после откатов (Drop Rate After Rollbacks)**\n",
    "   Процент игроков, которые прекратили прохождение события после откатов.\n",
    "   *Применение*: Оценка влияния неудач на мотивацию игроков.\n",
    "\n",
    "---\n",
    "\n",
    "## Метрики вовлеченности после неудач\n",
    "4. **Частота возвращений после провалов уровня (Return Rate After Failure)**\n",
    "   Доля игроков, вернувшихся к событию после неудачи.\n",
    "   *Применение*: Анализ того, как события мотивируют или демотивируют игроков после сложностей.\n",
    "\n",
    "5. **Число попыток после откатов (Number of Attempts After Rollback)**\n",
    "   Количество попыток, предпринятых игроком после отката на предыдущие уровни.\n",
    "   *Применение*: Измерение настойчивости игроков и оценки сложности событий."
   ]
  },
  {
   "metadata": {
    "ExecuteTime": {
     "end_time": "2025-01-24T18:28:28.132181Z",
     "start_time": "2025-01-24T18:28:28.130088Z"
    }
   },
   "cell_type": "code",
   "source": "",
   "outputs": [],
   "execution_count": null
  }
 ],
 "metadata": {
  "kernelspec": {
   "display_name": "Python 3",
   "language": "python",
   "name": "python3"
  },
  "language_info": {
   "codemirror_mode": {
    "name": "ipython",
    "version": 3
   },
   "file_extension": ".py",
   "mimetype": "text/x-python",
   "name": "python",
   "nbconvert_exporter": "python",
   "pygments_lexer": "ipython3",
   "version": "3.7.3"
  }
 },
 "nbformat": 4,
 "nbformat_minor": 4
}
