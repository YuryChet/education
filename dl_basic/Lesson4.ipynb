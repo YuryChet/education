{
  "cells": [
    {
      "cell_type": "markdown",
      "metadata": {
        "id": "1GiQHLSKSW-I"
      },
      "source": [
        "# Домашнее задание 4\n",
        "\n",
        "В этом задании мы:\n",
        "1. Построим классификатор датасета CIFAR с помощью обычных нейросетей и CNN.\n",
        "2. Поработаем с аугментациями и добьемся большего качества с их помощью.\n",
        "3. Попрактикуемся с техникой fine-tuning: возьмем готовый MobileNet и дообучим последний слой под нашу задачу."
      ]
    },
    {
      "cell_type": "markdown",
      "metadata": {
        "id": "ebWV9GS6SW-L"
      },
      "source": [
        "## Классификация: CNN против обычных сетей\n",
        "\n",
        "В первой части задания мы повторим то, что проделывалось на лекции.\n",
        "Но на этот раз будем учить сети до победного, пока их качество не перестанет улучшаться - и сравним результаты.\n",
        "\n",
        "Также в конце оценим число параметров в каждой сети, чтобы сравнить эффективность CNN и FC при работе с изображениями.\n",
        "\n",
        "Воспользуемся датасетом CIFAR."
      ]
    },
    {
      "cell_type": "code",
      "execution_count": 1,
      "metadata": {
        "id": "xARvjMxP4JWd",
        "colab": {
          "base_uri": "https://localhost:8080/"
        },
        "outputId": "0697c3f7-1ae5-4413-e178-e9bb8e02f8d6"
      },
      "outputs": [
        {
          "output_type": "stream",
          "name": "stderr",
          "text": [
            "100%|██████████| 170M/170M [00:05<00:00, 31.3MB/s]\n"
          ]
        }
      ],
      "source": [
        "from dataclasses import dataclass\n",
        "\n",
        "import torch\n",
        "import torch.nn as nn\n",
        "import torch.nn.functional as F\n",
        "from torch.utils.data import DataLoader\n",
        "from torchvision.datasets import CIFAR10\n",
        "from torchvision.transforms import ToTensor\n",
        "\n",
        "train_dataset = CIFAR10(root=\"./data\", train=True, download=True, transform=ToTensor())\n",
        "test_dataset = CIFAR10(root=\"./data\", train=False, download=True, transform=ToTensor())"
      ]
    },
    {
      "cell_type": "markdown",
      "metadata": {
        "id": "X3UFEMnYSW-M"
      },
      "source": [
        "### Задание №1\n",
        "\n",
        "Создайте два объекта `DataLoader` и сохраните их в переменные `train_loader` и `test_loader` (для тренировочной и тестовой выборки соответственно).\n",
        "\n",
        "Используйте размер батча 256."
      ]
    },
    {
      "cell_type": "code",
      "source": [
        "from torch.utils.data import random_split\n",
        "\n",
        "# Разбивка Трейна на трейн с валидационный\n",
        "train_size = int(0.9 * len(train_dataset)) #int- целое число. Надо чтобы было целое чтобы потом сплит работал\n",
        "val_size = len(train_dataset) - train_size\n",
        "train_dataset, val_dataset = random_split(train_dataset, [train_size, val_size], generator=torch.Generator().manual_seed(42))\n"
      ],
      "metadata": {
        "id": "cwPUrT2YMcMY"
      },
      "execution_count": 2,
      "outputs": []
    },
    {
      "cell_type": "code",
      "execution_count": 3,
      "metadata": {
        "id": "vVjkN2_SSW-M"
      },
      "outputs": [],
      "source": [
        "from torch.utils.data import DataLoader\n",
        "\n",
        "\n",
        "generator = torch.Generator().manual_seed(42)\n",
        "\n",
        "train_loader = DataLoader(\n",
        "    train_dataset,\n",
        "    batch_size=256,\n",
        "    # перемешать данные или нет\n",
        "    shuffle=True,\n",
        "    # если перемешать - озаботьтесь воспроизводимостью\n",
        "    generator=generator,\n",
        "    # В последнем батче может не набраться 32 элемента.\n",
        "    # Этот флаг говорит, убрать такой батч или оставить.\n",
        "    drop_last=True,\n",
        ")\n",
        "\n",
        "\n",
        "test_loader = DataLoader(\n",
        "    test_dataset,\n",
        "    batch_size=256,\n",
        "    # перемешать данные или нет\n",
        "    shuffle=False,\n",
        "    # если перемешать - озаботьтесь воспроизводимостью\n",
        "    generator=generator,\n",
        "    # В последнем батче может не набраться 32 элемента.\n",
        "    # Этот флаг говорит, убрать такой батч или оставить.\n",
        "    drop_last=False,\n",
        ")\n",
        "\n",
        "\n",
        "val_loader = DataLoader(\n",
        "    val_dataset,\n",
        "    batch_size=256,\n",
        "    # перемешать данные или нет\n",
        "    shuffle=False,\n",
        "    # если перемешать - озаботьтесь воспроизводимостью\n",
        "    generator=generator,\n",
        "    # В последнем батче может не набраться 32 элемента.\n",
        "    # Этот флаг говорит, убрать такой батч или оставить.\n",
        "    drop_last=False,\n",
        ")"
      ]
    },
    {
      "cell_type": "code",
      "source": [],
      "metadata": {
        "id": "iSsLkrfdS1AY"
      },
      "execution_count": null,
      "outputs": []
    },
    {
      "cell_type": "markdown",
      "metadata": {
        "id": "MpCCGjgFSW-M"
      },
      "source": [
        "### Задание №2\n",
        "\n",
        "Обучите полносвязную сеть для классификации CIFAR.\n",
        "\n",
        "Достаточно 3 блоков \"Linear + ReLU\".\n",
        "Ваша задача - вывести accuracy на _тестовой выборке_ на плато.\n",
        "Т.е. нужно обучить сеть настолько долго, чтобы увидеть, как ее качество перестает расти с ростом числа эпох.\n",
        "Для этого попробуйте подвигать `lr` и `num_epochs`.\n",
        "\n",
        "\n",
        "Сдайте в ЛМС предельный accuracy, который может достичь полносвязная сеть."
      ]
    },
    {
      "cell_type": "code",
      "source": [
        "import matplotlib.pyplot as plt\n",
        "from IPython.display import clear_output\n",
        "\n",
        "\n",
        "@dataclass\n",
        "class TrainConfig:\n",
        "    lr: float\n",
        "    num_epochs: int\n",
        "\n",
        "\n",
        "def plot_accuracy(epoch: int, values: list[float]):\n",
        "    # эта хрень намекает что надо взять значение accuracy добавить его в список validation_accuracy и передать его в плот\n",
        "    # а ай в этом случае это в циклах по эпохам. То есть график надо вызывать в конце цикла эпох\n",
        "    \"\"\"Пример:\n",
        "    >>> acc.append(validation_accuracy)\n",
        "    >>> plot(i + 1, validation_accuracy)\n",
        "    \"\"\"\n",
        "    clear_output(True)\n",
        "    # заголовок графика эпохи\n",
        "    plt.title(\"Epoch %s. Accuracy: %s\" % (epoch, values[-1]))\n",
        "    # когда мы валуес передаем, там значения акураси они будут строиться по y слева направо\n",
        "    plt.plot(values)\n",
        "    plt.grid()\n",
        "    plt.show()\n",
        "\n",
        "\n",
        "# ТРЕНИРОВОЧНАЯ ПЕТЛЯ\n",
        "def train_loop(\n",
        "    model: nn.Module,\n",
        "    train_loader: DataLoader,\n",
        "    val_loader: DataLoader,\n",
        "    optimizer: torch.optim.Optimizer,\n",
        "    config: TrainConfig,\n",
        "    device: torch.device = torch.device(\"cuda\" if torch.cuda.is_available() else \"cpu\"),\n",
        "):\n",
        "    # Перенос модели на GPU, если доступен\n",
        "    model = model.to(device)\n",
        "    # создаем список чтобы потом строить график\n",
        "    val_acc = []\n",
        "\n",
        "    # ЦИКЛ (запуск первой эпохи) в этой эпохе 1 трейнлоадер, в который выдает по 1 бытчу с 256 картинками (далее цикл)\n",
        "    for i in range(config.num_epochs):\n",
        "        model.train()  # Переключение в режим обучения\n",
        "\n",
        "        # Внутри каждой эпохи один трейнлоадер в котором есть 256 картинок (значит батчей примерно 195 так как 50000/256)\n",
        "        # В данном случае X_batch это 256 картинок как мы указали в train_loader\n",
        "        #  этот цикл проходит ВСЕ 50 000 картинок — батч за батчом\n",
        "        for X_batch, y_batch in train_loader:\n",
        "            # Переносим батч из 256 картинок и меток на то же устройство, где находится модель (обычно GPU)\n",
        "            X_batch, y_batch = X_batch.to(device), y_batch.to(device)\n",
        "\n",
        "            # Обнуление градиентов\n",
        "            # так как мы считаем градиенты только для текущего батча в котором 256 картинов (так как это цикл)\n",
        "            # и мы обновляем веса после КАЖДОГО батча из 256 картинов\n",
        "            # Обнуляем старые градиенты перед тем, как начать вычисление новых.\n",
        "            # Иначе градиенты накапливались бы от предыдущих батчей — это сломает обучение.\n",
        "            optimizer.zero_grad()\n",
        "\n",
        "            # Прогоняем текущий батч из 256 изображений через модель.\n",
        "            # outputs — это тензор формы [256, 10]: предсказания для каждого изображения по 10 классам.\n",
        "            outputs = model(X_batch)\n",
        "\n",
        "            # Расчёт потерь по батчу из 256 картинок (в сравнении с правильными ответами y_batch)\n",
        "            # loss — одно число (скаляр).\n",
        "            loss = F.cross_entropy(outputs, y_batch)\n",
        "\n",
        "            # Вычисляем градиенты ошибки по всем параметрам модели.\n",
        "            # Только для этого батча из 256 картинок.\n",
        "            loss.backward()  # Обратное распространение ошибки\n",
        "\n",
        "            # Обновление параметров модели по рассчитанным градиентом\n",
        "            # В данном случае у нас адам\n",
        "            optimizer.step()\n",
        "\n",
        "# =================\n",
        "        # Валидация НА ДАННОМ ЭТАПЕ МЫ ПОЛНОСТЬЮ ПРОГНАЛИ ВСЕ КАРТИНКИ и обновили веса по ним (это была одна эпоха)\n",
        "        model.eval()  # Переключение в режим валидации\n",
        "        total_val_acc = 0 #нужно далее для расчетов\n",
        "        total_val_samples = 0 # также для формулы\n",
        "\n",
        "        with torch.no_grad(): # Всё, что находится внутри этого блока, будет выполняться без расчёта и хранения градиентов.\n",
        "            for X_batch, y_batch in val_loader: # валидационный лоадер\n",
        "                # Перенос батча на GPU\n",
        "                X_batch, y_batch = X_batch.to(device), y_batch.to(device)\n",
        "\n",
        "                # Получение предсказаний модели по X через валидационный батч из валидационного лоадера\n",
        "                # outputs — это тензор формы [256, 10]: предсказания для каждого изображения по 10 классам.\n",
        "                val_outputs = model(X_batch)\n",
        "\n",
        "                # Накопление статистики\n",
        "                total_val_acc += (val_outputs.argmax(1) == y_batch).sum().item()\n",
        "                # total_val_acc( который 0) + (берется индекс макс значения из val_outputs ЕСЛИ он равен y_batch тогда TRUE) -> СУММА TRUE в виде числа\n",
        "\n",
        "                # во второй счетчик накапливается количество строк (предсказаний) в батче вообще\n",
        "                total_val_samples += X_batch.size(0)\n",
        "\n",
        "\n",
        "        # Расчёт средней потери и точности на валидационном наборе\n",
        "        # У нас вверху был список val_acc (мы находимся все ещё внутри первой эпохи)\n",
        "        # добавляем в список 1 значение акураси на валидационной выборке\n",
        "        val_acc.append(total_val_acc / total_val_samples)\n",
        "\n",
        "        # Вызываем функцию plot_accuracy\n",
        "        # Передаём:\n",
        "        # - номер текущей эпохи (i + 1), потому что i начинается с 0\n",
        "        # - список значений accuracy на валидации (val_acc), накопленных за все эпохи\n",
        "        plot_accuracy(i + 1, val_acc)\n",
        "###### ЭПОХА ЗАКОНЧЕНА -начало новой\n",
        "\n",
        "\n",
        "class SimpleFCNModel(nn.Module):\n",
        "    def __init__(self, num_classes=10):\n",
        "        super().__init__()\n",
        "        self.fc = nn.Sequential(\n",
        "            nn.Flatten(), # этот слой передает многомерный тензор(картинку) в длинный вектор\n",
        "            nn.Linear(3 * 32 * 32, 512),\n",
        "            nn.ReLU(),\n",
        "            nn.Linear(512, 256),\n",
        "            nn.ReLU(),\n",
        "            nn.Linear(256, 128),\n",
        "            nn.ReLU(),\n",
        "            nn.Linear(128, num_classes),\n",
        "        )\n",
        "\n",
        "    def forward(self, x):\n",
        "        return self.fc(x)\n",
        "\n",
        "\n",
        "torch.manual_seed(987)\n",
        "params = TrainConfig(lr=1e-3, num_epochs=50)\n",
        "model = SimpleFCNModel()\n",
        "optimizer = torch.optim.Adam(model.parameters(), lr=params.lr)\n",
        "train_loop(model, train_loader, test_loader, optimizer, params)\n",
        "# Около 0.55 должно выйти"
      ],
      "metadata": {
        "colab": {
          "base_uri": "https://localhost:8080/",
          "height": 452
        },
        "id": "5xfF_L6vPfGn",
        "outputId": "36edcea3-22ac-413c-d4fd-6059649ed1ad"
      },
      "execution_count": null,
      "outputs": [
        {
          "output_type": "display_data",
          "data": {
            "text/plain": [
              "<Figure size 640x480 with 1 Axes>"
            ],
            "image/png": "[encoded data removed]"
          },
          "metadata": {}
        }
      ]
    },
    {
      "cell_type": "code",
      "execution_count": null,
      "metadata": {
        "id": "G0T1ClttSW-N"
      },
      "outputs": [],
      "source": []
    },
    {
      "cell_type": "code",
      "execution_count": null,
      "metadata": {
        "id": "X_RqJlgmSW-N"
      },
      "outputs": [],
      "source": [
        "def report_parameters(model: nn.Module):\n",
        "    print(\n",
        "        \"Суммарное количество параметров:\",\n",
        "        sum(p.nelement() for p in model.parameters()),\n",
        "    )\n",
        "    print(\n",
        "        \"Суммарный размер (Мб) параметров:\",\n",
        "        sum(\n",
        "            parameter.nelement() * parameter.element_size()\n",
        "            for parameter in model.parameters()\n",
        "        )\n",
        "        / 1024**2,\n",
        "    )"
      ]
    },
    {
      "cell_type": "code",
      "execution_count": null,
      "metadata": {
        "id": "HlT2m8JwSW-N"
      },
      "outputs": [],
      "source": [
        "report_parameters(model)"
      ]
    },
    {
      "cell_type": "markdown",
      "metadata": {
        "id": "D5OgmL-JSW-N"
      },
      "source": [
        "### Задание №3\n",
        "\n",
        "Теперь постройте и обучите CNN сеть.\n",
        "Опять же, не используйте глубокую сеть: мы хотим иметь схожее количество параметров для сравнения.\n",
        "\n",
        "Достаточно будет трех блоков \"Conv + ReLU + MaxPool\"."
      ]
    },
    {
      "cell_type": "code",
      "execution_count": 6,
      "metadata": {
        "colab": {
          "base_uri": "https://localhost:8080/",
          "height": 768
        },
        "id": "RqsDY5T1SW-N",
        "outputId": "8134a22b-5656-4f5e-f28e-2c771b751155"
      },
      "outputs": [
        {
          "output_type": "display_data",
          "data": {
            "text/plain": [
              "<Figure size 640x480 with 1 Axes>"
            ],
            "image/png": "[encoded data removed]"
          },
          "metadata": {}
        },
        {
          "output_type": "error",
          "ename": "KeyboardInterrupt",
          "evalue": "",
          "traceback": [
            "\u001b[0;31m---------------------------------------------------------------------------\u001b[0m",
            "\u001b[0;31mKeyboardInterrupt\u001b[0m                         Traceback (most recent call last)",
            "\u001b[0;32m<ipython-input-6-188599718ef8>\u001b[0m in \u001b[0;36m<cell line: 0>\u001b[0;34m()\u001b[0m\n\u001b[1;32m    223\u001b[0m \u001b[0mmodel\u001b[0m \u001b[0;34m=\u001b[0m \u001b[0mSimpleFCNModel\u001b[0m\u001b[0;34m(\u001b[0m\u001b[0;34m)\u001b[0m\u001b[0;34m\u001b[0m\u001b[0;34m\u001b[0m\u001b[0m\n\u001b[1;32m    224\u001b[0m \u001b[0moptimizer\u001b[0m \u001b[0;34m=\u001b[0m \u001b[0mtorch\u001b[0m\u001b[0;34m.\u001b[0m\u001b[0moptim\u001b[0m\u001b[0;34m.\u001b[0m\u001b[0mAdam\u001b[0m\u001b[0;34m(\u001b[0m\u001b[0mmodel\u001b[0m\u001b[0;34m.\u001b[0m\u001b[0mparameters\u001b[0m\u001b[0;34m(\u001b[0m\u001b[0;34m)\u001b[0m\u001b[0;34m,\u001b[0m \u001b[0mlr\u001b[0m\u001b[0;34m=\u001b[0m\u001b[0mparams\u001b[0m\u001b[0;34m.\u001b[0m\u001b[0mlr\u001b[0m\u001b[0;34m)\u001b[0m\u001b[0;34m\u001b[0m\u001b[0;34m\u001b[0m\u001b[0m\n\u001b[0;32m--> 225\u001b[0;31m \u001b[0mtrain_loop\u001b[0m\u001b[0;34m(\u001b[0m\u001b[0mmodel\u001b[0m\u001b[0;34m,\u001b[0m \u001b[0mtrain_loader\u001b[0m\u001b[0;34m,\u001b[0m \u001b[0mtest_loader\u001b[0m\u001b[0;34m,\u001b[0m \u001b[0moptimizer\u001b[0m\u001b[0;34m,\u001b[0m \u001b[0mparams\u001b[0m\u001b[0;34m)\u001b[0m\u001b[0;34m\u001b[0m\u001b[0;34m\u001b[0m\u001b[0m\n\u001b[0m\u001b[1;32m    226\u001b[0m \u001b[0;31m# Около 0.55 должно выйти\u001b[0m\u001b[0;34m\u001b[0m\u001b[0;34m\u001b[0m\u001b[0m\n",
            "\u001b[0;32m<ipython-input-6-188599718ef8>\u001b[0m in \u001b[0;36mtrain_loop\u001b[0;34m(model, train_loader, val_loader, optimizer, config, device)\u001b[0m\n\u001b[1;32m    122\u001b[0m         \u001b[0;31m# В данном случае X_batch это 256 картинок как мы указали в train_loader\u001b[0m\u001b[0;34m\u001b[0m\u001b[0;34m\u001b[0m\u001b[0m\n\u001b[1;32m    123\u001b[0m         \u001b[0;31m#  этот цикл проходит ВСЕ 50 000 картинок — батч за батчом\u001b[0m\u001b[0;34m\u001b[0m\u001b[0;34m\u001b[0m\u001b[0m\n\u001b[0;32m--> 124\u001b[0;31m         \u001b[0;32mfor\u001b[0m \u001b[0mX_batch\u001b[0m\u001b[0;34m,\u001b[0m \u001b[0my_batch\u001b[0m \u001b[0;32min\u001b[0m \u001b[0mtrain_loader\u001b[0m\u001b[0;34m:\u001b[0m\u001b[0;34m\u001b[0m\u001b[0;34m\u001b[0m\u001b[0m\n\u001b[0m\u001b[1;32m    125\u001b[0m             \u001b[0;31m# Переносим батч из 256 картинок и меток на то же устройство, где находится модель (обычно GPU)\u001b[0m\u001b[0;34m\u001b[0m\u001b[0;34m\u001b[0m\u001b[0m\n\u001b[1;32m    126\u001b[0m             \u001b[0mX_batch\u001b[0m\u001b[0;34m,\u001b[0m \u001b[0my_batch\u001b[0m \u001b[0;34m=\u001b[0m \u001b[0mX_batch\u001b[0m\u001b[0;34m.\u001b[0m\u001b[0mto\u001b[0m\u001b[0;34m(\u001b[0m\u001b[0mdevice\u001b[0m\u001b[0;34m)\u001b[0m\u001b[0;34m,\u001b[0m \u001b[0my_batch\u001b[0m\u001b[0;34m.\u001b[0m\u001b[0mto\u001b[0m\u001b[0;34m(\u001b[0m\u001b[0mdevice\u001b[0m\u001b[0;34m)\u001b[0m\u001b[0;34m\u001b[0m\u001b[0;34m\u001b[0m\u001b[0m\n",
            "\u001b[0;32m/usr/local/lib/python3.11/dist-packages/torch/utils/data/dataloader.py\u001b[0m in \u001b[0;36m__next__\u001b[0;34m(self)\u001b[0m\n\u001b[1;32m    706\u001b[0m                 \u001b[0;31m# TODO(https://github.com/pytorch/pytorch/issues/76750)\u001b[0m\u001b[0;34m\u001b[0m\u001b[0;34m\u001b[0m\u001b[0m\n\u001b[1;32m    707\u001b[0m                 \u001b[0mself\u001b[0m\u001b[0;34m.\u001b[0m\u001b[0m_reset\u001b[0m\u001b[0;34m(\u001b[0m\u001b[0;34m)\u001b[0m  \u001b[0;31m# type: ignore[call-arg]\u001b[0m\u001b[0;34m\u001b[0m\u001b[0;34m\u001b[0m\u001b[0m\n\u001b[0;32m--> 708\u001b[0;31m             \u001b[0mdata\u001b[0m \u001b[0;34m=\u001b[0m \u001b[0mself\u001b[0m\u001b[0;34m.\u001b[0m\u001b[0m_next_data\u001b[0m\u001b[0;34m(\u001b[0m\u001b[0;34m)\u001b[0m\u001b[0;34m\u001b[0m\u001b[0;34m\u001b[0m\u001b[0m\n\u001b[0m\u001b[1;32m    709\u001b[0m             \u001b[0mself\u001b[0m\u001b[0;34m.\u001b[0m\u001b[0m_num_yielded\u001b[0m \u001b[0;34m+=\u001b[0m \u001b[0;36m1\u001b[0m\u001b[0;34m\u001b[0m\u001b[0;34m\u001b[0m\u001b[0m\n\u001b[1;32m    710\u001b[0m             if (\n",
            "\u001b[0;32m/usr/local/lib/python3.11/dist-packages/torch/utils/data/dataloader.py\u001b[0m in \u001b[0;36m_next_data\u001b[0;34m(self)\u001b[0m\n\u001b[1;32m    762\u001b[0m     \u001b[0;32mdef\u001b[0m \u001b[0m_next_data\u001b[0m\u001b[0;34m(\u001b[0m\u001b[0mself\u001b[0m\u001b[0;34m)\u001b[0m\u001b[0;34m:\u001b[0m\u001b[0;34m\u001b[0m\u001b[0;34m\u001b[0m\u001b[0m\n\u001b[1;32m    763\u001b[0m         \u001b[0mindex\u001b[0m \u001b[0;34m=\u001b[0m \u001b[0mself\u001b[0m\u001b[0;34m.\u001b[0m\u001b[0m_next_index\u001b[0m\u001b[0;34m(\u001b[0m\u001b[0;34m)\u001b[0m  \u001b[0;31m# may raise StopIteration\u001b[0m\u001b[0;34m\u001b[0m\u001b[0;34m\u001b[0m\u001b[0m\n\u001b[0;32m--> 764\u001b[0;31m         \u001b[0mdata\u001b[0m \u001b[0;34m=\u001b[0m \u001b[0mself\u001b[0m\u001b[0;34m.\u001b[0m\u001b[0m_dataset_fetcher\u001b[0m\u001b[0;34m.\u001b[0m\u001b[0mfetch\u001b[0m\u001b[0;34m(\u001b[0m\u001b[0mindex\u001b[0m\u001b[0;34m)\u001b[0m  \u001b[0;31m# may raise StopIteration\u001b[0m\u001b[0;34m\u001b[0m\u001b[0;34m\u001b[0m\u001b[0m\n\u001b[0m\u001b[1;32m    765\u001b[0m         \u001b[0;32mif\u001b[0m \u001b[0mself\u001b[0m\u001b[0;34m.\u001b[0m\u001b[0m_pin_memory\u001b[0m\u001b[0;34m:\u001b[0m\u001b[0;34m\u001b[0m\u001b[0;34m\u001b[0m\u001b[0m\n\u001b[1;32m    766\u001b[0m             \u001b[0mdata\u001b[0m \u001b[0;34m=\u001b[0m \u001b[0m_utils\u001b[0m\u001b[0;34m.\u001b[0m\u001b[0mpin_memory\u001b[0m\u001b[0;34m.\u001b[0m\u001b[0mpin_memory\u001b[0m\u001b[0;34m(\u001b[0m\u001b[0mdata\u001b[0m\u001b[0;34m,\u001b[0m \u001b[0mself\u001b[0m\u001b[0;34m.\u001b[0m\u001b[0m_pin_memory_device\u001b[0m\u001b[0;34m)\u001b[0m\u001b[0;34m\u001b[0m\u001b[0;34m\u001b[0m\u001b[0m\n",
            "\u001b[0;32m/usr/local/lib/python3.11/dist-packages/torch/utils/data/_utils/fetch.py\u001b[0m in \u001b[0;36mfetch\u001b[0;34m(self, possibly_batched_index)\u001b[0m\n\u001b[1;32m     48\u001b[0m         \u001b[0;32mif\u001b[0m \u001b[0mself\u001b[0m\u001b[0;34m.\u001b[0m\u001b[0mauto_collation\u001b[0m\u001b[0;34m:\u001b[0m\u001b[0;34m\u001b[0m\u001b[0;34m\u001b[0m\u001b[0m\n\u001b[1;32m     49\u001b[0m             \u001b[0;32mif\u001b[0m \u001b[0mhasattr\u001b[0m\u001b[0;34m(\u001b[0m\u001b[0mself\u001b[0m\u001b[0;34m.\u001b[0m\u001b[0mdataset\u001b[0m\u001b[0;34m,\u001b[0m \u001b[0;34m\"__getitems__\"\u001b[0m\u001b[0;34m)\u001b[0m \u001b[0;32mand\u001b[0m \u001b[0mself\u001b[0m\u001b[0;34m.\u001b[0m\u001b[0mdataset\u001b[0m\u001b[0;34m.\u001b[0m\u001b[0m__getitems__\u001b[0m\u001b[0;34m:\u001b[0m\u001b[0;34m\u001b[0m\u001b[0;34m\u001b[0m\u001b[0m\n\u001b[0;32m---> 50\u001b[0;31m                 \u001b[0mdata\u001b[0m \u001b[0;34m=\u001b[0m \u001b[0mself\u001b[0m\u001b[0;34m.\u001b[0m\u001b[0mdataset\u001b[0m\u001b[0;34m.\u001b[0m\u001b[0m__getitems__\u001b[0m\u001b[0;34m(\u001b[0m\u001b[0mpossibly_batched_index\u001b[0m\u001b[0;34m)\u001b[0m\u001b[0;34m\u001b[0m\u001b[0;34m\u001b[0m\u001b[0m\n\u001b[0m\u001b[1;32m     51\u001b[0m             \u001b[0;32melse\u001b[0m\u001b[0;34m:\u001b[0m\u001b[0;34m\u001b[0m\u001b[0;34m\u001b[0m\u001b[0m\n\u001b[1;32m     52\u001b[0m                 \u001b[0mdata\u001b[0m \u001b[0;34m=\u001b[0m \u001b[0;34m[\u001b[0m\u001b[0mself\u001b[0m\u001b[0;34m.\u001b[0m\u001b[0mdataset\u001b[0m\u001b[0;34m[\u001b[0m\u001b[0midx\u001b[0m\u001b[0;34m]\u001b[0m \u001b[0;32mfor\u001b[0m \u001b[0midx\u001b[0m \u001b[0;32min\u001b[0m \u001b[0mpossibly_batched_index\u001b[0m\u001b[0;34m]\u001b[0m\u001b[0;34m\u001b[0m\u001b[0;34m\u001b[0m\u001b[0m\n",
            "\u001b[0;32m/usr/local/lib/python3.11/dist-packages/torch/utils/data/dataset.py\u001b[0m in \u001b[0;36m__getitems__\u001b[0;34m(self, indices)\u001b[0m\n\u001b[1;32m    418\u001b[0m             \u001b[0;32mreturn\u001b[0m \u001b[0mself\u001b[0m\u001b[0;34m.\u001b[0m\u001b[0mdataset\u001b[0m\u001b[0;34m.\u001b[0m\u001b[0m__getitems__\u001b[0m\u001b[0;34m(\u001b[0m\u001b[0;34m[\u001b[0m\u001b[0mself\u001b[0m\u001b[0;34m.\u001b[0m\u001b[0mindices\u001b[0m\u001b[0;34m[\u001b[0m\u001b[0midx\u001b[0m\u001b[0;34m]\u001b[0m \u001b[0;32mfor\u001b[0m \u001b[0midx\u001b[0m \u001b[0;32min\u001b[0m \u001b[0mindices\u001b[0m\u001b[0;34m]\u001b[0m\u001b[0;34m)\u001b[0m  \u001b[0;31m# type: ignore[attr-defined]\u001b[0m\u001b[0;34m\u001b[0m\u001b[0;34m\u001b[0m\u001b[0m\n\u001b[1;32m    419\u001b[0m         \u001b[0;32melse\u001b[0m\u001b[0;34m:\u001b[0m\u001b[0;34m\u001b[0m\u001b[0;34m\u001b[0m\u001b[0m\n\u001b[0;32m--> 420\u001b[0;31m             \u001b[0;32mreturn\u001b[0m \u001b[0;34m[\u001b[0m\u001b[0mself\u001b[0m\u001b[0;34m.\u001b[0m\u001b[0mdataset\u001b[0m\u001b[0;34m[\u001b[0m\u001b[0mself\u001b[0m\u001b[0;34m.\u001b[0m\u001b[0mindices\u001b[0m\u001b[0;34m[\u001b[0m\u001b[0midx\u001b[0m\u001b[0;34m]\u001b[0m\u001b[0;34m]\u001b[0m \u001b[0;32mfor\u001b[0m \u001b[0midx\u001b[0m \u001b[0;32min\u001b[0m \u001b[0mindices\u001b[0m\u001b[0;34m]\u001b[0m\u001b[0;34m\u001b[0m\u001b[0;34m\u001b[0m\u001b[0m\n\u001b[0m\u001b[1;32m    421\u001b[0m \u001b[0;34m\u001b[0m\u001b[0m\n\u001b[1;32m    422\u001b[0m     \u001b[0;32mdef\u001b[0m \u001b[0m__len__\u001b[0m\u001b[0;34m(\u001b[0m\u001b[0mself\u001b[0m\u001b[0;34m)\u001b[0m\u001b[0;34m:\u001b[0m\u001b[0;34m\u001b[0m\u001b[0;34m\u001b[0m\u001b[0m\n",
            "\u001b[0;32m/usr/local/lib/python3.11/dist-packages/torch/utils/data/dataset.py\u001b[0m in \u001b[0;36m<listcomp>\u001b[0;34m(.0)\u001b[0m\n\u001b[1;32m    418\u001b[0m             \u001b[0;32mreturn\u001b[0m \u001b[0mself\u001b[0m\u001b[0;34m.\u001b[0m\u001b[0mdataset\u001b[0m\u001b[0;34m.\u001b[0m\u001b[0m__getitems__\u001b[0m\u001b[0;34m(\u001b[0m\u001b[0;34m[\u001b[0m\u001b[0mself\u001b[0m\u001b[0;34m.\u001b[0m\u001b[0mindices\u001b[0m\u001b[0;34m[\u001b[0m\u001b[0midx\u001b[0m\u001b[0;34m]\u001b[0m \u001b[0;32mfor\u001b[0m \u001b[0midx\u001b[0m \u001b[0;32min\u001b[0m \u001b[0mindices\u001b[0m\u001b[0;34m]\u001b[0m\u001b[0;34m)\u001b[0m  \u001b[0;31m# type: ignore[attr-defined]\u001b[0m\u001b[0;34m\u001b[0m\u001b[0;34m\u001b[0m\u001b[0m\n\u001b[1;32m    419\u001b[0m         \u001b[0;32melse\u001b[0m\u001b[0;34m:\u001b[0m\u001b[0;34m\u001b[0m\u001b[0;34m\u001b[0m\u001b[0m\n\u001b[0;32m--> 420\u001b[0;31m             \u001b[0;32mreturn\u001b[0m \u001b[0;34m[\u001b[0m\u001b[0mself\u001b[0m\u001b[0;34m.\u001b[0m\u001b[0mdataset\u001b[0m\u001b[0;34m[\u001b[0m\u001b[0mself\u001b[0m\u001b[0;34m.\u001b[0m\u001b[0mindices\u001b[0m\u001b[0;34m[\u001b[0m\u001b[0midx\u001b[0m\u001b[0;34m]\u001b[0m\u001b[0;34m]\u001b[0m \u001b[0;32mfor\u001b[0m \u001b[0midx\u001b[0m \u001b[0;32min\u001b[0m \u001b[0mindices\u001b[0m\u001b[0;34m]\u001b[0m\u001b[0;34m\u001b[0m\u001b[0;34m\u001b[0m\u001b[0m\n\u001b[0m\u001b[1;32m    421\u001b[0m \u001b[0;34m\u001b[0m\u001b[0m\n\u001b[1;32m    422\u001b[0m     \u001b[0;32mdef\u001b[0m \u001b[0m__len__\u001b[0m\u001b[0;34m(\u001b[0m\u001b[0mself\u001b[0m\u001b[0;34m)\u001b[0m\u001b[0;34m:\u001b[0m\u001b[0;34m\u001b[0m\u001b[0;34m\u001b[0m\u001b[0m\n",
            "\u001b[0;32m/usr/local/lib/python3.11/dist-packages/torchvision/datasets/cifar.py\u001b[0m in \u001b[0;36m__getitem__\u001b[0;34m(self, index)\u001b[0m\n\u001b[1;32m    114\u001b[0m         \u001b[0;31m# doing this so that it is consistent with all other datasets\u001b[0m\u001b[0;34m\u001b[0m\u001b[0;34m\u001b[0m\u001b[0m\n\u001b[1;32m    115\u001b[0m         \u001b[0;31m# to return a PIL Image\u001b[0m\u001b[0;34m\u001b[0m\u001b[0;34m\u001b[0m\u001b[0m\n\u001b[0;32m--> 116\u001b[0;31m         \u001b[0mimg\u001b[0m \u001b[0;34m=\u001b[0m \u001b[0mImage\u001b[0m\u001b[0;34m.\u001b[0m\u001b[0mfromarray\u001b[0m\u001b[0;34m(\u001b[0m\u001b[0mimg\u001b[0m\u001b[0;34m)\u001b[0m\u001b[0;34m\u001b[0m\u001b[0;34m\u001b[0m\u001b[0m\n\u001b[0m\u001b[1;32m    117\u001b[0m \u001b[0;34m\u001b[0m\u001b[0m\n\u001b[1;32m    118\u001b[0m         \u001b[0;32mif\u001b[0m \u001b[0mself\u001b[0m\u001b[0;34m.\u001b[0m\u001b[0mtransform\u001b[0m \u001b[0;32mis\u001b[0m \u001b[0;32mnot\u001b[0m \u001b[0;32mNone\u001b[0m\u001b[0;34m:\u001b[0m\u001b[0;34m\u001b[0m\u001b[0;34m\u001b[0m\u001b[0m\n",
            "\u001b[0;32m/usr/local/lib/python3.11/dist-packages/PIL/Image.py\u001b[0m in \u001b[0;36mfromarray\u001b[0;34m(obj, mode)\u001b[0m\n\u001b[1;32m   3336\u001b[0m             \u001b[0;32mraise\u001b[0m \u001b[0mValueError\u001b[0m\u001b[0;34m(\u001b[0m\u001b[0mmsg\u001b[0m\u001b[0;34m)\u001b[0m\u001b[0;34m\u001b[0m\u001b[0;34m\u001b[0m\u001b[0m\n\u001b[1;32m   3337\u001b[0m \u001b[0;34m\u001b[0m\u001b[0m\n\u001b[0;32m-> 3338\u001b[0;31m     \u001b[0;32mreturn\u001b[0m \u001b[0mfrombuffer\u001b[0m\u001b[0;34m(\u001b[0m\u001b[0mmode\u001b[0m\u001b[0;34m,\u001b[0m \u001b[0msize\u001b[0m\u001b[0;34m,\u001b[0m \u001b[0mobj\u001b[0m\u001b[0;34m,\u001b[0m \u001b[0;34m\"raw\"\u001b[0m\u001b[0;34m,\u001b[0m \u001b[0mrawmode\u001b[0m\u001b[0;34m,\u001b[0m \u001b[0;36m0\u001b[0m\u001b[0;34m,\u001b[0m \u001b[0;36m1\u001b[0m\u001b[0;34m)\u001b[0m\u001b[0;34m\u001b[0m\u001b[0;34m\u001b[0m\u001b[0m\n\u001b[0m\u001b[1;32m   3339\u001b[0m \u001b[0;34m\u001b[0m\u001b[0m\n\u001b[1;32m   3340\u001b[0m \u001b[0;34m\u001b[0m\u001b[0m\n",
            "\u001b[0;32m/usr/local/lib/python3.11/dist-packages/PIL/Image.py\u001b[0m in \u001b[0;36mfrombuffer\u001b[0;34m(mode, size, data, decoder_name, *args)\u001b[0m\n\u001b[1;32m   3238\u001b[0m             \u001b[0;32mreturn\u001b[0m \u001b[0mim\u001b[0m\u001b[0;34m\u001b[0m\u001b[0;34m\u001b[0m\u001b[0m\n\u001b[1;32m   3239\u001b[0m \u001b[0;34m\u001b[0m\u001b[0m\n\u001b[0;32m-> 3240\u001b[0;31m     \u001b[0;32mreturn\u001b[0m \u001b[0mfrombytes\u001b[0m\u001b[0;34m(\u001b[0m\u001b[0mmode\u001b[0m\u001b[0;34m,\u001b[0m \u001b[0msize\u001b[0m\u001b[0;34m,\u001b[0m \u001b[0mdata\u001b[0m\u001b[0;34m,\u001b[0m \u001b[0mdecoder_name\u001b[0m\u001b[0;34m,\u001b[0m \u001b[0margs\u001b[0m\u001b[0;34m)\u001b[0m\u001b[0;34m\u001b[0m\u001b[0;34m\u001b[0m\u001b[0m\n\u001b[0m\u001b[1;32m   3241\u001b[0m \u001b[0;34m\u001b[0m\u001b[0m\n\u001b[1;32m   3242\u001b[0m \u001b[0;34m\u001b[0m\u001b[0m\n",
            "\u001b[0;32m/usr/local/lib/python3.11/dist-packages/PIL/Image.py\u001b[0m in \u001b[0;36mfrombytes\u001b[0;34m(mode, size, data, decoder_name, *args)\u001b[0m\n\u001b[1;32m   3175\u001b[0m             \u001b[0mdecoder_args\u001b[0m \u001b[0;34m=\u001b[0m \u001b[0mmode\u001b[0m\u001b[0;34m\u001b[0m\u001b[0;34m\u001b[0m\u001b[0m\n\u001b[1;32m   3176\u001b[0m \u001b[0;34m\u001b[0m\u001b[0m\n\u001b[0;32m-> 3177\u001b[0;31m         \u001b[0mim\u001b[0m\u001b[0;34m.\u001b[0m\u001b[0mfrombytes\u001b[0m\u001b[0;34m(\u001b[0m\u001b[0mdata\u001b[0m\u001b[0;34m,\u001b[0m \u001b[0mdecoder_name\u001b[0m\u001b[0;34m,\u001b[0m \u001b[0mdecoder_args\u001b[0m\u001b[0;34m)\u001b[0m\u001b[0;34m\u001b[0m\u001b[0;34m\u001b[0m\u001b[0m\n\u001b[0m\u001b[1;32m   3178\u001b[0m     \u001b[0;32mreturn\u001b[0m \u001b[0mim\u001b[0m\u001b[0;34m\u001b[0m\u001b[0;34m\u001b[0m\u001b[0m\n\u001b[1;32m   3179\u001b[0m \u001b[0;34m\u001b[0m\u001b[0m\n",
            "\u001b[0;32m/usr/local/lib/python3.11/dist-packages/PIL/Image.py\u001b[0m in \u001b[0;36mfrombytes\u001b[0;34m(self, data, decoder_name, *args)\u001b[0m\n\u001b[1;32m    869\u001b[0m \u001b[0;34m\u001b[0m\u001b[0m\n\u001b[1;32m    870\u001b[0m         \u001b[0;31m# unpack data\u001b[0m\u001b[0;34m\u001b[0m\u001b[0;34m\u001b[0m\u001b[0m\n\u001b[0;32m--> 871\u001b[0;31m         \u001b[0md\u001b[0m \u001b[0;34m=\u001b[0m \u001b[0m_getdecoder\u001b[0m\u001b[0;34m(\u001b[0m\u001b[0mself\u001b[0m\u001b[0;34m.\u001b[0m\u001b[0mmode\u001b[0m\u001b[0;34m,\u001b[0m \u001b[0mdecoder_name\u001b[0m\u001b[0;34m,\u001b[0m \u001b[0mdecoder_args\u001b[0m\u001b[0;34m)\u001b[0m\u001b[0;34m\u001b[0m\u001b[0;34m\u001b[0m\u001b[0m\n\u001b[0m\u001b[1;32m    872\u001b[0m         \u001b[0md\u001b[0m\u001b[0;34m.\u001b[0m\u001b[0msetimage\u001b[0m\u001b[0;34m(\u001b[0m\u001b[0mself\u001b[0m\u001b[0;34m.\u001b[0m\u001b[0mim\u001b[0m\u001b[0;34m)\u001b[0m\u001b[0;34m\u001b[0m\u001b[0;34m\u001b[0m\u001b[0m\n\u001b[1;32m    873\u001b[0m         \u001b[0ms\u001b[0m \u001b[0;34m=\u001b[0m \u001b[0md\u001b[0m\u001b[0;34m.\u001b[0m\u001b[0mdecode\u001b[0m\u001b[0;34m(\u001b[0m\u001b[0mdata\u001b[0m\u001b[0;34m)\u001b[0m\u001b[0;34m\u001b[0m\u001b[0;34m\u001b[0m\u001b[0m\n",
            "\u001b[0;32m/usr/local/lib/python3.11/dist-packages/PIL/Image.py\u001b[0m in \u001b[0;36m_getdecoder\u001b[0;34m(mode, decoder_name, args, extra)\u001b[0m\n\u001b[1;32m    440\u001b[0m         \u001b[0mmsg\u001b[0m \u001b[0;34m=\u001b[0m \u001b[0;34mf\"decoder {decoder_name} not available\"\u001b[0m\u001b[0;34m\u001b[0m\u001b[0;34m\u001b[0m\u001b[0m\n\u001b[1;32m    441\u001b[0m         \u001b[0;32mraise\u001b[0m \u001b[0mOSError\u001b[0m\u001b[0;34m(\u001b[0m\u001b[0mmsg\u001b[0m\u001b[0;34m)\u001b[0m \u001b[0;32mfrom\u001b[0m \u001b[0me\u001b[0m\u001b[0;34m\u001b[0m\u001b[0;34m\u001b[0m\u001b[0m\n\u001b[0;32m--> 442\u001b[0;31m     \u001b[0;32mreturn\u001b[0m \u001b[0mdecoder\u001b[0m\u001b[0;34m(\u001b[0m\u001b[0mmode\u001b[0m\u001b[0;34m,\u001b[0m \u001b[0;34m*\u001b[0m\u001b[0margs\u001b[0m \u001b[0;34m+\u001b[0m \u001b[0mextra\u001b[0m\u001b[0;34m)\u001b[0m\u001b[0;34m\u001b[0m\u001b[0;34m\u001b[0m\u001b[0m\n\u001b[0m\u001b[1;32m    443\u001b[0m \u001b[0;34m\u001b[0m\u001b[0m\n\u001b[1;32m    444\u001b[0m \u001b[0;34m\u001b[0m\u001b[0m\n",
            "\u001b[0;31mKeyboardInterrupt\u001b[0m: "
          ]
        }
      ],
      "source": [
        "from dataclasses import dataclass\n",
        "\n",
        "import torch\n",
        "import torch.nn as nn\n",
        "import torch.nn.functional as F\n",
        "from torch.utils.data import DataLoader\n",
        "from torchvision.datasets import CIFAR10\n",
        "from torchvision.transforms import ToTensor\n",
        "\n",
        "\n",
        "import albumentations as A\n",
        "\n",
        "\n",
        "transform = A.Compose([\n",
        "    A.HorizontalFlip(p=0.5),\n",
        "    A.Rotate(limit=30, p=0.5),\n",
        "    A.Normalize(...),\n",
        "    ToTensorV2()\n",
        "])\n",
        "\n",
        "\n",
        "\n",
        "train_dataset = CIFAR10(root=\"./data\", train=True, download=True, transform=ToTensor())\n",
        "test_dataset = CIFAR10(root=\"./data\", train=False, download=True, transform=ToTensor())\n",
        "\n",
        "\n",
        "\n",
        "\n",
        "from torch.utils.data import random_split\n",
        "\n",
        "# Разбивка Трейна на трейн с валидационный\n",
        "train_size = int(0.9 * len(train_dataset)) #int- целое число. Надо чтобы было целое чтобы потом сплит работал\n",
        "val_size = len(train_dataset) - train_size\n",
        "train_dataset, val_dataset = random_split(train_dataset, [train_size, val_size], generator=torch.Generator().manual_seed(42))\n",
        "\n",
        "\n",
        "\n",
        "\n",
        "from torch.utils.data import DataLoader\n",
        "\n",
        "\n",
        "generator = torch.Generator().manual_seed(42)\n",
        "\n",
        "train_loader = DataLoader(\n",
        "    train_dataset,\n",
        "    batch_size=256,\n",
        "    # перемешать данные или нет\n",
        "    shuffle=True,\n",
        "    # если перемешать - озаботьтесь воспроизводимостью\n",
        "    generator=generator,\n",
        "    # В последнем батче может не набраться 32 элемента.\n",
        "    # Этот флаг говорит, убрать такой батч или оставить.\n",
        "    drop_last=True,\n",
        ")\n",
        "\n",
        "\n",
        "test_loader = DataLoader(\n",
        "    test_dataset,\n",
        "    batch_size=256,\n",
        "    # перемешать данные или нет\n",
        "    shuffle=False,\n",
        "    # если перемешать - озаботьтесь воспроизводимостью\n",
        "    generator=generator,\n",
        "    # В последнем батче может не набраться 32 элемента.\n",
        "    # Этот флаг говорит, убрать такой батч или оставить.\n",
        "    drop_last=False,\n",
        ")\n",
        "\n",
        "\n",
        "val_loader = DataLoader(\n",
        "    val_dataset,\n",
        "    batch_size=256,\n",
        "    # перемешать данные или нет\n",
        "    shuffle=False,\n",
        "    # если перемешать - озаботьтесь воспроизводимостью\n",
        "    generator=generator,\n",
        "    # В последнем батче может не набраться 32 элемента.\n",
        "    # Этот флаг говорит, убрать такой батч или оставить.\n",
        "    drop_last=False,\n",
        ")\n",
        "\n",
        "\n",
        "\n",
        "\n",
        "\n",
        "\n",
        "\n",
        "\n",
        "\n",
        "import matplotlib.pyplot as plt\n",
        "# from IPython.display import clear_output\n",
        "\n",
        "\n",
        "@dataclass\n",
        "class TrainConfig:\n",
        "    lr: float\n",
        "    num_epochs: int\n",
        "\n",
        "\n",
        "# def plot_accuracy(epoch: int, values: list[float]):\n",
        "    # эта хрень намекает что надо взять значение accuracy добавить его в список validation_accuracy и передать его в плот\n",
        "    # а ай в этом случае это в циклах по эпохам. То есть график надо вызывать в конце цикла эпох\n",
        "    \"\"\"Пример:\n",
        "    >>> acc.append(validation_accuracy)\n",
        "    >>> plot(i + 1, validation_accuracy)\n",
        "    \"\"\"\n",
        "    clear_output(True)\n",
        "    # заголовок графика эпохи\n",
        "    plt.title(\"Epoch %s. Accuracy: %s\" % (epoch, values[-1]))\n",
        "    # когда мы валуес передаем, там значения акураси они будут строиться по y слева направо\n",
        "    plt.plot(values)\n",
        "    plt.grid()\n",
        "    plt.show()\n",
        "\n",
        "\n",
        "# ТРЕНИРОВОЧНАЯ ПЕТЛЯ\n",
        "def train_loop(\n",
        "    model: nn.Module,\n",
        "    train_loader: DataLoader,\n",
        "    val_loader: DataLoader,\n",
        "    optimizer: torch.optim.Optimizer,\n",
        "    config: TrainConfig,\n",
        "    device: torch.device = torch.device(\"cuda\" if torch.cuda.is_available() else \"cpu\"),\n",
        "):\n",
        "    # Перенос модели на GPU, если доступен\n",
        "    model = model.to(device)\n",
        "    # создаем список чтобы потом строить график\n",
        "    val_acc = []\n",
        "\n",
        "    # ЦИКЛ (запуск первой эпохи) в этой эпохе 1 трейнлоадер, в который выдает по 1 бытчу с 256 картинками (далее цикл)\n",
        "    for i in range(config.num_epochs):\n",
        "        model.train()  # Переключение в режим обучения\n",
        "\n",
        "        # Внутри каждой эпохи один трейнлоадер в котором есть 256 картинок (значит батчей примерно 195 так как 50000/256)\n",
        "        # В данном случае X_batch это 256 картинок как мы указали в train_loader\n",
        "        #  этот цикл проходит ВСЕ 50 000 картинок — батч за батчом\n",
        "        for X_batch, y_batch in train_loader:\n",
        "            # Переносим батч из 256 картинок и меток на то же устройство, где находится модель (обычно GPU)\n",
        "            X_batch, y_batch = X_batch.to(device), y_batch.to(device)\n",
        "\n",
        "            # Обнуление градиентов\n",
        "            # так как мы считаем градиенты только для текущего батча в котором 256 картинов (так как это цикл)\n",
        "            # и мы обновляем веса после КАЖДОГО батча из 256 картинов\n",
        "            # Обнуляем старые градиенты перед тем, как начать вычисление новых.\n",
        "            # Иначе градиенты накапливались бы от предыдущих батчей — это сломает обучение.\n",
        "            optimizer.zero_grad()\n",
        "\n",
        "            # Прогоняем текущий батч из 256 изображений через модель.\n",
        "            # outputs — это тензор формы [256, 10]: предсказания для каждого изображения по 10 классам.\n",
        "            outputs = model(X_batch)\n",
        "\n",
        "            # Расчёт потерь по батчу из 256 картинок (в сравнении с правильными ответами y_batch)\n",
        "            # loss — одно число (скаляр).\n",
        "            loss = F.cross_entropy(outputs, y_batch)\n",
        "\n",
        "            # Вычисляем градиенты ошибки по всем параметрам модели.\n",
        "            # Только для этого батча из 256 картинок.\n",
        "            loss.backward()  # Обратное распространение ошибки\n",
        "\n",
        "            # Обновление параметров модели по рассчитанным градиентом\n",
        "            # В данном случае у нас адам\n",
        "            optimizer.step()\n",
        "\n",
        "# =================\n",
        "        # Валидация НА ДАННОМ ЭТАПЕ МЫ ПОЛНОСТЬЮ ПРОГНАЛИ ВСЕ КАРТИНКИ и обновили веса по ним (это была одна эпоха)\n",
        "        model.eval()  # Переключение в режим валидации\n",
        "        total_val_acc = 0 #нужно далее для расчетов\n",
        "        total_val_samples = 0 # также для формулы\n",
        "\n",
        "        with torch.no_grad(): # Всё, что находится внутри этого блока, будет выполняться без расчёта и хранения градиентов.\n",
        "            for X_batch, y_batch in val_loader: # валидационный лоадер\n",
        "                # Перенос батча на GPU\n",
        "                X_batch, y_batch = X_batch.to(device), y_batch.to(device)\n",
        "\n",
        "                # Получение предсказаний модели по X через валидационный батч из валидационного лоадера\n",
        "                # outputs — это тензор формы [256, 10]: предсказания для каждого изображения по 10 классам.\n",
        "                val_outputs = model(X_batch)\n",
        "\n",
        "                # Накопление статистики\n",
        "                total_val_acc += (val_outputs.argmax(1) == y_batch).sum().item()\n",
        "                # total_val_acc( который 0) + (берется индекс макс значения из val_outputs ЕСЛИ он равен y_batch тогда TRUE) -> СУММА TRUE в виде числа\n",
        "\n",
        "                # во второй счетчик накапливается количество строк (предсказаний) в батче вообще\n",
        "                total_val_samples += X_batch.size(0)\n",
        "\n",
        "\n",
        "        # Расчёт средней потери и точности на валидационном наборе\n",
        "        # У нас вверху был список val_acc (мы находимся все ещё внутри первой эпохи)\n",
        "        # добавляем в список 1 значение акураси на валидационной выборке\n",
        "        val_acc.append(total_val_acc / total_val_samples)\n",
        "\n",
        "        # Вызываем функцию plot_accuracy\n",
        "        # Передаём:\n",
        "        # - номер текущей эпохи (i + 1), потому что i начинается с 0\n",
        "        # - список значений accuracy на валидации (val_acc), накопленных за все эпохи\n",
        "        # plot_accuracy(i + 1, val_acc)\n",
        "###### ЭПОХА ЗАКОНЧЕНА -начало новой\n",
        "\n",
        "\n",
        "class SimpleFCNModel(nn.Module):\n",
        "    def __init__(self, num_classes=10):\n",
        "        super().__init__()\n",
        "        self.fc = nn.Sequential(\n",
        "            # на примем 256, 3, 32, 32\n",
        "             nn.Conv2d(\n",
        "                in_channels=3, kernel_size=3, out_channels=64\n",
        "            ),\n",
        "            # выход 256, 64, 30, 30 (он параллелит потоки и весь батч проходит сразу)\n",
        "            # зануление значений меньше 0\n",
        "            nn.ReLU(),\n",
        "            # из 4 клеток выбираем самое большое значение (ужимка в 2 раза)\n",
        "            nn.MaxPool2d(kernel_size=2),\n",
        "            # выход 256 * 64 * 15 * 15 (3 последний превращаются в один тензор 14400)\n",
        "\n",
        "            nn.Flatten(), # этот слой передает многомерный тензор(картинку там 64 канала) в длинный вектор\n",
        "            nn.Linear(64 * 15 * 15, 512),\n",
        "            nn.ReLU(),\n",
        "            nn.Linear(512, num_classes)\n",
        "            # nn.ReLU(),\n",
        "            # nn.Linear(256, 128),\n",
        "            # nn.ReLU(),\n",
        "            # nn.Linear(128, num_classes),\n",
        "        )\n",
        "\n",
        "    # def forward(self, x):\n",
        "    #     return self.fc(x)\n",
        "    def forward(self, x):\n",
        "        x = self.fc(x)\n",
        "        # print(\"shape после fc:\", x.shape)\n",
        "        return x\n",
        "\n",
        "\n",
        "\n",
        "torch.manual_seed(987)\n",
        "params = TrainConfig(lr=1e-3, num_epochs=50)\n",
        "model = SimpleFCNModel()\n",
        "optimizer = torch.optim.Adam(model.parameters(), lr=params.lr)\n",
        "train_loop(model, train_loader, test_loader, optimizer, params)\n",
        "# Около 0.55 должно выйти"
      ]
    },
    {
      "cell_type": "code",
      "execution_count": null,
      "metadata": {
        "id": "owrWdwv5SW-N"
      },
      "outputs": [],
      "source": [
        "report_parameters(model)"
      ]
    },
    {
      "cell_type": "markdown",
      "metadata": {
        "id": "f0busxg9SW-N"
      },
      "source": [
        "Обратите внимание на качество и на число параметров.\n",
        "Качество получается выше, а число параметров - на порядок меньше.\n",
        "\n",
        "Делаем вывод, что CNN позволяют выбивать лучшее качество, чем обычные сети, и при меньшем числе параметров.\n",
        "\n",
        "Но CNN - не единственный способ улучшить качество при работе с картинками."
      ]
    },
    {
      "cell_type": "markdown",
      "metadata": {
        "id": "L1Arn11hSW-N"
      },
      "source": [
        "### Задание №4\n",
        "Реализуйте следующие аугментации:\n",
        "1. Горизонтальное отражение (Horizontal Flip) с вероятностью применения 30%\n",
        "2. Вращение на угол (Rotate), близкий к 30 градусам, с вероятностью применения около 30%.\n",
        "3. Random Resized Crop - тут выберите нужные параметры самостоятельно.\n",
        "4. Normalize. Нормализовать нужно вдоль трех осей изображения. Среднее и std подсчитайте самостоятельно, используя `train_dataset` (в подсчет статистик _нельзя_ включать `test_dataset`).\n",
        "\n",
        "Используйте библиотеку `albumentations`.\n",
        "Не забудьте, что `albumentations` работает с numpy-массивами.\n",
        "Придется перегонять данные из pytorch в numpy-массивы и обратно:\n",
        "\n",
        "```python\n",
        "np_array = tensor.numpy()\n",
        "tensor_back = torch.from_numpy(np_array)\n",
        "```\n",
        "\n",
        "Сохраните аугментации в переменную `transforms` и сдайте свой код в ЛМС.\n",
        "\n",
        "<details>\n",
        "<summary>Как ваш код будет проверяться</summary>\n",
        "\n",
        "```python\n",
        "import albumentations as A\n",
        "\n",
        "# <Ваш код здесь>\n",
        "\n",
        "# Затем проверки на переменную transforms\n",
        "assert some_check(transforms)\n",
        "assert another_check(transforms)\n",
        "```\n",
        "</details>"
      ]
    },
    {
      "cell_type": "code",
      "execution_count": null,
      "metadata": {
        "id": "f4YzCLbyXcks"
      },
      "outputs": [],
      "source": [
        "import albumentations as A\n",
        "from albumentations.pytorch import ToTensorV2\n",
        "\n",
        "image_size = 32\n",
        "transforms = ..."
      ]
    },
    {
      "cell_type": "code",
      "source": [
        "import albumentations as A\n",
        "\n",
        "image_size = 32\n",
        "\n",
        "transforms = A.Compose([\n",
        "    A.HorizontalFlip(p=0.3),\n",
        "    A.Rotate(limit=30, p=0.3),\n",
        "    A.RandomResizedCrop(image_size, image_size, scale=(0.8, 1.0), p=1.0),\n",
        "    A.Normalize(mean=mean, std=std),\n",
        "    ToTensorV2(),\n",
        "])\n",
        "\n",
        "# Затем проверки на переменную transforms\n",
        "assert some_check(transforms)\n",
        "assert another_check(transforms)"
      ],
      "metadata": {
        "id": "vx032TOorFJT"
      },
      "execution_count": null,
      "outputs": []
    },
    {
      "cell_type": "markdown",
      "metadata": {
        "id": "O14sEttjSW-O"
      },
      "source": [
        "## Аугментации\n",
        "Зачастую аугментации помогают увеличить качество модели.\n",
        "Объясняется это так: аугментация изображений обогащает датасет новыми картинками, сгенерированными из существующих.\n",
        "Переобучения не происходит, потому что мы не просто дублируем изображения, а немного изменяем их.\n",
        "### Задание №5\n",
        "\n",
        "Обучите CNN с использованием аугментаций.\n",
        "Как и в прошлых заданиях, держите обучение до конца - пока loss не выйдет на плато.\n",
        "\n",
        "Ваша задача - получить accuracy выше 76%.\n",
        "Сдайте в ЛМС:\n",
        "- код класса модели. Класс должен называться `SimpleCNNModel`;\n",
        "- .pt файл с обученной моделью;"
      ]
    },
    {
      "cell_type": "code",
      "execution_count": null,
      "metadata": {
        "id": "-bYdzuj2SW-O"
      },
      "outputs": [],
      "source": []
    },
    {
      "cell_type": "markdown",
      "metadata": {
        "id": "TypokOlqSW-O"
      },
      "source": [
        "Аугментации улучшили качество.\n",
        "\n",
        "Заметьте, что нормализацию можно было бы применить и в прошлом пункте, чтобы более честно оценить, какой прирост дали развороты и вращения изображения.\n",
        "Советуем самостоятельно провести эксперимент и увидеть различия.\n",
        "\n",
        "<details>\n",
        "    <summary>Какие результаты ожидать</summary>\n",
        "    У авторов получилось около 73% accuracy при использовании только лишь нормализации. При добавлении остальных аугментаций качество было еще выше.\n",
        "</details>"
      ]
    },
    {
      "cell_type": "markdown",
      "metadata": {
        "id": "i3aO2UJHSW-O"
      },
      "source": [
        "## Transfer learning\n",
        "### Задание №6\n",
        "Transfer learning состоит в том, чтобы взять готовую сеть и дообучить небольшую ее часть.\n",
        "В этом задании мы будем учить FC слой в конце MobileNet.\n",
        "\n",
        "Загрузите предварительно обученную модель из серии `MobileNet`, используйте `MobileNet_V3_large`.\n",
        "\n",
        "Поменяйте ее последний слой (классификатор) на один линейный слой.\n",
        "Обучите все это дело, меняя **только** параметры своего слоя (подумайте, что передавать в оптимизатор).\n",
        "Сохраните обученный слой (и только его) в `model_finetune.pt`.\n",
        "\n",
        "Сдайте в ЛМС .pt файл и код, создающий вашу модель в переменную `model_finetune`.\n",
        "Чтобы сдать это задание, достаточно набрать accuracy > 40%."
      ]
    },
    {
      "cell_type": "code",
      "execution_count": null,
      "metadata": {
        "id": "IhFfdYO8SW-O"
      },
      "outputs": [],
      "source": []
    },
    {
      "cell_type": "code",
      "execution_count": null,
      "metadata": {
        "id": "TlYlG8qQSW-P"
      },
      "outputs": [],
      "source": [
        "print(\n",
        "    \"Суммарное количество параметров:\",\n",
        "    sum(p.nelement() for p in trainable_params),\n",
        ")\n",
        "print(\n",
        "    \"Суммарный размер (Мб) параметров:\",\n",
        "    sum(\n",
        "        parameter.nelement() * parameter.element_size()\n",
        "        for parameter in trainable_params\n",
        "    )\n",
        "    / 1024**2,\n",
        ")"
      ]
    },
    {
      "cell_type": "markdown",
      "metadata": {
        "id": "EnZqHWCvSW-P"
      },
      "source": [
        "Качество, возможно, просело, зато учим намного меньше параметров."
      ]
    },
    {
      "cell_type": "markdown",
      "metadata": {
        "id": "4pkDxEQOSW-P"
      },
      "source": [
        "## Задание №7\n",
        "Возьмите предпоследний слой вашей CNN модели (тот, что до классификатора).\n",
        "Этот слой выдает вектора.\n",
        "\n",
        "Возьмите любой объект из класса 0, подсчитайте его косинусную схождесть со всеми остальными объектами из класса 0, усредните.\n",
        "Затем подсчитайте то же число, только против всех объектов из класса 1, тоже усредните.\n",
        "Отправьте в ЛМС два числа, разделенные запятой. Например, \"1, 1\"."
      ]
    },
    {
      "cell_type": "code",
      "execution_count": null,
      "metadata": {
        "id": "VBfgsnhPSW-P"
      },
      "outputs": [],
      "source": [
        "..."
      ]
    },
    {
      "cell_type": "markdown",
      "metadata": {
        "id": "1rlrmAPxSW-P"
      },
      "source": [
        "#### Небольшой бонус\n",
        "Эмбеддинги можно визуализировать, используя t-SNE.\n",
        "Посмотрите, что получается, попробуйте объяснить картину.\n",
        "\n",
        "Если модель достаточно качественная, то схожие классы должны собираться в одну кучку, при этом у кучек должны прослеживаться границы.\n",
        "Конечно же, не забывайте про выбросы."
      ]
    },
    {
      "cell_type": "code",
      "execution_count": null,
      "metadata": {
        "id": "WkaKhOKqSW-P"
      },
      "outputs": [],
      "source": [
        "from sklearn.manifold import TSNE\n",
        "\n",
        "result = torch.empty((0, 2048))\n",
        "labels = []\n",
        "with torch.no_grad():\n",
        "    embedding_model.cpu()\n",
        "    for x_batch, y_batch in test_loader_augs:\n",
        "        embedding = embedding_model(x_batch).flatten(1)\n",
        "        embedding /= embedding.norm()\n",
        "        result = torch.concat((result, embedding))\n",
        "        labels.extend(y_batch.tolist())\n",
        "\n",
        "tsne = TSNE(random_state=42)\n",
        "plot_data = tsne.fit_transform(result.numpy())"
      ]
    },
    {
      "cell_type": "code",
      "execution_count": null,
      "metadata": {
        "id": "MH13I3AaSW-P"
      },
      "outputs": [],
      "source": [
        "fig, ax = plt.subplots(1, 1, figsize=(16, 9))\n",
        "scatter = ax.scatter(\n",
        "    plot_data[:, 0],\n",
        "    plot_data[:, 1],\n",
        "    c=labels,\n",
        "    cmap=\"viridis\",\n",
        "    edgecolor=\"k\",\n",
        "    s=20,\n",
        "    alpha=1,\n",
        ")\n",
        "plt.colorbar(scatter)"
      ]
    }
  ],
  "metadata": {
    "colab": {
      "provenance": [],
      "gpuType": "T4"
    },
    "kernelspec": {
      "display_name": "Python 3",
      "name": "python3"
    },
    "language_info": {
      "name": "python",
      "version": "3.10.15"
    },
    "accelerator": "GPU"
  },
  "nbformat": 4,
  "nbformat_minor": 0
}